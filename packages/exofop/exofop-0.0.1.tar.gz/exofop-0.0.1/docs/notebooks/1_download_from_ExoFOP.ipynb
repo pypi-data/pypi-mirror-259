{
 "cells": [
  {
   "cell_type": "markdown",
   "metadata": {},
   "source": [
    "# Download tags from ExoFOP\n",
    "\n",
    "This notebook demonstrate how to bulk download time series observations from ExoFOP and then \n",
    "organize the downloaded data."
   ]
  },
  {
   "cell_type": "markdown",
   "metadata": {},
   "source": [
    "## Setup\n",
    "We'll start by importing the necessary modules."
   ]
  },
  {
   "cell_type": "code",
   "execution_count": 1,
   "metadata": {},
   "outputs": [],
   "source": [
    "import numpy as np\n",
    "\n",
    "import exofop\n",
    "from exofop.download import ExoFOPAuthenticator, System, SystemDownloader\n",
    "\n",
    "# For nice logs, we reformat the root loggger's StreamHandler\n",
    "from exofop.utils.logger import configure_root_logger\n",
    "configure_root_logger()"
   ]
  },
  {
   "cell_type": "markdown",
   "metadata": {},
   "source": [
    "## Login to ExoFOP\n",
    "\n",
    "Accessing data on ExoFOP does not necessarily require logging in, but having valid credentials\n",
    "can be beneficial as certain types of data uploaded to ExoFOP are eligible for a proprietary period of 12 months within the tfopwg group.\n",
    "After 12 months, the data become publicly available unless the uploader decides to extend the proprietary period.\n",
    "\n",
    "> ⓘ\n",
    "> If you do not have an account, set `authenticator = None` and continue this tutorial at [Download Observations](#download-observations).\n",
    "\n",
    "\n",
    "### The `ExoFOPAuthenticator` class\n",
    "As one naturally is uncomfortable entering credentials, let's have a look at how it\n",
    "works.\n",
    "`ExoFOPAuthenticator` handles authentication by interacting with the ExoFOP website,\n",
    "storing and managing session cookies, and providing methods to log in,\n",
    "if the session cookies have expired. \n",
    "During initialisation, the class checks if valid cookies are available. If they are not,\n",
    "login is attempted using one of the following methods\n",
    "- provide the username during initialisation and prompt the password during login\n",
    "- use the username and password provided from a credential file\n",
    "\n",
    "The password is never stored in the object, merely the cookies generated upon successful login.\n",
    "\n",
    "So let us initialise an authenticator providing a `username`.\n",
    "Here we have explicitly handed `cookies_dir` its default value, to draw attention to the fact that\n",
    "your cookies will be stored in your local installation of the package unless you specify otherwise.\n",
    "If this installation is shared with other users, you might consider storing your cookies elsewhere,\n",
    "by changing the provided directory path."
   ]
  },
  {
   "cell_type": "code",
   "execution_count": 2,
   "metadata": {},
   "outputs": [
    {
     "name": "stderr",
     "output_type": "stream",
     "text": [
      "INFO:exofop.download.authenticator:Cookies will expire in 2 days, 2:46:22.418284\n"
     ]
    }
   ],
   "source": [
    "authenticator = ExoFOPAuthenticator(\n",
    "    username='lovelace',\n",
    "    cookies_dir=exofop.COOKIES_DIR,  # default\n",
    "    credential_file_path=None,\n",
    "    number_of_cookie_jars=3,\n",
    ")"
   ]
  },
  {
   "cell_type": "markdown",
   "metadata": {},
   "source": [
    "Next, let us log in to our ExoFOP account.\n",
    "\n",
    "If there are no valid cookies for this user name in the specified directory, you will be prompted to enter your password – unless you have initialised the object with a credential file in which you specify your username and password located at `credential_file_path` (see [Note in Appendix](#appendix))."
   ]
  },
  {
   "cell_type": "code",
   "execution_count": 3,
   "metadata": {},
   "outputs": [
    {
     "name": "stderr",
     "output_type": "stream",
     "text": [
      "INFO:exofop.download.authenticator:Cookies are still valid. No need to login.\n"
     ]
    },
    {
     "name": "stdout",
     "output_type": "stream",
     "text": [
      "Login success: True\n",
      "ExoFOPAuthenticator(username=lovelace, number_of_cookie_jars=3, remaining_validity=2 days, 2:46:22.394646)\n"
     ]
    }
   ],
   "source": [
    "success = authenticator.login()\n",
    "print(f'Login success: {success}')\n",
    "\n",
    "print(authenticator)"
   ]
  },
  {
   "cell_type": "markdown",
   "metadata": {},
   "source": [
    "---\n",
    "## Download Observations\n",
    "\n",
    "In the following section, we will download multiple time series observations of a single stellar system.\n",
    "\n",
    "### Identify a system\n",
    "Individual systems are identified in this package using the `System' class, which helps to handle both TIC and TOI identifiers that may be used to refer to the system.\n",
    "\n",
    "The class can be initialised by passing a system name, TIC ID and/or TOI ID.\n",
    "A useful method provided by this class is `autocomplete()`, which completes the missing ID (TIC or TOI) by performing a lookup in a table loaded by ExoFOP."
   ]
  },
  {
   "cell_type": "code",
   "execution_count": 4,
   "metadata": {},
   "outputs": [
    {
     "name": "stdout",
     "output_type": "stream",
     "text": [
      "Target name: 254113311\n",
      "System(name=TOI_1130, tic=TIC_254113311 toi=None)\n"
     ]
    }
   ],
   "source": [
    "# Initialise a system\n",
    "system = System(name='TOI_1130', tic='254113311', toi=None)\n",
    "\n",
    "print(f\"Target name: {system.target}\")\n",
    "print(system)\n",
    "\n",
    "# Alternative ways to initialise a system\n",
    "# As the first argument is name, we could also hand IDs using the prefixes 'TIC' or 'TOI'.\n",
    "# system = System(name=\"TOI-1130\")  # Indicate TOI ID with prefix 'TOI'\n",
    "# system = System(\"TIC_254113311\")  # Indicate TIC ID with prefix 'TIC'\n",
    "\n",
    "# Less recommended is to give an id without prefix, as it requires an extra lookup\n",
    "# System(name=\"254113311\")"
   ]
  },
  {
   "cell_type": "markdown",
   "metadata": {},
   "source": [
    "### Download data from a system\n",
    "\n",
    "Next we initialise a `SystemDownloader`, which is the main object for downloading data from ExoFOP that is associated to a single target.\n",
    "The downloader works asynchronously, that means multiple requests can be done simultaneously, shortening the download speed."
   ]
  },
  {
   "cell_type": "code",
   "execution_count": 5,
   "metadata": {},
   "outputs": [],
   "source": [
    "data_dir = '.'\n",
    "\n",
    "system_loader = SystemDownloader(\n",
    "    system=system,\n",
    "    data_dir=data_dir,\n",
    "    authenticator=authenticator,  # optional\n",
    "    max_concurrent_downloads=5,\n",
    ")"
   ]
  },
  {
   "cell_type": "markdown",
   "metadata": {},
   "source": [
    "Lets have a look at the time series data on ExoFOP for this target."
   ]
  },
  {
   "cell_type": "code",
   "execution_count": 6,
   "metadata": {},
   "outputs": [
    {
     "data": {
      "text/html": [
       "<div><i>Table length=5</i>\n",
       "<table id=\"table4513108080\" class=\"table-striped table-bordered table-condensed\">\n",
       "<thead><tr><th>TIC ID</th><th>TIC</th><th>TOI</th><th>Telescope</th><th>Camera</th><th>Filter</th><th>Pixel Scale</th><th>PSF</th><th>Phot Aperture Rad</th><th>Obs Date</th><th>Obs Duration</th><th>Num Obs</th><th>Obs Type</th><th>Transit Coverage</th><th>Delta Mag</th><th>User</th><th>Group</th><th>Tag</th><th>Notes</th></tr></thead>\n",
       "<thead><tr><th>int64</th><th>int64</th><th>str11</th><th>str24</th><th>str24</th><th>str10</th><th>float64</th><th>float64</th><th>float64</th><th>str10</th><th>float64</th><th>int64</th><th>str10</th><th>str14</th><th>float64</th><th>str9</th><th>str6</th><th>int64</th><th>str52</th></tr></thead>\n",
       "<tr><td>254113311</td><td>--</td><td>TOI 1130.02</td><td>PEST (0.305 m)</td><td>ST-8XME</td><td>Rc</td><td>1.23</td><td>4.48</td><td>7.0</td><td>2020-03-30</td><td>230.0</td><td>184</td><td>Continuous</td><td>Full</td><td>8.3</td><td>tan</td><td>tfopwg</td><td>18493</td><td>--</td></tr>\n",
       "<tr><td>254113311</td><td>--</td><td>TOI 1130.02</td><td>LCO-SSO-1.0m (1.0 m)</td><td>Sinistro, 1.0m</td><td>zs</td><td>0.389</td><td>1.8</td><td>9.0</td><td>2020-03-30</td><td>177.0</td><td>167</td><td>Continuous</td><td>Full</td><td>9.8</td><td>stockdale</td><td>tfopwg</td><td>18598</td><td>--</td></tr>\n",
       "<tr><td>254113311</td><td>--</td><td>TOI 1130.02</td><td>LCO-SSO (1.0 m)</td><td>Sinistro</td><td>zs</td><td>0.39</td><td>2.44</td><td>13.0</td><td>2020-05-14</td><td>205.0</td><td>192</td><td>Continuous</td><td>Full</td><td>7.36</td><td>schwarz</td><td>tfopwg</td><td>19121</td><td>--</td></tr>\n",
       "<tr><td>254113311</td><td>--</td><td>TOI 1130.02</td><td>LCO-SSO-1m0 (1.0 m)</td><td>SINISTRO</td><td>zs</td><td>0.389</td><td>2.1</td><td>6.0</td><td>2020-05-14</td><td>249.0</td><td>235</td><td>Continuous</td><td>Full</td><td>7.3</td><td>conti</td><td>tfopwg</td><td>19188</td><td>--</td></tr>\n",
       "<tr><td>254113311</td><td>--</td><td>TOI 1130.02</td><td>LCO-SAAO-1m0 (1.0 m)</td><td>SINISTRO</td><td>zs</td><td>0.389</td><td>1.81</td><td>15.0</td><td>2020-06-07</td><td>272.0</td><td>260</td><td>Continuous</td><td>Full</td><td>--</td><td>collins</td><td>tfopwg</td><td>19442</td><td>nominal .02 with overlapping .01</td></tr>\n",
       "</table></div>"
      ],
      "text/plain": [
       "<Table length=5>\n",
       "  TIC ID   TIC      TOI     ... Group   Tag               Notes              \n",
       "  int64   int64    str11    ...  str6  int64              str52              \n",
       "--------- ----- ----------- ... ------ ----- --------------------------------\n",
       "254113311    -- TOI 1130.02 ... tfopwg 18493                               --\n",
       "254113311    -- TOI 1130.02 ... tfopwg 18598                               --\n",
       "254113311    -- TOI 1130.02 ... tfopwg 19121                               --\n",
       "254113311    -- TOI 1130.02 ... tfopwg 19188                               --\n",
       "254113311    -- TOI 1130.02 ... tfopwg 19442 nominal .02 with overlapping .01"
      ]
     },
     "execution_count": 6,
     "metadata": {},
     "output_type": "execute_result"
    }
   ],
   "source": [
    "tab = system_loader.time_series.table\n",
    "tab[:5]"
   ]
  },
  {
   "cell_type": "markdown",
   "metadata": {},
   "source": [
    "Note that `astropy.table.Table` can be easily converted to `pd.DataFrames` using `tab.to_pandas()`.\n",
    "\n",
    "Besides the `time_series` data, we can load the following overview tables:\n",
    "- `system_loader.imaging.table`\n",
    "- `system_loader.spectroscopy.table`\n",
    "- `system_loader.light_curve.table`\n",
    "- `system_loader.stellar_parameters.table`\n",
    "- `system_loader.nearby_target.table`\n",
    "\n",
    "We can get the tags given in the tables of any of the above attributes by replacing `table` with `tags`, for example:"
   ]
  },
  {
   "cell_type": "code",
   "execution_count": 7,
   "metadata": {},
   "outputs": [
    {
     "data": {
      "text/plain": [
       "array([  5734,   5903,   6038,   6038,   6384,   6384,  18493,  18598,\n",
       "        19121,  19188,  19261,  19319,  19425,  19429,  19435,  19441,\n",
       "        19442,  19442,  19914,  28680,  28680,  29207,  29208,  29262,\n",
       "        33584,  33677,  96267,  96799,  97594,  97874,  97963,  97967,\n",
       "        97973,  98598,  98692,  98844,  98852,  98881,  99828, 107605,\n",
       "       424251, 428772, 428867, 428875, 429211, 429363, 430115, 431063,\n",
       "       431370, 431371, 431527, 431654, 432164, 432682, 432703, 433095,\n",
       "       433104, 433655, 437156])"
      ]
     },
     "execution_count": 7,
     "metadata": {},
     "output_type": "execute_result"
    }
   ],
   "source": [
    "tags = np.sort(system_loader.time_series.tags)\n",
    "tags"
   ]
  },
  {
   "cell_type": "markdown",
   "metadata": {},
   "source": [
    "Next, let us downlaod the first two of these tags using the `download` method.\n",
    "This will download the `.zip` files to `system_loader.zip_dir`, which lies inside of `system_loader.target_dir`. If `unzip=True`, the `.zip` files will be unpacked to `output_dir`, which defaults to `target_dir`. Therefore, the following lines of code should result in\n",
    "\n",
    "```bash\n",
    "data_dir/  # as given to system_loader\n",
    "\n",
    "├──TOI_1130/  # target_dir, named using `system.name`\n",
    "│   ├── 5734/\n",
    "│   ├── 5903/\n",
    "│   ├── zip/\n",
    "│   │   ├── 5734.zip\n",
    "│   │   ├── 5903.zip\n",
    "```\n",
    "\n",
    "\n",
    "\n",
    "\n",
    "As we are running this code from a Jupyter notebook which always has an open event loop, we need to use `await` before calling the download method. \n",
    "\n",
    "<div class=\"alert alert-block alert-warning\">\n",
    "⚠️ <b>If we were to call this method in a script instead, we would need to omit `await`.</b>\n",
    "</div>\n",
    "\n"
   ]
  },
  {
   "cell_type": "code",
   "execution_count": 8,
   "metadata": {},
   "outputs": [
    {
     "data": {
      "application/vnd.jupyter.widget-view+json": {
       "model_id": "669a36f4df65402a9295bad9f8685fb1",
       "version_major": 2,
       "version_minor": 0
      },
      "text/plain": [
       "Downloading files.:   0%|          | 0/2 [00:00<?, ?it/s]"
      ]
     },
     "metadata": {},
     "output_type": "display_data"
    },
    {
     "name": "stderr",
     "output_type": "stream",
     "text": [
      "INFO:httpx:HTTP Request: GET https://exofop.ipac.caltech.edu/tess/download_tag_files_zip.php?tag=5903 \"HTTP/1.1 200 OK\"\n"
     ]
    },
    {
     "data": {
      "application/vnd.jupyter.widget-view+json": {
       "model_id": "12e62f4e804d4046a47eab3afd542f82",
       "version_major": 2,
       "version_minor": 0
      },
      "text/plain": [
       "Downloading 5903.zip:   0%|          | 0.00/3.81M [00:00<?, ?B/s]"
      ]
     },
     "metadata": {},
     "output_type": "display_data"
    },
    {
     "name": "stderr",
     "output_type": "stream",
     "text": [
      "INFO:exofop.download:file_name='5903.zip': OK\n",
      "ERROR:exofop.download:Request error: \n",
      "WARNING:exofop.download:Retrying download (1/2) for https://exofop.ipac.caltech.edu/tess/download_tag_files_zip.php?tag=5734\n",
      "ERROR:exofop.download:Request error: \n",
      "INFO:exofop.download:file_name='5734.zip': TIMEOUT\n",
      "INFO:exofop.download.downloaders:Downloaded 1 of 2 files (50.0 %) successfully.\n",
      "INFO:exofop.download.downloaders:Successfully downloaded 1 files in 11.568667875 seconds.\n"
     ]
    },
    {
     "name": "stdout",
     "output_type": "stream",
     "text": [
      "Target directory: ./TOI_1130\n"
     ]
    }
   ],
   "source": [
    "await system_loader.download(tags[:2], output_dir=None, unzip=True)  # type: ignore\n",
    "print(f\"Target directory: {system_loader.target_dir}\")"
   ]
  },
  {
   "cell_type": "markdown",
   "metadata": {},
   "source": [
    "### Bulk Loading System Observations\n",
    "For convenience, some methods have been added that download all tags available for a specific type of measurement, e.g.\n",
    "```python\n",
    "def SystemDownloader.download_time_series(output_path=, unzip=True):\n",
    "    tags = self.spectroscopy.tags\n",
    "    if output_path is None:\n",
    "        output_path = os.path.join(self.target_dir, 'time_series')\n",
    "    return self.download(tags=tags, output_path=output_path, unzip=unzip)\n",
    "```\n",
    "`download_imaging` and `download_spectroscopy` behave analogously.\n",
    "\n",
    "Here the resulting file structure will default to the following,\n",
    "in order to facilitate the simultaneous analysis of different types of measurements.\n",
    "```bash\n",
    "TOI_1130/  # target_dir, a subdirectory of the provided `data_dir`, named using `system.name`\n",
    "├── time_series/\n",
    "│   ├── 5734/\n",
    "│   ├── 5903/\n",
    "│   ├── ...\n",
    "├── zip/\n",
    "│   ├── 5734.zip\n",
    "│   ├── 5903.zip\n",
    "│   ├── ...\n",
    "```"
   ]
  },
  {
   "cell_type": "markdown",
   "metadata": {},
   "source": [
    "## Conclusion\n",
    "\n",
    "In this notebook, we've demonstrated how to log in to ExoFOP, select from the available observations for a given system, and\n",
    "bulk download time series observation files. You can now explore and analyze the downloaded data further.\n",
    "\n",
    "Continue with the next tutorial, to learn how to extract and standardise the measurement files of all downloaded observations."
   ]
  },
  {
   "cell_type": "markdown",
   "metadata": {},
   "source": [
    "## Appendix"
   ]
  },
  {
   "cell_type": "markdown",
   "metadata": {},
   "source": [
    "### Note on credential files\n",
    "\n",
    "This package accepts `.txt` files and `.yaml` files as credential files. \n",
    "\n",
    "These files should adhere to the following structures:\n",
    "\n",
    "| `.txt` file | **`.yaml` file** |\n",
    "|-----------|-----------|\n",
    "| <span style=\"color:darkgray\">username=your_username<br>password=your_password </span>| <span style=\"color:darkgray\">username: your_username<br>password: your_password </span>|\n",
    "\n",
    "In terms of security, it's important to note that credential files containing your username and password pose a higher risk than entering your password when prompted. After all, a malicious actor with access to your computer could potentially locate these files, getting your full ExoFOP credentials. On the contrary, cookies have a limited lifespan, typically expiring after a certain period, which, as of the writing of this tutorial, is 7 days for ExoFOP.\n",
    "\n",
    "If you do not want your cookies to be stored on your machine for later usage, \n",
    "you can remove all cookies at the end of a session, by running `authenticator.delete_cookies()`.\n",
    "\n",
    "**TL;DR: For most purposes, entering a password once a week should represent the right balance between convenience and security.**"
   ]
  }
 ],
 "metadata": {
  "kernelspec": {
   "display_name": "MTU",
   "language": "python",
   "name": "python3"
  },
  "language_info": {
   "codemirror_mode": {
    "name": "ipython",
    "version": 3
   },
   "file_extension": ".py",
   "mimetype": "text/x-python",
   "name": "python",
   "nbconvert_exporter": "python",
   "pygments_lexer": "ipython3",
   "version": "3.9.14"
  },
  "orig_nbformat": 4
 },
 "nbformat": 4,
 "nbformat_minor": 2
}
