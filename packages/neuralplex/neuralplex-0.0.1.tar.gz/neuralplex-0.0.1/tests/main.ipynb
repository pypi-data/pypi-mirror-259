{
 "cells": [
  {
   "cell_type": "code",
   "execution_count": null,
   "metadata": {},
   "outputs": [],
   "source": [
    "import random\n",
    "import json\n",
    "from neuralplex import Network, Layer, Perceptron"
   ]
  },
  {
   "cell_type": "code",
   "execution_count": null,
   "metadata": {},
   "outputs": [],
   "source": [
    "l1 = Layer(perceptrons=[\n",
    "    Perceptron(coef=random.randint(0,1)),\n",
    "    Perceptron(coef=random.randint(0,1)),\n",
    "    Perceptron(coef=random.randint(0,1)),\n",
    "    Perceptron(coef=random.randint(0,1))\n",
    "], deg=1)\n",
    "\n",
    "l2 = Layer(perceptrons=[Perceptron(coef=random.randint(0,1)) for i in range(0, 1000)], deg=2)\n",
    "\n",
    "l3 = Layer(perceptrons=[\n",
    "    Perceptron(coef=random.randint(0,1))\n",
    "], deg=1)\n",
    "\n",
    "n1 = Network([l1, l2, l3])\n",
    "\n",
    "for i in range(0, int(1e5*3)):\n",
    "\n",
    "    n = random.randint(1,15)\n",
    "    \n",
    "    binary = [int(i) for i in list('{0:0b}'.format(n))]\n",
    "    \n",
    "    while len(binary) < 4:\n",
    "        binary = [0] + binary\n",
    "\n",
    "    print(binary, n)\n",
    "\n",
    "    n1.epoch(binary, [n])\n",
    "\n",
    "    prediction = n1.predict(binary)\n",
    "\n",
    "    if \n",
    "        print(f'{i} input: {json.dumps(binary)}, truth: {n} prediction: {json.dumps(prediction)}')"
   ]
  },
  {
   "cell_type": "code",
   "execution_count": null,
   "metadata": {},
   "outputs": [],
   "source": []
  }
 ],
 "metadata": {
  "kernelspec": {
   "display_name": "py39",
   "language": "python",
   "name": "python3"
  },
  "language_info": {
   "codemirror_mode": {
    "name": "ipython",
    "version": 3
   },
   "file_extension": ".py",
   "mimetype": "text/x-python",
   "name": "python",
   "nbconvert_exporter": "python",
   "pygments_lexer": "ipython3",
   "version": "3.9.16"
  }
 },
 "nbformat": 4,
 "nbformat_minor": 2
}
