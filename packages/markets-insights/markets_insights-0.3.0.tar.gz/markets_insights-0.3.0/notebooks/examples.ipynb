{
 "cells": [
  {
   "cell_type": "markdown",
   "metadata": {},
   "source": [
    "### Setup"
   ]
  },
  {
   "cell_type": "code",
   "execution_count": 1,
   "metadata": {},
   "outputs": [],
   "source": [
    "import datetime"
   ]
  },
  {
   "cell_type": "code",
   "execution_count": 2,
   "metadata": {},
   "outputs": [],
   "source": [
    "import os\n",
    "pwd = os.path.abspath('.')\n",
    "os.chdir(os.path.join(pwd, '../src/'))"
   ]
  },
  {
   "cell_type": "code",
   "execution_count": 3,
   "metadata": {},
   "outputs": [],
   "source": [
    "%load_ext autoreload\n",
    "%autoreload 2"
   ]
  },
  {
   "cell_type": "markdown",
   "metadata": {},
   "source": [
    "  ### Get Index data for date range"
   ]
  },
  {
   "cell_type": "code",
   "execution_count": 4,
   "metadata": {},
   "outputs": [
    {
     "name": "stderr",
     "output_type": "stream",
     "text": [
      "c:\\Users\\NRohra\\Anaconda3\\lib\\site-packages\\pandas\\core\\arrays\\masked.py:60: UserWarning: Pandas requires version '1.3.6' or newer of 'bottleneck' (version '1.3.4' currently installed).\n",
      "  from pandas.core import (\n"
     ]
    },
    {
     "name": "stdout",
     "output_type": "stream",
     "text": [
      "|    | Identifier    | Index Date   |     Open |    High |     Low |    Close |   Points Change |   Change(%) |      Volume |    Turnover |   P/E |   P/B |   Div Yield | Date                |\n",
      "|---:|:--------------|:-------------|---------:|--------:|--------:|---------:|----------------:|------------:|------------:|------------:|------:|------:|------------:|:--------------------|\n",
      "|  0 | Nifty 50      | 02-01-2023   | 18131.7  | 18215.2 | 18086.5 | 18197.5  |           92.15 |        0.51 | 2.56074e+08 | 1.17931e+11 | 21.9  |  4.27 |        1.26 | 2023-01-02 00:00:00 |\n",
      "|  1 | Nifty Next 50 | 02-01-2023   | 42321.1  | 42409.8 | 42117.7 | 42248.4  |           60.75 |        0.14 | 1.34929e+08 | 4.11122e+10 | 25.67 |  4.79 |        1.76 | 2023-01-02 00:00:00 |\n",
      "|  2 | Nifty 100     | 02-01-2023   | 18290.2  | 18350.9 | 18237.5 | 18334.3  |           75.55 |        0.41 | 3.91003e+08 | 1.59043e+11 | 22.75 |  4.41 |        1.3  | 2023-01-02 00:00:00 |\n",
      "|  3 | Nifty 200     | 02-01-2023   |  9573.55 |  9607.7 |  9544.5 |  9599.75 |           45.3  |        0.47 | 1.39171e+09 | 2.47917e+11 | 22.99 |  4.16 |        1.29 | 2023-01-02 00:00:00 |\n",
      "|  4 | Nifty 500     | 02-01-2023   | 15480    | 15536.4 | 15433.3 | 15523.6  |           74.8  |        0.48 | 2.10034e+09 | 3.3418e+11  | 22.96 |  4.1  |        1.26 | 2023-01-02 00:00:00 |\n"
     ]
    }
   ],
   "source": [
    "from markets_insights.datareader import data_reader\n",
    "import datetime\n",
    "\n",
    "reader = data_reader.NseIndicesReader()\n",
    "\n",
    "daterange_reader = data_reader.DateRangeDataReader(reader)\n",
    "\n",
    "from_date = datetime.date(2023, 1, 1)\n",
    "to_date = datetime.date(2023, 12, 31)\n",
    "result = daterange_reader.read(data_reader.DateRangeCriteria(from_date, to_date))\n",
    "print(result.head(3).to_markdown())"
   ]
  },
  {
   "cell_type": "markdown",
   "metadata": {},
   "source": [
    "### Get daily, monthly and annually aggregrated data\n",
    "In this example we will use HistoricalDataProcessor class to get data between a date range. HistoricalDataProcessor will also do monthly and annual aggregation of data."
   ]
  },
  {
   "cell_type": "code",
   "execution_count": 5,
   "metadata": {},
   "outputs": [
    {
     "name": "stdout",
     "output_type": "stream",
     "text": [
      "Started to read data\n",
      "HistoricalDataProcessor.get_data took 0 seconds\n",
      "HistoricalDataProcessor.get_manual_data took 0 seconds\n",
      "HistoricalDataProcessor.run_base_calculations took 0 seconds\n",
      "Started periodic calculation for Month\n",
      "HistoricalDataProcessor.add_monthly_growth_calc took 0 seconds\n",
      "Started periodic calculation for Year\n",
      "HistoricalDataProcessor.add_yearly_growth_calc took 0 seconds\n"
     ]
    },
    {
     "name": "stderr",
     "output_type": "stream",
     "text": [
      "c:\\Data\\_Personal\\Projects\\markets_insights\\src\\markets_insights\\dataprocess\\data_processor.py:329: FutureWarning: The behavior of DataFrame concatenation with empty or all-NA entries is deprecated. In a future version, this will no longer exclude empty or all-NA columns when determining the result dtypes. To retain the old behavior, exclude the relevant entries before the concat operation.\n",
      "  pd.concat([historical_data, manual_data], ignore_index=True)\n"
     ]
    },
    {
     "name": "stdout",
     "output_type": "stream",
     "text": [
      "HistoricalDataProcessor.process took 1 seconds\n"
     ]
    }
   ],
   "source": [
    "# import classes & setup\n",
    "from markets_insights.dataprocess.data_processor import HistoricalDataProcessor\n",
    "from markets_insights.datareader.data_reader import NseIndicesReader, DateRangeCriteria\n",
    "histDataProcessor = HistoricalDataProcessor()\n",
    "\n",
    "# Fetch and process the data\n",
    "year_start = datetime.date(2023, 12, 1)\n",
    "year_end = datetime.date(2023, 12, 31)\n",
    "result = histDataProcessor.process(NseIndicesReader(), DateRangeCriteria(year_start, year_end))"
   ]
  },
  {
   "cell_type": "code",
   "execution_count": 6,
   "metadata": {},
   "outputs": [
    {
     "name": "stdout",
     "output_type": "stream",
     "text": [
      "|    | Identifier                             | Date                | Month   |      Volume |    Turnover |   Close |     High |     Low |     Open |\n",
      "|---:|:---------------------------------------|:--------------------|:--------|------------:|------------:|--------:|---------:|--------:|---------:|\n",
      "|  0 | INDIA VIX                              | 2023-12-29 00:00:00 | 2023-12 | 0           | 0           |    14.5 |    16.47 |    10.8 |    12.69 |\n",
      "| 78 | NIFTY SMALLCAP250 MOMENTUM QUALITY 100 | 2023-12-29 00:00:00 | 2023-12 | 2.15706e+09 | 5.50912e+11 | 41504   | 41504    | 40304.2 | 40304.2  |\n",
      "| 77 | NIFTY SMALLCAP 50                      | 2023-12-29 00:00:00 | 2023-12 | 7.58478e+09 | 1.22615e+12 |  7132.1 |  7145.2  |  6566.2 |  6571    |\n"
     ]
    }
   ],
   "source": [
    "from markets_insights.core.column_definition import BaseColumns\n",
    "\n",
    "print(result.get_monthly_data().sort_values(BaseColumns.Date).head(3).to_markdown())"
   ]
  },
  {
   "cell_type": "markdown",
   "metadata": {},
   "source": [
    "### Calculation pipeline for RSI"
   ]
  },
  {
   "cell_type": "code",
   "execution_count": 7,
   "metadata": {},
   "outputs": [
    {
     "name": "stdout",
     "output_type": "stream",
     "text": [
      "Started to read data\n",
      "HistoricalDataProcessor.get_data took 1 seconds\n",
      "HistoricalDataProcessor.get_manual_data took 0 seconds\n",
      "HistoricalDataProcessor.run_base_calculations took 17 seconds\n",
      "HistoricalDataProcessor.process took 18 seconds\n"
     ]
    },
    {
     "name": "stderr",
     "output_type": "stream",
     "text": [
      "c:\\Data\\_Personal\\Projects\\markets_insights\\src\\markets_insights\\calculations\\base.py:385: FutureWarning: The behavior of DataFrame concatenation with empty or all-NA entries is deprecated. In a future version, this will no longer exclude empty or all-NA columns when determining the result dtypes. To retain the old behavior, exclude the relevant entries before the concat operation.\n",
      "  result = data.groupby(self.get_group_cols(data.columns), group_keys=True).apply(\n"
     ]
    },
    {
     "name": "stdout",
     "output_type": "stream",
     "text": [
      "RsiCalculationWorker took 8 seconds\n",
      "ColumnValueCrossedAboveFlagWorker took 1 seconds\n",
      "ColumnValueCrossedBelowFlagWorker took 1 seconds\n"
     ]
    }
   ],
   "source": [
    "import datetime\n",
    "from markets_insights.datareader.data_reader import BhavCopyReader, DateRangeCriteria\n",
    "from markets_insights.dataprocess.data_processor import HistoricalDataProcessor, MultiDataCalculationPipelines, CalculationPipelineBuilder, HistoricalDataProcessOptions\n",
    "from markets_insights.calculations.base import DatePartsCalculationWorker\n",
    "\n",
    "reader = BhavCopyReader()\n",
    "options = HistoricalDataProcessOptions()\n",
    "options.include_monthly_data = False\n",
    "options.include_annual_data = False\n",
    "histDataProcessor = HistoricalDataProcessor(options)\n",
    "\n",
    "# Fetch the data\n",
    "year_start = datetime.date(2023, 1, 1)\n",
    "to_date = datetime.date(2023, 12, 31)\n",
    "result = histDataProcessor.process(reader, DateRangeCriteria(year_start, to_date))\n",
    "\n",
    "# Prepare calculation pipeline\n",
    "pipelines = MultiDataCalculationPipelines()\n",
    "pipelines.set_item('rsi', CalculationPipelineBuilder.create_rsi_calculation_pipeline())\n",
    "histDataProcessor.set_calculation_pipelines(pipelines)\n",
    "\n",
    "# Run the pipeline\n",
    "histDataProcessor.run_calculation_pipelines()"
   ]
  },
  {
   "cell_type": "code",
   "execution_count": 8,
   "metadata": {},
   "outputs": [
    {
     "name": "stdout",
     "output_type": "stream",
     "text": [
      "|        | Identifier   | Date                |   Close |     Rsi |\n",
      "|-------:|:-------------|:--------------------|--------:|--------:|\n",
      "| 148631 | GULFOILLUB   | 2023-12-29 00:00:00 |  718.45 | 62.6257 |\n",
      "| 326542 | RAMASTEEL    | 2023-12-29 00:00:00 |   36    | 40.4125 |\n",
      "| 446904 | ZYDUSWELL    | 2023-12-29 00:00:00 | 1681.1  | 72.0326 |\n"
     ]
    }
   ],
   "source": [
    "from markets_insights.core.column_definition import BaseColumns, CalculatedColumns\n",
    "\n",
    "print(result.get_daily_data().sort_values(BaseColumns.Date).tail(3)[[BaseColumns.Identifier, BaseColumns.Date, BaseColumns.Close, CalculatedColumns.RelativeStrengthIndex]].to_markdown())"
   ]
  },
  {
   "cell_type": "markdown",
   "metadata": {},
   "source": [
    "### Test Calculation"
   ]
  },
  {
   "cell_type": "code",
   "execution_count": 9,
   "metadata": {},
   "outputs": [
    {
     "name": "stdout",
     "output_type": "stream",
     "text": [
      "Started to read data\n",
      "HistoricalDataProcessor.get_data took 1 seconds\n",
      "HistoricalDataProcessor.get_manual_data took 0 seconds\n",
      "HistoricalDataProcessor.run_base_calculations took 4 seconds\n",
      "HistoricalDataProcessor.process took 5 seconds\n",
      "SmaCalculationWorker took 0 seconds\n",
      "ColumnValueAboveAnotherColumnValueFlagWorker took 0 seconds\n"
     ]
    },
    {
     "data": {
      "text/html": [
       "<div>\n",
       "<style scoped>\n",
       "    .dataframe tbody tr th:only-of-type {\n",
       "        vertical-align: middle;\n",
       "    }\n",
       "\n",
       "    .dataframe tbody tr th {\n",
       "        vertical-align: top;\n",
       "    }\n",
       "\n",
       "    .dataframe thead th {\n",
       "        text-align: right;\n",
       "    }\n",
       "</style>\n",
       "<table border=\"1\" class=\"dataframe\">\n",
       "  <thead>\n",
       "    <tr style=\"text-align: right;\">\n",
       "      <th></th>\n",
       "      <th>Identifier</th>\n",
       "      <th>Date</th>\n",
       "      <th>Sma50</th>\n",
       "      <th>CloseAboveSma50</th>\n",
       "    </tr>\n",
       "  </thead>\n",
       "  <tbody>\n",
       "    <tr>\n",
       "      <th>87401</th>\n",
       "      <td>CHEMPLASTS</td>\n",
       "      <td>2023-12-14</td>\n",
       "      <td>461.192</td>\n",
       "      <td>True</td>\n",
       "    </tr>\n",
       "    <tr>\n",
       "      <th>87404</th>\n",
       "      <td>AARTIPHARM</td>\n",
       "      <td>2023-12-14</td>\n",
       "      <td>417.221</td>\n",
       "      <td>True</td>\n",
       "    </tr>\n",
       "    <tr>\n",
       "      <th>87406</th>\n",
       "      <td>360ONE</td>\n",
       "      <td>2023-12-14</td>\n",
       "      <td>555.223</td>\n",
       "      <td>True</td>\n",
       "    </tr>\n",
       "    <tr>\n",
       "      <th>87407</th>\n",
       "      <td>ABSLAMC</td>\n",
       "      <td>2023-12-14</td>\n",
       "      <td>448.659</td>\n",
       "      <td>True</td>\n",
       "    </tr>\n",
       "    <tr>\n",
       "      <th>87408</th>\n",
       "      <td>AARTISURF</td>\n",
       "      <td>2023-12-14</td>\n",
       "      <td>615.411</td>\n",
       "      <td>True</td>\n",
       "    </tr>\n",
       "    <tr>\n",
       "      <th>...</th>\n",
       "      <td>...</td>\n",
       "      <td>...</td>\n",
       "      <td>...</td>\n",
       "      <td>...</td>\n",
       "    </tr>\n",
       "    <tr>\n",
       "      <th>107288</th>\n",
       "      <td>ZUARI</td>\n",
       "      <td>2023-12-29</td>\n",
       "      <td>165.276</td>\n",
       "      <td>True</td>\n",
       "    </tr>\n",
       "    <tr>\n",
       "      <th>107289</th>\n",
       "      <td>ZENSARTECH</td>\n",
       "      <td>2023-12-29</td>\n",
       "      <td>533.377</td>\n",
       "      <td>True</td>\n",
       "    </tr>\n",
       "    <tr>\n",
       "      <th>107290</th>\n",
       "      <td>WSTCSTPAPR</td>\n",
       "      <td>2023-12-29</td>\n",
       "      <td>706.422</td>\n",
       "      <td>True</td>\n",
       "    </tr>\n",
       "    <tr>\n",
       "      <th>107292</th>\n",
       "      <td>VPRPL</td>\n",
       "      <td>2023-12-29</td>\n",
       "      <td>204.410</td>\n",
       "      <td>True</td>\n",
       "    </tr>\n",
       "    <tr>\n",
       "      <th>107295</th>\n",
       "      <td>VRLLOG</td>\n",
       "      <td>2023-12-29</td>\n",
       "      <td>704.721</td>\n",
       "      <td>True</td>\n",
       "    </tr>\n",
       "  </tbody>\n",
       "</table>\n",
       "<p>13649 rows × 4 columns</p>\n",
       "</div>"
      ],
      "text/plain": [
       "        Identifier       Date    Sma50  CloseAboveSma50\n",
       "87401   CHEMPLASTS 2023-12-14  461.192             True\n",
       "87404   AARTIPHARM 2023-12-14  417.221             True\n",
       "87406       360ONE 2023-12-14  555.223             True\n",
       "87407      ABSLAMC 2023-12-14  448.659             True\n",
       "87408    AARTISURF 2023-12-14  615.411             True\n",
       "...            ...        ...      ...              ...\n",
       "107288       ZUARI 2023-12-29  165.276             True\n",
       "107289  ZENSARTECH 2023-12-29  533.377             True\n",
       "107290  WSTCSTPAPR 2023-12-29  706.422             True\n",
       "107292       VPRPL 2023-12-29  204.410             True\n",
       "107295      VRLLOG 2023-12-29  704.721             True\n",
       "\n",
       "[13649 rows x 4 columns]"
      ]
     },
     "execution_count": 9,
     "metadata": {},
     "output_type": "execute_result"
    }
   ],
   "source": [
    "from markets_insights.core.column_definition import BaseColumns\n",
    "from markets_insights.calculations.base import SmaCalculationWorker, \\\n",
    "  ColumnValueAboveAnotherColumnValueFlagWorker\n",
    "from markets_insights.core.core import FlagFilter\n",
    "from markets_insights.datareader.data_reader import BhavCopyReader, DateRangeCriteria\n",
    "from markets_insights.dataprocess.data_processor import HistoricalDataset, HistoricalDataProcessor, HistoricalDataProcessOptions, \\\n",
    "  CalculationPipelineBuilder, MultiDataCalculationPipelines\n",
    "\n",
    "from datetime import date\n",
    "\n",
    "processor = HistoricalDataProcessor(HistoricalDataProcessOptions(include_annual_data=False, include_monthly_data=False))\n",
    "result: HistoricalDataset = processor.process(\n",
    "    BhavCopyReader(),#.set_filter(IdentifierFilter(\"INFY\")),\n",
    "    DateRangeCriteria(date(2023, 10, 1), date(2023, 12, 31)),\n",
    ")\n",
    "result._daily.drop_duplicates(inplace=True)\n",
    "\n",
    "workers = [\n",
    "  SmaCalculationWorker(time_window=50),\n",
    "  ColumnValueAboveAnotherColumnValueFlagWorker(value_column_a=BaseColumns.Close, value_column_b='Sma50')\n",
    "]\n",
    "\n",
    "# Prepare calculation pipeline\n",
    "pipelines = MultiDataCalculationPipelines()\n",
    "pipelines.set_item(\n",
    "    \"user\", CalculationPipelineBuilder.create_pipeline_for_workers(workers)\n",
    ")\n",
    "processor.set_calculation_pipelines(pipelines)\n",
    "\n",
    "# Run the pipeline and get data\n",
    "processor.run_calculation_pipelines()\n",
    "daily_data = result.get_daily_data()\n",
    "data = daily_data.query(str(FlagFilter(workers[1].get_columns()[0])))\n",
    "data[['Identifier', 'Date', 'Sma50', workers[1].get_columns()[0]]]\n"
   ]
  },
  {
   "cell_type": "code",
   "execution_count": 8,
   "metadata": {},
   "outputs": [
    {
     "data": {
      "text/html": [
       "<div>\n",
       "<style scoped>\n",
       "    .dataframe tbody tr th:only-of-type {\n",
       "        vertical-align: middle;\n",
       "    }\n",
       "\n",
       "    .dataframe tbody tr th {\n",
       "        vertical-align: top;\n",
       "    }\n",
       "\n",
       "    .dataframe thead th {\n",
       "        text-align: right;\n",
       "    }\n",
       "</style>\n",
       "<table border=\"1\" class=\"dataframe\">\n",
       "  <thead>\n",
       "    <tr style=\"text-align: right;\">\n",
       "      <th></th>\n",
       "      <th>Identifier</th>\n",
       "      <th>Date</th>\n",
       "      <th>Sma50</th>\n",
       "      <th>CloseAboveSma50</th>\n",
       "    </tr>\n",
       "  </thead>\n",
       "  <tbody>\n",
       "    <tr>\n",
       "      <th>0</th>\n",
       "      <td>OSWALAGRO</td>\n",
       "      <td>2023-10-03</td>\n",
       "      <td>NaN</td>\n",
       "      <td>False</td>\n",
       "    </tr>\n",
       "    <tr>\n",
       "      <th>1</th>\n",
       "      <td>ORIENTPPR</td>\n",
       "      <td>2023-10-03</td>\n",
       "      <td>NaN</td>\n",
       "      <td>False</td>\n",
       "    </tr>\n",
       "    <tr>\n",
       "      <th>2</th>\n",
       "      <td>PAKKA</td>\n",
       "      <td>2023-10-03</td>\n",
       "      <td>NaN</td>\n",
       "      <td>False</td>\n",
       "    </tr>\n",
       "    <tr>\n",
       "      <th>3</th>\n",
       "      <td>PAISALO</td>\n",
       "      <td>2023-10-03</td>\n",
       "      <td>NaN</td>\n",
       "      <td>False</td>\n",
       "    </tr>\n",
       "    <tr>\n",
       "      <th>4</th>\n",
       "      <td>ORIENTHOT</td>\n",
       "      <td>2023-10-03</td>\n",
       "      <td>NaN</td>\n",
       "      <td>False</td>\n",
       "    </tr>\n",
       "    <tr>\n",
       "      <th>...</th>\n",
       "      <td>...</td>\n",
       "      <td>...</td>\n",
       "      <td>...</td>\n",
       "      <td>...</td>\n",
       "    </tr>\n",
       "    <tr>\n",
       "      <th>109019</th>\n",
       "      <td>YATHARTH</td>\n",
       "      <td>2023-12-29</td>\n",
       "      <td>382.476</td>\n",
       "      <td>False</td>\n",
       "    </tr>\n",
       "    <tr>\n",
       "      <th>109026</th>\n",
       "      <td>ZEEMEDIA</td>\n",
       "      <td>2023-12-29</td>\n",
       "      <td>15.184</td>\n",
       "      <td>False</td>\n",
       "    </tr>\n",
       "    <tr>\n",
       "      <th>109029</th>\n",
       "      <td>ZIMLAB</td>\n",
       "      <td>2023-12-29</td>\n",
       "      <td>116.195</td>\n",
       "      <td>False</td>\n",
       "    </tr>\n",
       "    <tr>\n",
       "      <th>109030</th>\n",
       "      <td>ZODIACLOTH</td>\n",
       "      <td>2023-12-29</td>\n",
       "      <td>132.779</td>\n",
       "      <td>False</td>\n",
       "    </tr>\n",
       "    <tr>\n",
       "      <th>109040</th>\n",
       "      <td>VASCONEQ</td>\n",
       "      <td>2023-12-29</td>\n",
       "      <td>75.307</td>\n",
       "      <td>False</td>\n",
       "    </tr>\n",
       "  </tbody>\n",
       "</table>\n",
       "<p>93647 rows × 4 columns</p>\n",
       "</div>"
      ],
      "text/plain": [
       "        Identifier       Date    Sma50  CloseAboveSma50\n",
       "0        OSWALAGRO 2023-10-03      NaN            False\n",
       "1        ORIENTPPR 2023-10-03      NaN            False\n",
       "2            PAKKA 2023-10-03      NaN            False\n",
       "3          PAISALO 2023-10-03      NaN            False\n",
       "4        ORIENTHOT 2023-10-03      NaN            False\n",
       "...            ...        ...      ...              ...\n",
       "109019    YATHARTH 2023-12-29  382.476            False\n",
       "109026    ZEEMEDIA 2023-12-29   15.184            False\n",
       "109029      ZIMLAB 2023-12-29  116.195            False\n",
       "109030  ZODIACLOTH 2023-12-29  132.779            False\n",
       "109040    VASCONEQ 2023-12-29   75.307            False\n",
       "\n",
       "[93647 rows x 4 columns]"
      ]
     },
     "execution_count": 8,
     "metadata": {},
     "output_type": "execute_result"
    }
   ],
   "source": [
    "daily_data[daily_data[workers[1].get_columns()[0]] == False][['Identifier', 'Date', 'Sma50', workers[1].get_columns()[0]]]"
   ]
  },
  {
   "cell_type": "code",
   "execution_count": 15,
   "metadata": {},
   "outputs": [
    {
     "data": {
      "text/html": [
       "<div>\n",
       "<style scoped>\n",
       "    .dataframe tbody tr th:only-of-type {\n",
       "        vertical-align: middle;\n",
       "    }\n",
       "\n",
       "    .dataframe tbody tr th {\n",
       "        vertical-align: top;\n",
       "    }\n",
       "\n",
       "    .dataframe thead th {\n",
       "        text-align: right;\n",
       "    }\n",
       "</style>\n",
       "<table border=\"1\" class=\"dataframe\">\n",
       "  <thead>\n",
       "    <tr style=\"text-align: right;\">\n",
       "      <th></th>\n",
       "      <th>Identifier</th>\n",
       "      <th>Date</th>\n",
       "      <th>CloseCrossedBelowSma50</th>\n",
       "    </tr>\n",
       "  </thead>\n",
       "  <tbody>\n",
       "    <tr>\n",
       "      <th>446701</th>\n",
       "      <td>STERTOOLS</td>\n",
       "      <td>2023-12-28</td>\n",
       "      <td>True</td>\n",
       "    </tr>\n",
       "    <tr>\n",
       "      <th>446743</th>\n",
       "      <td>SHAKTIPUMP</td>\n",
       "      <td>2023-12-28</td>\n",
       "      <td>True</td>\n",
       "    </tr>\n",
       "    <tr>\n",
       "      <th>446790</th>\n",
       "      <td>AAVAS</td>\n",
       "      <td>2023-12-28</td>\n",
       "      <td>True</td>\n",
       "    </tr>\n",
       "    <tr>\n",
       "      <th>446810</th>\n",
       "      <td>ABFRL</td>\n",
       "      <td>2023-12-28</td>\n",
       "      <td>True</td>\n",
       "    </tr>\n",
       "    <tr>\n",
       "      <th>446814</th>\n",
       "      <td>AGARIND</td>\n",
       "      <td>2023-12-28</td>\n",
       "      <td>True</td>\n",
       "    </tr>\n",
       "    <tr>\n",
       "      <th>446835</th>\n",
       "      <td>AMBER</td>\n",
       "      <td>2023-12-28</td>\n",
       "      <td>True</td>\n",
       "    </tr>\n",
       "    <tr>\n",
       "      <th>446866</th>\n",
       "      <td>BALKRISIND</td>\n",
       "      <td>2023-12-28</td>\n",
       "      <td>True</td>\n",
       "    </tr>\n",
       "    <tr>\n",
       "      <th>446915</th>\n",
       "      <td>CMSINFO</td>\n",
       "      <td>2023-12-28</td>\n",
       "      <td>True</td>\n",
       "    </tr>\n",
       "    <tr>\n",
       "      <th>446956</th>\n",
       "      <td>ASTRAL</td>\n",
       "      <td>2023-12-28</td>\n",
       "      <td>True</td>\n",
       "    </tr>\n",
       "    <tr>\n",
       "      <th>446980</th>\n",
       "      <td>ABSLLIQUID</td>\n",
       "      <td>2023-12-28</td>\n",
       "      <td>True</td>\n",
       "    </tr>\n",
       "  </tbody>\n",
       "</table>\n",
       "</div>"
      ],
      "text/plain": [
       "        Identifier       Date  CloseCrossedBelowSma50\n",
       "446701   STERTOOLS 2023-12-28                    True\n",
       "446743  SHAKTIPUMP 2023-12-28                    True\n",
       "446790       AAVAS 2023-12-28                    True\n",
       "446810       ABFRL 2023-12-28                    True\n",
       "446814     AGARIND 2023-12-28                    True\n",
       "446835       AMBER 2023-12-28                    True\n",
       "446866  BALKRISIND 2023-12-28                    True\n",
       "446915     CMSINFO 2023-12-28                    True\n",
       "446956      ASTRAL 2023-12-28                    True\n",
       "446980  ABSLLIQUID 2023-12-28                    True"
      ]
     },
     "execution_count": 15,
     "metadata": {},
     "output_type": "execute_result"
    }
   ],
   "source": [
    "data[['Identifier', 'Date', workers[1].get_columns()[0]]].tail(10)"
   ]
  },
  {
   "cell_type": "code",
   "execution_count": 63,
   "metadata": {},
   "outputs": [
    {
     "data": {
      "text/html": [
       "<div>\n",
       "<style scoped>\n",
       "    .dataframe tbody tr th:only-of-type {\n",
       "        vertical-align: middle;\n",
       "    }\n",
       "\n",
       "    .dataframe tbody tr th {\n",
       "        vertical-align: top;\n",
       "    }\n",
       "\n",
       "    .dataframe thead th {\n",
       "        text-align: right;\n",
       "    }\n",
       "</style>\n",
       "<table border=\"1\" class=\"dataframe\">\n",
       "  <thead>\n",
       "    <tr style=\"text-align: right;\">\n",
       "      <th></th>\n",
       "      <th>InstrumentType</th>\n",
       "      <th>Identifier</th>\n",
       "      <th>ExpiryDate</th>\n",
       "      <th>StrkPric</th>\n",
       "      <th>OptionType</th>\n",
       "      <th>PreviousClose</th>\n",
       "      <th>Open</th>\n",
       "      <th>High</th>\n",
       "      <th>Low</th>\n",
       "      <th>Close</th>\n",
       "      <th>...</th>\n",
       "      <th>LftmLw</th>\n",
       "      <th>UnitOfMeasr</th>\n",
       "      <th>TtlNbOfTxsExctd</th>\n",
       "      <th>Ccy</th>\n",
       "      <th>Rsvd01</th>\n",
       "      <th>Rsvd02</th>\n",
       "      <th>Rsvd03</th>\n",
       "      <th>Rsvd04</th>\n",
       "      <th>Rsvd05</th>\n",
       "      <th>Date</th>\n",
       "    </tr>\n",
       "  </thead>\n",
       "  <tbody>\n",
       "    <tr>\n",
       "      <th>0</th>\n",
       "      <td>FUTSTK</td>\n",
       "      <td>INDIACEM</td>\n",
       "      <td>28-Mar-2024</td>\n",
       "      <td>0.0</td>\n",
       "      <td>XX</td>\n",
       "      <td>243.20</td>\n",
       "      <td>246.85</td>\n",
       "      <td>246.85</td>\n",
       "      <td>243.55</td>\n",
       "      <td>243.55</td>\n",
       "      <td>...</td>\n",
       "      <td>NaN</td>\n",
       "      <td>NaN</td>\n",
       "      <td>NaN</td>\n",
       "      <td>NaN</td>\n",
       "      <td>NaN</td>\n",
       "      <td>NaN</td>\n",
       "      <td>NaN</td>\n",
       "      <td>NaN</td>\n",
       "      <td>NaN</td>\n",
       "      <td>2024-02-21</td>\n",
       "    </tr>\n",
       "    <tr>\n",
       "      <th>1</th>\n",
       "      <td>FUTSTK</td>\n",
       "      <td>INDIACEM</td>\n",
       "      <td>29-Feb-2024</td>\n",
       "      <td>0.0</td>\n",
       "      <td>XX</td>\n",
       "      <td>242.45</td>\n",
       "      <td>245.00</td>\n",
       "      <td>247.60</td>\n",
       "      <td>240.10</td>\n",
       "      <td>241.95</td>\n",
       "      <td>...</td>\n",
       "      <td>NaN</td>\n",
       "      <td>NaN</td>\n",
       "      <td>NaN</td>\n",
       "      <td>NaN</td>\n",
       "      <td>NaN</td>\n",
       "      <td>NaN</td>\n",
       "      <td>NaN</td>\n",
       "      <td>NaN</td>\n",
       "      <td>NaN</td>\n",
       "      <td>2024-02-21</td>\n",
       "    </tr>\n",
       "    <tr>\n",
       "      <th>2</th>\n",
       "      <td>FUTSTK</td>\n",
       "      <td>INDIACEM</td>\n",
       "      <td>25-Apr-2024</td>\n",
       "      <td>0.0</td>\n",
       "      <td>XX</td>\n",
       "      <td>251.50</td>\n",
       "      <td>0.00</td>\n",
       "      <td>0.00</td>\n",
       "      <td>0.00</td>\n",
       "      <td>251.50</td>\n",
       "      <td>...</td>\n",
       "      <td>NaN</td>\n",
       "      <td>NaN</td>\n",
       "      <td>NaN</td>\n",
       "      <td>NaN</td>\n",
       "      <td>NaN</td>\n",
       "      <td>NaN</td>\n",
       "      <td>NaN</td>\n",
       "      <td>NaN</td>\n",
       "      <td>NaN</td>\n",
       "      <td>2024-02-21</td>\n",
       "    </tr>\n",
       "  </tbody>\n",
       "</table>\n",
       "<p>3 rows × 39 columns</p>\n",
       "</div>"
      ],
      "text/plain": [
       "  InstrumentType Identifier   ExpiryDate  StrkPric OptionType  PreviousClose  \\\n",
       "0         FUTSTK   INDIACEM  28-Mar-2024       0.0         XX         243.20   \n",
       "1         FUTSTK   INDIACEM  29-Feb-2024       0.0         XX         242.45   \n",
       "2         FUTSTK   INDIACEM  25-Apr-2024       0.0         XX         251.50   \n",
       "\n",
       "     Open    High     Low   Close  ...  LftmLw  UnitOfMeasr  TtlNbOfTxsExctd  \\\n",
       "0  246.85  246.85  243.55  243.55  ...     NaN          NaN              NaN   \n",
       "1  245.00  247.60  240.10  241.95  ...     NaN          NaN              NaN   \n",
       "2    0.00    0.00    0.00  251.50  ...     NaN          NaN              NaN   \n",
       "\n",
       "   Ccy  Rsvd01  Rsvd02  Rsvd03 Rsvd04  Rsvd05       Date  \n",
       "0  NaN     NaN     NaN     NaN    NaN     NaN 2024-02-21  \n",
       "1  NaN     NaN     NaN     NaN    NaN     NaN 2024-02-21  \n",
       "2  NaN     NaN     NaN     NaN    NaN     NaN 2024-02-21  \n",
       "\n",
       "[3 rows x 39 columns]"
      ]
     },
     "execution_count": 63,
     "metadata": {},
     "output_type": "execute_result"
    }
   ],
   "source": [
    "from markets_insights.core.core import IdentifierFilter, InstrumentTypeFilter\n",
    "from markets_insights.datareader.data_reader import BhavCopyReader, NseDerivatiesReader\n",
    "\n",
    "\n",
    "from datetime import date\n",
    "\n",
    "cash_reader = BhavCopyReader().set_filter(IdentifierFilter(\"INDIACEM\"))\n",
    "filters = IdentifierFilter(\"INDIACEM\") & InstrumentTypeFilter('FUTSTK')\n",
    "fut_reader = NseDerivatiesReader().set_filter(filters)\n",
    "\n",
    "premium_reader = cash_reader - fut_reader\n",
    "\n",
    "#filters.get_query()\n",
    "fut_reader.read(date(2024, 2, 21))"
   ]
  },
  {
   "cell_type": "code",
   "execution_count": 36,
   "metadata": {},
   "outputs": [
    {
     "data": {
      "text/plain": [
       "Date\n",
       "2024-01-01     611.533333\n",
       "2024-01-02     612.100000\n",
       "2024-01-03     607.966667\n",
       "2024-01-04     609.716667\n",
       "2024-01-05     608.516667\n",
       "2024-01-08     603.566667\n",
       "2024-01-09     620.850000\n",
       "2024-01-10     607.750000\n",
       "2024-01-11     606.133333\n",
       "2024-01-12     603.416667\n",
       "2024-01-15     598.300000\n",
       "2024-01-16     589.366667\n",
       "2024-01-17     581.783333\n",
       "2024-01-18     583.216667\n",
       "2024-01-19     582.133333\n",
       "2024-01-23     575.683333\n",
       "2024-01-24     580.250000\n",
       "2024-01-25     578.316667\n",
       "2024-01-29     575.516667\n",
       "2024-01-30     579.866667\n",
       "2024-01-31     597.750000\n",
       "2024-02-01     610.466667\n",
       "2024-02-02     615.850000\n",
       "2024-02-05     615.866667\n",
       "2024-02-06     617.033333\n",
       "2024-02-07     615.900000\n",
       "2024-02-08     613.950000\n",
       "2024-02-09     604.583333\n",
       "2024-02-12     678.100000\n",
       "2024-02-13     732.600000\n",
       "2024-02-14     819.433333\n",
       "2024-02-15     919.433333\n",
       "2024-02-16     930.283333\n",
       "2024-02-19     981.083333\n",
       "2024-02-20    1007.583333\n",
       "Name: VWAP_D, dtype: float64"
      ]
     },
     "execution_count": 36,
     "metadata": {},
     "output_type": "execute_result"
    }
   ],
   "source": [
    "from markets_insights.core.column_definition import BaseColumns\n",
    "import pandas as pd\n",
    "import pandas_ta as pd_ta\n",
    "\n",
    "data = pd.DataFrame(daily_data.tail(100))\n",
    "data.index = data[BaseColumns.Date]\n",
    "pd_ta.vwap(\n",
    "  close=data[BaseColumns.Close],\n",
    "  high=data[BaseColumns.High],\n",
    "  low=data[BaseColumns.Low],\n",
    "  volume=data[BaseColumns.Volume],\n",
    ")"
   ]
  },
  {
   "cell_type": "code",
   "execution_count": 16,
   "metadata": {},
   "outputs": [],
   "source": [
    "from markets_insights.core.column_definition import BaseColumns\n",
    "daily_data = result.get_daily_data()\n",
    "\n",
    "if len(daily_data[BaseColumns.Identifier].unique()) > 1:\n",
    "    data = daily_data.groupby(BaseColumns.Identifier)\n",
    "    data.apply(\n",
    "        lambda x: x[BaseColumns.Turnover].rolling(50).sum()\n",
    "        / x.rolling(50)[BaseColumns.Volume].sum()\n",
    "    ) \\\n",
    "    .reset_index(level=0, drop=True)\n",
    "else:\n",
    "    daily_data[BaseColumns.Turnover].rolling(50).sum() / daily_data[BaseColumns.Volume].rolling(50).sum()"
   ]
  },
  {
   "cell_type": "code",
   "execution_count": 17,
   "metadata": {},
   "outputs": [
    {
     "data": {
      "text/plain": [
       "0              NaN\n",
       "1              NaN\n",
       "2              NaN\n",
       "3              NaN\n",
       "4              NaN\n",
       "          ...     \n",
       "241    2390.315815\n",
       "242    2393.762796\n",
       "243    2397.837564\n",
       "244    2403.204247\n",
       "245    2407.309569\n",
       "Length: 246, dtype: float64"
      ]
     },
     "execution_count": 17,
     "metadata": {},
     "output_type": "execute_result"
    }
   ],
   "source": [
    "daily_data[BaseColumns.Turnover].rolling(50).sum() / daily_data[BaseColumns.Volume].rolling(50).sum()"
   ]
  },
  {
   "cell_type": "markdown",
   "metadata": {},
   "source": [
    "### A real use case: Understand the affect of RSI and Stochastic RSI on price\n",
    "In this use case, understand the affect of RSI and Stochastic RSI on price\n",
    "\n",
    "#### Preparing the data\n",
    "We perform below steps to prepare our analysis data\n",
    "- Calculate RSI for each day for all the stocks.\n",
    "- Add a flag for whenever the RSI crosses the control limits (eg: above 75 and below 30)\n",
    "- Calculate the highest and lowest price change in the next 1, 3, 5, 7 & 10 trading sessions.\n",
    "- Find the median for highest price change and lowest price change whenever the RSI crosses the control limits."
   ]
  },
  {
   "cell_type": "code",
   "execution_count": 11,
   "metadata": {},
   "outputs": [
    {
     "name": "stdout",
     "output_type": "stream",
     "text": [
      "Started to read data\n",
      "HistoricalDataProcessor.get_data took 1 seconds\n",
      "HistoricalDataProcessor.get_manual_data took 0 seconds\n",
      "HistoricalDataProcessor.run_base_calculations took 17 seconds\n",
      "HistoricalDataProcessor.process took 18 seconds\n"
     ]
    }
   ],
   "source": [
    "# import classes\n",
    "from markets_insights.datareader.data_reader import BhavCopyReader, DateRangeCriteria\n",
    "\n",
    "# Fetch the data\n",
    "year_start = datetime.date(2023, 1, 1)\n",
    "to_date = datetime.date(2023, 12, 31)\n",
    "result = histDataProcessor.process(BhavCopyReader(), DateRangeCriteria(year_start, to_date))"
   ]
  },
  {
   "cell_type": "code",
   "execution_count": 12,
   "metadata": {},
   "outputs": [
    {
     "name": "stderr",
     "output_type": "stream",
     "text": [
      "c:\\Data\\_Personal\\Projects\\markets_insights\\src\\markets_insights\\calculations\\base.py:385: FutureWarning: The behavior of DataFrame concatenation with empty or all-NA entries is deprecated. In a future version, this will no longer exclude empty or all-NA columns when determining the result dtypes. To retain the old behavior, exclude the relevant entries before the concat operation.\n",
      "  result = data.groupby(self.get_group_cols(data.columns), group_keys=True).apply(\n"
     ]
    },
    {
     "name": "stdout",
     "output_type": "stream",
     "text": [
      "RsiCalculationWorker took 8 seconds\n",
      "ColumnValueCrossedAboveFlagWorker took 1 seconds\n",
      "ColumnValueCrossedBelowFlagWorker took 1 seconds\n",
      "StochRsiCalculationWorker took 11 seconds\n",
      "ColumnValueCrossedAboveFlagWorker took 1 seconds\n",
      "ColumnValueCrossedAboveFlagWorker took 1 seconds\n",
      "ColumnValueCrossedBelowFlagWorker took 1 seconds\n",
      "ColumnValueCrossedBelowFlagWorker took 1 seconds\n",
      "LowestPriceInNextNDaysCalculationWorker took 1 seconds\n",
      "LowestPriceInNextNDaysCalculationWorker took 1 seconds\n",
      "LowestPriceInNextNDaysCalculationWorker took 1 seconds\n",
      "LowestPriceInNextNDaysCalculationWorker took 1 seconds\n",
      "LowestPriceInNextNDaysCalculationWorker took 1 seconds\n",
      "HighestPriceInNextNDaysCalculationWorker took 1 seconds\n",
      "HighestPriceInNextNDaysCalculationWorker took 1 seconds\n",
      "HighestPriceInNextNDaysCalculationWorker took 1 seconds\n",
      "HighestPriceInNextNDaysCalculationWorker took 1 seconds\n",
      "HighestPriceInNextNDaysCalculationWorker took 1 seconds\n"
     ]
    }
   ],
   "source": [
    "# prepare calculation pipeline\n",
    "periods = [1, 7, 15, 30, 45]\n",
    "\n",
    "pipelines = MultiDataCalculationPipelines()\n",
    "pipelines.set_item('rsi', CalculationPipelineBuilder.create_rsi_calculation_pipeline(crossing_above_flag_value = 75, crossing_below_flag_value = 30, window = 14))\n",
    "pipelines.set_item('stoch_rsi', CalculationPipelineBuilder.create_stoch_rsi_calculation_pipeline(crossing_above_flag_value = 80, crossing_below_flag_value = 20, window = 14))\n",
    "pipelines.set_item('foward_looking_fall', CalculationPipelineBuilder.create_forward_looking_price_fall_pipeline(periods))\n",
    "pipelines.set_item('foward_looking_rise', CalculationPipelineBuilder.create_forward_looking_price_rise_pipeline(periods))\n",
    "histDataProcessor.set_calculation_pipelines(pipelines=pipelines)\n",
    "\n",
    "# run the pipeline and show results\n",
    "histDataProcessor.run_calculation_pipelines()\n",
    "\n",
    "daily_data = result.get_daily_data()\n",
    "\n",
    "# Import constants so its easier to refer to column names\n",
    "from markets_insights.core.column_definition import BaseColumns, CalculatedColumns\n",
    "\n",
    "# get names of fwd looking price column names. Since, these column names are auto-generated there no constants for them\n",
    "fwd_looking_price_fall_cols, fwd_looking_price_rise_cols = [x for x in daily_data.columns if 'HighestPercFallInNext' in x], \\\n",
    "    [x for x in daily_data.columns if 'HighestPercRiseInNext' in x]"
   ]
  },
  {
   "cell_type": "code",
   "execution_count": 13,
   "metadata": {},
   "outputs": [
    {
     "data": {
      "text/plain": [
       "Series([], dtype: float64)"
      ]
     },
     "execution_count": 13,
     "metadata": {},
     "output_type": "execute_result"
    }
   ],
   "source": [
    "daily_data[\n",
    "(daily_data[CalculatedColumns.RsiCrossedAbove])\n",
    "][fwd_looking_price_fall_cols].median()"
   ]
  },
  {
   "cell_type": "code",
   "execution_count": 14,
   "metadata": {},
   "outputs": [
    {
     "data": {
      "text/plain": [
       "Series([], dtype: float64)"
      ]
     },
     "execution_count": 14,
     "metadata": {},
     "output_type": "execute_result"
    }
   ],
   "source": [
    "daily_data[\n",
    "(daily_data[CalculatedColumns.RsiCrossedBelow])\n",
    "][fwd_looking_price_rise_cols].median()"
   ]
  },
  {
   "cell_type": "markdown",
   "metadata": {},
   "source": [
    "### Performing Arithmetic on Readers"
   ]
  },
  {
   "cell_type": "code",
   "execution_count": 16,
   "metadata": {},
   "outputs": [],
   "source": [
    "from markets_insights.core.core import InstrumentTypeFilter\n",
    "from markets_insights.datareader.data_reader import BhavCopyReader, NseDerivatiesReader, NseIndicesReader, ForDateCriteria\n",
    "from markets_insights.core.core import IdentifierFilter\n",
    "\n",
    "for_date = datetime.date(2023, 12, 5)"
   ]
  },
  {
   "cell_type": "code",
   "execution_count": 17,
   "metadata": {},
   "outputs": [],
   "source": [
    "indices_reader = NseIndicesReader()\n",
    "vix_reader = NseIndicesReader().set_filter(IdentifierFilter(\"India VIX\"))\n",
    "op_reader = indices_reader / vix_reader\n",
    "data = op_reader.read(ForDateCriteria(for_date)).query(str(IdentifierFilter(\"Nifty 50 / India VIX\")))"
   ]
  },
  {
   "cell_type": "markdown",
   "metadata": {},
   "source": [
    "### Extended Data Reader for Nasdaq"
   ]
  },
  {
   "cell_type": "code",
   "execution_count": 19,
   "metadata": {},
   "outputs": [],
   "source": [
    "import yfinance as yf\n",
    "import pandas\n",
    "from markets_insights.datareader.data_reader import DateRangeDataReader\n",
    "from markets_insights.core.core import Instrumentation\n",
    "from markets_insights.core.column_definition import BaseColumns"
   ]
  },
  {
   "cell_type": "code",
   "execution_count": 21,
   "metadata": {},
   "outputs": [],
   "source": [
    "class NasdaqDataReader (DateRangeDataReader):\n",
    "  def __init__(self, tickers: list = ['AAPL', 'GOOGL', 'MSFT', 'AMZN', 'META', 'TSLA', 'NVDA']):\n",
    "    super().__init__(reader=None)\n",
    "    self.tickers = tickers\n",
    "    self.name = \"NasdaqDataReader\"\n",
    "\n",
    "  @Instrumentation.trace(name=\"NasdaqDataReader.read\")\n",
    "  def read(self, criteria: DateRangeCriteria):\n",
    "    df_list = list()\n",
    "    for ticker in self.tickers:\n",
    "        data = yf.download(ticker, group_by=\"Ticker\", start=criteria.from_date, end=criteria.to_date)\n",
    "        data['ticker'] = ticker\n",
    "        df_list.append(data)\n",
    "\n",
    "    # combine all dataframes into a single dataframe\n",
    "    df = pandas.concat(df_list)\n",
    "\n",
    "    final_data = df.reset_index().rename(columns = self.get_column_name_mappings())\n",
    "    final_data[BaseColumns.Date] = pandas.to_datetime(final_data[BaseColumns.Date])\n",
    "    return final_data\n",
    "  \n",
    "  def get_column_name_mappings(self):\n",
    "    return {\n",
    "      'ticker': BaseColumns.Identifier,\n",
    "      'OPEN': BaseColumns.Open,\n",
    "      'HIGH': BaseColumns.High,\n",
    "      'LOW': BaseColumns.Low,\n",
    "      'CLOSE': BaseColumns.Close\n",
    "    }"
   ]
  },
  {
   "cell_type": "code",
   "execution_count": 23,
   "metadata": {},
   "outputs": [
    {
     "name": "stdout",
     "output_type": "stream",
     "text": [
      "Started to read data\n",
      "Reading data from 2023-01-02 to 2023-12-29\n"
     ]
    },
    {
     "name": "stderr",
     "output_type": "stream",
     "text": [
      "Failed to get ticker 'AAPL' reason: HTTPSConnectionPool(host='fc.yahoo.com', port=443): Max retries exceeded with url: / (Caused by SSLError(SSLCertVerificationError(1, '[SSL: CERTIFICATE_VERIFY_FAILED] certificate verify failed: certificate has expired (_ssl.c:1129)')))\n",
      "[*********************100%%**********************]  1 of 1 completed\n",
      "\n",
      "1 Failed download:\n",
      "['AAPL']: Exception('%ticker%: No timezone found, symbol may be delisted')\n",
      "Failed to get ticker 'GOOGL' reason: HTTPSConnectionPool(host='fc.yahoo.com', port=443): Max retries exceeded with url: / (Caused by SSLError(SSLCertVerificationError(1, '[SSL: CERTIFICATE_VERIFY_FAILED] certificate verify failed: certificate has expired (_ssl.c:1129)')))\n",
      "[*********************100%%**********************]  1 of 1 completed\n",
      "\n",
      "1 Failed download:\n",
      "['GOOGL']: Exception('%ticker%: No timezone found, symbol may be delisted')\n",
      "Failed to get ticker 'MSFT' reason: HTTPSConnectionPool(host='fc.yahoo.com', port=443): Max retries exceeded with url: / (Caused by SSLError(SSLCertVerificationError(1, '[SSL: CERTIFICATE_VERIFY_FAILED] certificate verify failed: certificate has expired (_ssl.c:1129)')))\n",
      "[*********************100%%**********************]  1 of 1 completed\n",
      "\n",
      "1 Failed download:\n",
      "['MSFT']: Exception('%ticker%: No timezone found, symbol may be delisted')\n",
      "Failed to get ticker 'AMZN' reason: HTTPSConnectionPool(host='fc.yahoo.com', port=443): Max retries exceeded with url: / (Caused by SSLError(SSLCertVerificationError(1, '[SSL: CERTIFICATE_VERIFY_FAILED] certificate verify failed: certificate has expired (_ssl.c:1129)')))\n",
      "[*********************100%%**********************]  1 of 1 completed\n",
      "\n",
      "1 Failed download:\n",
      "['AMZN']: Exception('%ticker%: No timezone found, symbol may be delisted')\n",
      "Failed to get ticker 'META' reason: HTTPSConnectionPool(host='fc.yahoo.com', port=443): Max retries exceeded with url: / (Caused by SSLError(SSLCertVerificationError(1, '[SSL: CERTIFICATE_VERIFY_FAILED] certificate verify failed: certificate has expired (_ssl.c:1129)')))\n",
      "[*********************100%%**********************]  1 of 1 completed\n",
      "\n",
      "1 Failed download:\n",
      "['META']: Exception('%ticker%: No timezone found, symbol may be delisted')\n",
      "Failed to get ticker 'TSLA' reason: HTTPSConnectionPool(host='fc.yahoo.com', port=443): Max retries exceeded with url: / (Caused by SSLError(SSLCertVerificationError(1, '[SSL: CERTIFICATE_VERIFY_FAILED] certificate verify failed: certificate has expired (_ssl.c:1129)')))\n",
      "[*********************100%%**********************]  1 of 1 completed\n",
      "\n",
      "1 Failed download:\n",
      "['TSLA']: Exception('%ticker%: No timezone found, symbol may be delisted')\n",
      "Failed to get ticker 'NVDA' reason: HTTPSConnectionPool(host='fc.yahoo.com', port=443): Max retries exceeded with url: / (Caused by SSLError(SSLCertVerificationError(1, '[SSL: CERTIFICATE_VERIFY_FAILED] certificate verify failed: certificate has expired (_ssl.c:1129)')))\n",
      "[*********************100%%**********************]  1 of 1 completed\n",
      "\n",
      "1 Failed download:\n",
      "['NVDA']: Exception('%ticker%: No timezone found, symbol may be delisted')\n"
     ]
    },
    {
     "name": "stdout",
     "output_type": "stream",
     "text": [
      "NasdaqDataReader.read took 3 seconds\n",
      "Saving data to file: ../../_data/processed/historical/NasdaqDataReader.csv\n",
      "HistoricalDataProcessor.get_data took 3 seconds\n",
      "HistoricalDataProcessor.get_manual_data took 0 seconds\n",
      "HistoricalDataProcessor.run_base_calculations took 0 seconds\n",
      "HistoricalDataProcessor.process took 3 seconds\n",
      "DatePartsCalculationWorker took 0 seconds\n",
      "RsiCalculationWorker took 0 seconds\n"
     ]
    },
    {
     "ename": "KeyError",
     "evalue": "'Column not found: Rsi'",
     "output_type": "error",
     "traceback": [
      "\u001b[1;31m---------------------------------------------------------------------------\u001b[0m",
      "\u001b[1;31mKeyError\u001b[0m                                  Traceback (most recent call last)",
      "Input \u001b[1;32mIn [23]\u001b[0m, in \u001b[0;36m<cell line: 24>\u001b[1;34m()\u001b[0m\n\u001b[0;32m     21\u001b[0m histDataProcessor\u001b[38;5;241m.\u001b[39mset_calculation_pipelines(pipelines)\n\u001b[0;32m     23\u001b[0m \u001b[38;5;66;03m# Run the pipeline\u001b[39;00m\n\u001b[1;32m---> 24\u001b[0m \u001b[43mhistDataProcessor\u001b[49m\u001b[38;5;241;43m.\u001b[39;49m\u001b[43mrun_calculation_pipelines\u001b[49m\u001b[43m(\u001b[49m\u001b[43m)\u001b[49m\n",
      "File \u001b[1;32mc:\\Data\\_Personal\\Projects\\markets_insights\\src\\markets_insights\\dataprocess\\data_processor.py:300\u001b[0m, in \u001b[0;36mHistoricalDataProcessor.run_calculation_pipelines\u001b[1;34m(self)\u001b[0m\n\u001b[0;32m    299\u001b[0m \u001b[38;5;28;01mdef\u001b[39;00m \u001b[38;5;21mrun_calculation_pipelines\u001b[39m(\u001b[38;5;28mself\u001b[39m):\n\u001b[1;32m--> 300\u001b[0m     daily_data \u001b[38;5;241m=\u001b[39m \u001b[38;5;28;43mself\u001b[39;49m\u001b[38;5;241;43m.\u001b[39;49m\u001b[43mcalculation_pipelines\u001b[49m\u001b[38;5;241;43m.\u001b[39;49m\u001b[43mrun\u001b[49m\u001b[43m(\u001b[49m\u001b[38;5;28;43mself\u001b[39;49m\u001b[38;5;241;43m.\u001b[39;49m\u001b[43mdataset\u001b[49m\u001b[38;5;241;43m.\u001b[39;49m\u001b[43mget_daily_data\u001b[49m\u001b[43m(\u001b[49m\u001b[43m)\u001b[49m\u001b[43m)\u001b[49m\n\u001b[0;32m    301\u001b[0m     \u001b[38;5;28;01mif\u001b[39;00m daily_data \u001b[38;5;129;01mis\u001b[39;00m \u001b[38;5;129;01mnot\u001b[39;00m \u001b[38;5;28;01mNone\u001b[39;00m:\n\u001b[0;32m    302\u001b[0m         \u001b[38;5;28mself\u001b[39m\u001b[38;5;241m.\u001b[39mdataset\u001b[38;5;241m.\u001b[39mset_daily_data(daily_data)\n",
      "File \u001b[1;32mc:\\Data\\_Personal\\Projects\\markets_insights\\src\\markets_insights\\dataprocess\\data_processor.py:205\u001b[0m, in \u001b[0;36mMultiDataCalculationPipelines.run\u001b[1;34m(self, data)\u001b[0m\n\u001b[0;32m    203\u001b[0m \u001b[38;5;28;01mdef\u001b[39;00m \u001b[38;5;21mrun\u001b[39m(\u001b[38;5;28mself\u001b[39m, data):\n\u001b[0;32m    204\u001b[0m     \u001b[38;5;28;01mfor\u001b[39;00m key \u001b[38;5;129;01min\u001b[39;00m \u001b[38;5;28mself\u001b[39m\u001b[38;5;241m.\u001b[39m_store:\n\u001b[1;32m--> 205\u001b[0m         result \u001b[38;5;241m=\u001b[39m \u001b[38;5;28;43mself\u001b[39;49m\u001b[38;5;241;43m.\u001b[39;49m\u001b[43m_store\u001b[49m\u001b[43m[\u001b[49m\u001b[43mkey\u001b[49m\u001b[43m]\u001b[49m\u001b[38;5;241;43m.\u001b[39;49m\u001b[43mrun\u001b[49m\u001b[43m(\u001b[49m\u001b[43mdata\u001b[49m\u001b[43m)\u001b[49m\n\u001b[0;32m    206\u001b[0m         \u001b[38;5;28;01mif\u001b[39;00m result \u001b[38;5;129;01mis\u001b[39;00m \u001b[38;5;129;01mnot\u001b[39;00m \u001b[38;5;28;01mNone\u001b[39;00m:\n\u001b[0;32m    207\u001b[0m             data \u001b[38;5;241m=\u001b[39m result\n",
      "File \u001b[1;32mc:\\Data\\_Personal\\Projects\\markets_insights\\src\\markets_insights\\calculations\\base.py:76\u001b[0m, in \u001b[0;36mCalculationPipeline.run\u001b[1;34m(self, data)\u001b[0m\n\u001b[0;32m     74\u001b[0m \u001b[38;5;28;01mdef\u001b[39;00m \u001b[38;5;21mrun\u001b[39m(\u001b[38;5;28mself\u001b[39m, data: pd\u001b[38;5;241m.\u001b[39mDataFrame):\n\u001b[0;32m     75\u001b[0m     \u001b[38;5;28;01mfor\u001b[39;00m worker \u001b[38;5;129;01min\u001b[39;00m \u001b[38;5;28mself\u001b[39m\u001b[38;5;241m.\u001b[39m_pipeline:\n\u001b[1;32m---> 76\u001b[0m         result \u001b[38;5;241m=\u001b[39m \u001b[43mworker\u001b[49m\u001b[38;5;241;43m.\u001b[39;49m\u001b[43madd_calculated_columns\u001b[49m\u001b[43m(\u001b[49m\u001b[43mdata\u001b[49m\u001b[43m)\u001b[49m\n\u001b[0;32m     77\u001b[0m         \u001b[38;5;28;01mif\u001b[39;00m result \u001b[38;5;129;01mis\u001b[39;00m \u001b[38;5;129;01mnot\u001b[39;00m \u001b[38;5;28;01mNone\u001b[39;00m:\n\u001b[0;32m     78\u001b[0m             data \u001b[38;5;241m=\u001b[39m result\n",
      "File \u001b[1;32mc:\\Data\\_Personal\\Projects\\markets_insights\\src\\markets_insights\\core\\core.py:72\u001b[0m, in \u001b[0;36mInstrumentation.trace.<locals>.decorator.<locals>.wrapper\u001b[1;34m(*args, **kwargs)\u001b[0m\n\u001b[0;32m     70\u001b[0m \u001b[38;5;28;01mdef\u001b[39;00m \u001b[38;5;21mwrapper\u001b[39m(\u001b[38;5;241m*\u001b[39margs, \u001b[38;5;241m*\u001b[39m\u001b[38;5;241m*\u001b[39mkwargs):\n\u001b[0;32m     71\u001b[0m     tracer \u001b[38;5;241m=\u001b[39m Instrumentation\u001b[38;5;241m.\u001b[39mstartTracing(name)\n\u001b[1;32m---> 72\u001b[0m     result \u001b[38;5;241m=\u001b[39m function(\u001b[38;5;241m*\u001b[39margs, \u001b[38;5;241m*\u001b[39m\u001b[38;5;241m*\u001b[39mkwargs)\n\u001b[0;32m     73\u001b[0m     tracer\u001b[38;5;241m.\u001b[39mendTracing()\n\u001b[0;32m     74\u001b[0m     \u001b[38;5;28;01mreturn\u001b[39;00m result\n",
      "File \u001b[1;32mc:\\Data\\_Personal\\Projects\\markets_insights\\src\\markets_insights\\calculations\\base.py:93\u001b[0m, in \u001b[0;36mColumnValueCrossedAboveFlagWorker.add_calculated_columns\u001b[1;34m(self, data)\u001b[0m\n\u001b[0;32m     90\u001b[0m \u001b[38;5;129m@Instrumentation\u001b[39m\u001b[38;5;241m.\u001b[39mtrace(name\u001b[38;5;241m=\u001b[39m\u001b[38;5;124m\"\u001b[39m\u001b[38;5;124mColumnValueCrossedAboveFlagWorker\u001b[39m\u001b[38;5;124m\"\u001b[39m)\n\u001b[0;32m     91\u001b[0m \u001b[38;5;28;01mdef\u001b[39;00m \u001b[38;5;21madd_calculated_columns\u001b[39m(\u001b[38;5;28mself\u001b[39m, data: pd\u001b[38;5;241m.\u001b[39mDataFrame):\n\u001b[0;32m     92\u001b[0m     identifier_grouped_data \u001b[38;5;241m=\u001b[39m data\u001b[38;5;241m.\u001b[39mgroupby(\u001b[38;5;28mself\u001b[39m\u001b[38;5;241m.\u001b[39mget_group_cols(data\u001b[38;5;241m.\u001b[39mcolumns))\n\u001b[1;32m---> 93\u001b[0m     data[\u001b[38;5;28mself\u001b[39m\u001b[38;5;241m.\u001b[39m_columns[\u001b[38;5;241m0\u001b[39m]] \u001b[38;5;241m=\u001b[39m \u001b[43midentifier_grouped_data\u001b[49m\u001b[43m[\u001b[49m\u001b[38;5;28;43mself\u001b[39;49m\u001b[38;5;241;43m.\u001b[39;49m\u001b[43m_params\u001b[49m\u001b[43m[\u001b[49m\u001b[38;5;124;43m'\u001b[39;49m\u001b[38;5;124;43mvalue_column\u001b[39;49m\u001b[38;5;124;43m'\u001b[39;49m\u001b[43m]\u001b[49m\u001b[43m]\u001b[49m\u001b[38;5;241m.\u001b[39mtransform(\n\u001b[0;32m     94\u001b[0m         \u001b[38;5;28;01mlambda\u001b[39;00m x: (x\u001b[38;5;241m.\u001b[39mshift(\u001b[38;5;241m1\u001b[39m) \u001b[38;5;241m<\u001b[39m \u001b[38;5;28mself\u001b[39m\u001b[38;5;241m.\u001b[39m_params[\u001b[38;5;124m'\u001b[39m\u001b[38;5;124mvalue\u001b[39m\u001b[38;5;124m'\u001b[39m]) \u001b[38;5;241m&\u001b[39m (x \u001b[38;5;241m>\u001b[39m\u001b[38;5;241m=\u001b[39m \u001b[38;5;28mself\u001b[39m\u001b[38;5;241m.\u001b[39m_params[\u001b[38;5;124m'\u001b[39m\u001b[38;5;124mvalue\u001b[39m\u001b[38;5;124m'\u001b[39m])\n\u001b[0;32m     95\u001b[0m     )\n",
      "File \u001b[1;32mc:\\Users\\NRohra\\Anaconda3\\lib\\site-packages\\pandas\\core\\groupby\\generic.py:1951\u001b[0m, in \u001b[0;36mDataFrameGroupBy.__getitem__\u001b[1;34m(self, key)\u001b[0m\n\u001b[0;32m   1944\u001b[0m \u001b[38;5;28;01mif\u001b[39;00m \u001b[38;5;28misinstance\u001b[39m(key, \u001b[38;5;28mtuple\u001b[39m) \u001b[38;5;129;01mand\u001b[39;00m \u001b[38;5;28mlen\u001b[39m(key) \u001b[38;5;241m>\u001b[39m \u001b[38;5;241m1\u001b[39m:\n\u001b[0;32m   1945\u001b[0m     \u001b[38;5;66;03m# if len == 1, then it becomes a SeriesGroupBy and this is actually\u001b[39;00m\n\u001b[0;32m   1946\u001b[0m     \u001b[38;5;66;03m# valid syntax, so don't raise\u001b[39;00m\n\u001b[0;32m   1947\u001b[0m     \u001b[38;5;28;01mraise\u001b[39;00m \u001b[38;5;167;01mValueError\u001b[39;00m(\n\u001b[0;32m   1948\u001b[0m         \u001b[38;5;124m\"\u001b[39m\u001b[38;5;124mCannot subset columns with a tuple with more than one element. \u001b[39m\u001b[38;5;124m\"\u001b[39m\n\u001b[0;32m   1949\u001b[0m         \u001b[38;5;124m\"\u001b[39m\u001b[38;5;124mUse a list instead.\u001b[39m\u001b[38;5;124m\"\u001b[39m\n\u001b[0;32m   1950\u001b[0m     )\n\u001b[1;32m-> 1951\u001b[0m \u001b[38;5;28;01mreturn\u001b[39;00m \u001b[38;5;28;43msuper\u001b[39;49m\u001b[43m(\u001b[49m\u001b[43m)\u001b[49m\u001b[38;5;241;43m.\u001b[39;49m\u001b[38;5;21;43m__getitem__\u001b[39;49m\u001b[43m(\u001b[49m\u001b[43mkey\u001b[49m\u001b[43m)\u001b[49m\n",
      "File \u001b[1;32mc:\\Users\\NRohra\\Anaconda3\\lib\\site-packages\\pandas\\core\\base.py:244\u001b[0m, in \u001b[0;36mSelectionMixin.__getitem__\u001b[1;34m(self, key)\u001b[0m\n\u001b[0;32m    242\u001b[0m \u001b[38;5;28;01melse\u001b[39;00m:\n\u001b[0;32m    243\u001b[0m     \u001b[38;5;28;01mif\u001b[39;00m key \u001b[38;5;129;01mnot\u001b[39;00m \u001b[38;5;129;01min\u001b[39;00m \u001b[38;5;28mself\u001b[39m\u001b[38;5;241m.\u001b[39mobj:\n\u001b[1;32m--> 244\u001b[0m         \u001b[38;5;28;01mraise\u001b[39;00m \u001b[38;5;167;01mKeyError\u001b[39;00m(\u001b[38;5;124mf\u001b[39m\u001b[38;5;124m\"\u001b[39m\u001b[38;5;124mColumn not found: \u001b[39m\u001b[38;5;132;01m{\u001b[39;00mkey\u001b[38;5;132;01m}\u001b[39;00m\u001b[38;5;124m\"\u001b[39m)\n\u001b[0;32m    245\u001b[0m     ndim \u001b[38;5;241m=\u001b[39m \u001b[38;5;28mself\u001b[39m\u001b[38;5;241m.\u001b[39mobj[key]\u001b[38;5;241m.\u001b[39mndim\n\u001b[0;32m    246\u001b[0m     \u001b[38;5;28;01mreturn\u001b[39;00m \u001b[38;5;28mself\u001b[39m\u001b[38;5;241m.\u001b[39m_gotitem(key, ndim\u001b[38;5;241m=\u001b[39mndim)\n",
      "\u001b[1;31mKeyError\u001b[0m: 'Column not found: Rsi'"
     ]
    }
   ],
   "source": [
    "# import classes & setup options\n",
    "import datetime\n",
    "from markets_insights.dataprocess.data_processor import HistoricalDataProcessor, MultiDataCalculationPipelines, CalculationPipelineBuilder, HistoricalDataProcessOptions, DateRangeCriteria\n",
    "from markets_insights.calculations.base import DatePartsCalculationWorker\n",
    "\n",
    "reader = NasdaqDataReader()\n",
    "options = HistoricalDataProcessOptions()\n",
    "options.include_monthly_data = False\n",
    "options.include_annual_data = False\n",
    "histDataProcessor = HistoricalDataProcessor(options)\n",
    "\n",
    "# Fetch the data\n",
    "year_start = datetime.date(2023, 1, 1)\n",
    "to_date = datetime.date(2023, 12, 31)\n",
    "result = histDataProcessor.process(reader, DateRangeCriteria(year_start, to_date))\n",
    "\n",
    "# Prepare calculation pipeline\n",
    "pipelines = MultiDataCalculationPipelines()\n",
    "pipelines.set_item('date_parts', CalculationPipelineBuilder.create_pipeline_for_worker(DatePartsCalculationWorker()))\n",
    "pipelines.set_item('rsi', CalculationPipelineBuilder.create_rsi_calculation_pipeline())\n",
    "histDataProcessor.set_calculation_pipelines(pipelines)\n",
    "\n",
    "# Run the pipeline\n",
    "histDataProcessor.run_calculation_pipelines()"
   ]
  },
  {
   "cell_type": "code",
   "execution_count": 9,
   "metadata": {},
   "outputs": [
    {
     "ename": "KeyError",
     "evalue": "\"['PreviousClose', 'Turnover (Rs. Cr.)', 'TOTTRDQTY'] not in index\"",
     "output_type": "error",
     "traceback": [
      "\u001b[1;31m---------------------------------------------------------------------------\u001b[0m",
      "\u001b[1;31mKeyError\u001b[0m                                  Traceback (most recent call last)",
      "Input \u001b[1;32mIn [9]\u001b[0m, in \u001b[0;36m<cell line: 2>\u001b[1;34m()\u001b[0m\n\u001b[0;32m      1\u001b[0m \u001b[38;5;28;01mfrom\u001b[39;00m \u001b[38;5;21;01mmarkets_insights\u001b[39;00m\u001b[38;5;21;01m.\u001b[39;00m\u001b[38;5;21;01mcore\u001b[39;00m\u001b[38;5;21;01m.\u001b[39;00m\u001b[38;5;21;01mcore\u001b[39;00m \u001b[38;5;28;01mimport\u001b[39;00m TypeHelper\n\u001b[1;32m----> 2\u001b[0m \u001b[43mresult\u001b[49m\u001b[38;5;241;43m.\u001b[39;49m\u001b[43mget_daily_data\u001b[49m\u001b[43m(\u001b[49m\u001b[43m)\u001b[49m\u001b[43m[\u001b[49m\u001b[43mTypeHelper\u001b[49m\u001b[38;5;241;43m.\u001b[39;49m\u001b[43mget_class_static_values\u001b[49m\u001b[43m(\u001b[49m\u001b[43mBaseColumns\u001b[49m\u001b[43m)\u001b[49m\u001b[43m]\u001b[49m\u001b[38;5;241m.\u001b[39mtail(\u001b[38;5;241m5\u001b[39m)\n",
      "File \u001b[1;32mc:\\Users\\NRohra\\Anaconda3\\lib\\site-packages\\pandas\\core\\frame.py:3813\u001b[0m, in \u001b[0;36mDataFrame.__getitem__\u001b[1;34m(self, key)\u001b[0m\n\u001b[0;32m   3811\u001b[0m     \u001b[38;5;28;01mif\u001b[39;00m is_iterator(key):\n\u001b[0;32m   3812\u001b[0m         key \u001b[38;5;241m=\u001b[39m \u001b[38;5;28mlist\u001b[39m(key)\n\u001b[1;32m-> 3813\u001b[0m     indexer \u001b[38;5;241m=\u001b[39m \u001b[38;5;28;43mself\u001b[39;49m\u001b[38;5;241;43m.\u001b[39;49m\u001b[43mcolumns\u001b[49m\u001b[38;5;241;43m.\u001b[39;49m\u001b[43m_get_indexer_strict\u001b[49m\u001b[43m(\u001b[49m\u001b[43mkey\u001b[49m\u001b[43m,\u001b[49m\u001b[43m \u001b[49m\u001b[38;5;124;43m\"\u001b[39;49m\u001b[38;5;124;43mcolumns\u001b[39;49m\u001b[38;5;124;43m\"\u001b[39;49m\u001b[43m)\u001b[49m[\u001b[38;5;241m1\u001b[39m]\n\u001b[0;32m   3815\u001b[0m \u001b[38;5;66;03m# take() does not accept boolean indexers\u001b[39;00m\n\u001b[0;32m   3816\u001b[0m \u001b[38;5;28;01mif\u001b[39;00m \u001b[38;5;28mgetattr\u001b[39m(indexer, \u001b[38;5;124m\"\u001b[39m\u001b[38;5;124mdtype\u001b[39m\u001b[38;5;124m\"\u001b[39m, \u001b[38;5;28;01mNone\u001b[39;00m) \u001b[38;5;241m==\u001b[39m \u001b[38;5;28mbool\u001b[39m:\n",
      "File \u001b[1;32mc:\\Users\\NRohra\\Anaconda3\\lib\\site-packages\\pandas\\core\\indexes\\base.py:6070\u001b[0m, in \u001b[0;36mIndex._get_indexer_strict\u001b[1;34m(self, key, axis_name)\u001b[0m\n\u001b[0;32m   6067\u001b[0m \u001b[38;5;28;01melse\u001b[39;00m:\n\u001b[0;32m   6068\u001b[0m     keyarr, indexer, new_indexer \u001b[38;5;241m=\u001b[39m \u001b[38;5;28mself\u001b[39m\u001b[38;5;241m.\u001b[39m_reindex_non_unique(keyarr)\n\u001b[1;32m-> 6070\u001b[0m \u001b[38;5;28;43mself\u001b[39;49m\u001b[38;5;241;43m.\u001b[39;49m\u001b[43m_raise_if_missing\u001b[49m\u001b[43m(\u001b[49m\u001b[43mkeyarr\u001b[49m\u001b[43m,\u001b[49m\u001b[43m \u001b[49m\u001b[43mindexer\u001b[49m\u001b[43m,\u001b[49m\u001b[43m \u001b[49m\u001b[43maxis_name\u001b[49m\u001b[43m)\u001b[49m\n\u001b[0;32m   6072\u001b[0m keyarr \u001b[38;5;241m=\u001b[39m \u001b[38;5;28mself\u001b[39m\u001b[38;5;241m.\u001b[39mtake(indexer)\n\u001b[0;32m   6073\u001b[0m \u001b[38;5;28;01mif\u001b[39;00m \u001b[38;5;28misinstance\u001b[39m(key, Index):\n\u001b[0;32m   6074\u001b[0m     \u001b[38;5;66;03m# GH 42790 - Preserve name from an Index\u001b[39;00m\n",
      "File \u001b[1;32mc:\\Users\\NRohra\\Anaconda3\\lib\\site-packages\\pandas\\core\\indexes\\base.py:6133\u001b[0m, in \u001b[0;36mIndex._raise_if_missing\u001b[1;34m(self, key, indexer, axis_name)\u001b[0m\n\u001b[0;32m   6130\u001b[0m     \u001b[38;5;28;01mraise\u001b[39;00m \u001b[38;5;167;01mKeyError\u001b[39;00m(\u001b[38;5;124mf\u001b[39m\u001b[38;5;124m\"\u001b[39m\u001b[38;5;124mNone of [\u001b[39m\u001b[38;5;132;01m{\u001b[39;00mkey\u001b[38;5;132;01m}\u001b[39;00m\u001b[38;5;124m] are in the [\u001b[39m\u001b[38;5;132;01m{\u001b[39;00maxis_name\u001b[38;5;132;01m}\u001b[39;00m\u001b[38;5;124m]\u001b[39m\u001b[38;5;124m\"\u001b[39m)\n\u001b[0;32m   6132\u001b[0m not_found \u001b[38;5;241m=\u001b[39m \u001b[38;5;28mlist\u001b[39m(ensure_index(key)[missing_mask\u001b[38;5;241m.\u001b[39mnonzero()[\u001b[38;5;241m0\u001b[39m]]\u001b[38;5;241m.\u001b[39munique())\n\u001b[1;32m-> 6133\u001b[0m \u001b[38;5;28;01mraise\u001b[39;00m \u001b[38;5;167;01mKeyError\u001b[39;00m(\u001b[38;5;124mf\u001b[39m\u001b[38;5;124m\"\u001b[39m\u001b[38;5;132;01m{\u001b[39;00mnot_found\u001b[38;5;132;01m}\u001b[39;00m\u001b[38;5;124m not in index\u001b[39m\u001b[38;5;124m\"\u001b[39m)\n",
      "\u001b[1;31mKeyError\u001b[0m: \"['PreviousClose', 'Turnover (Rs. Cr.)', 'TOTTRDQTY'] not in index\""
     ]
    }
   ],
   "source": [
    "result.get_daily_data() \\\n",
    "  .sort_values(\n",
    "    [BaseColumns.Date, BaseColumns.Identifier]\n",
    "  )[\n",
    "    [BaseColumns.Identifier, BaseColumns.Date, BaseColumns.Close, \n",
    "     CalculatedColumns.RelativeStrengthIndex]\n",
    "  ] \\\n",
    "  .tail(5)"
   ]
  },
  {
   "cell_type": "markdown",
   "metadata": {},
   "source": []
  },
  {
   "cell_type": "markdown",
   "metadata": {},
   "source": [
    "### Create a Calculation Pipeline"
   ]
  },
  {
   "cell_type": "code",
   "execution_count": 24,
   "metadata": {},
   "outputs": [],
   "source": [
    "## import modules\n",
    "from markets_insights.calculations.base import CalculationWorker\n",
    "from markets_insights.core.core import Instrumentation\n",
    "from markets_insights.calculations.base import BaseColumns\n",
    "import pandas\n",
    "\n",
    "# Implement the worker class. The important aspect here is to override the add_calculated_columns() method\n",
    "class FibonacciRetracementCalculationWorker (CalculationWorker):\n",
    "  def __init__(self, time_window: int, level_perct: float):\n",
    "    self._time_window = time_window\n",
    "    self._level = level_perct / 100\n",
    "    self._column_name = 'Fbr' + str(level_perct)\n",
    "\n",
    "  @Instrumentation.trace(name=\"FibnocciRetracementCalculationWorker\")\n",
    "  def add_calculated_columns(self, data: pandas.DataFrame):\n",
    "    identifier_grouped_data: pandas.DataFrame = data.groupby(BaseColumns.Identifier)\n",
    "    #Since, our dataframe may contain data for multiple symbols, we need to first group them by Identifier\n",
    "    data[self._column_name] = identifier_grouped_data[BaseColumns.Close].transform(\n",
    "        lambda x: \n",
    "          x.rolling(self._time_window).max() - \n",
    "          (\n",
    "            (x.rolling(self._time_window).max() - x.rolling(self._time_window).min())  * self._level\n",
    "          )\n",
    "      )"
   ]
  },
  {
   "cell_type": "code",
   "execution_count": 25,
   "metadata": {},
   "outputs": [
    {
     "name": "stdout",
     "output_type": "stream",
     "text": [
      "Started to read data\n",
      "HistoricalDataProcessor.get_data took 0 seconds\n",
      "HistoricalDataProcessor.get_manual_data took 0 seconds\n",
      "HistoricalDataProcessor.run_base_calculations took 0 seconds\n",
      "HistoricalDataProcessor.process took 1 seconds\n",
      "FibnocciRetracementCalculationWorker took 0 seconds\n"
     ]
    },
    {
     "name": "stderr",
     "output_type": "stream",
     "text": [
      "c:\\Data\\_Personal\\Projects\\markets_insights\\src\\markets_insights\\dataprocess\\data_processor.py:329: FutureWarning: The behavior of DataFrame concatenation with empty or all-NA entries is deprecated. In a future version, this will no longer exclude empty or all-NA columns when determining the result dtypes. To retain the old behavior, exclude the relevant entries before the concat operation.\n",
      "  pd.concat([historical_data, manual_data], ignore_index=True)\n"
     ]
    }
   ],
   "source": [
    "# Create pipline with the FibnocciRetracementCalculationWorker and run \n",
    "from markets_insights.datareader.data_reader import NseIndicesReader, DateRangeCriteria\n",
    "from markets_insights.dataprocess.data_processor import HistoricalDataProcessor, HistoricalDataProcessOptions, \\\n",
    "  MultiDataCalculationPipelines, CalculationPipeline\n",
    "histDataProcessor = HistoricalDataProcessor(HistoricalDataProcessOptions(include_monthly_data=False, include_annual_data=False))\n",
    "\n",
    "# Fetch the data\n",
    "result = histDataProcessor.process(NseIndicesReader(), DateRangeCriteria(datetime.date(2023, 12, 1), datetime.date(2023, 12, 31)))\n",
    "\n",
    "# Prepare calculation pipeline\n",
    "fbr50_worker = FibonacciRetracementCalculationWorker(time_window=7, level_perct=50)\n",
    "pipelines = MultiDataCalculationPipelines()\n",
    "histDataProcessor.set_calculation_pipelines(\n",
    "  CalculationPipeline(\n",
    "    workers = [fbr50_worker]\n",
    "  )\n",
    ")\n",
    "\n",
    "# Run the pipeline and get data\n",
    "histDataProcessor.run_calculation_pipelines()"
   ]
  },
  {
   "cell_type": "code",
   "execution_count": 26,
   "metadata": {},
   "outputs": [
    {
     "name": "stdout",
     "output_type": "stream",
     "text": [
      "|      | Identifier                  | Date                |    Close |    Fbr50 |\n",
      "|-----:|:----------------------------|:--------------------|---------:|---------:|\n",
      "| 2141 | NIFTY50 USD                 | 2023-12-29 00:00:00 |  9048.9  |  8941.77 |\n",
      "| 2142 | NIFTY 10 YR BENCHMARK G-SEC | 2023-12-29 00:00:00 |  2232.79 |  2230.24 |\n",
      "| 2143 | NIFTY200 ALPHA 30           | 2023-12-29 00:00:00 | 20858.6  | 20358.2  |\n",
      "| 2144 | NIFTY HEALTHCARE INDEX      | 2023-12-29 00:00:00 | 10637.8  | 10422.7  |\n",
      "| 2145 | NIFTY AUTO                  | 2023-12-29 00:00:00 | 18618.2  | 18070.9  |\n"
     ]
    }
   ],
   "source": [
    "## Display the results\n",
    "print(result.get_daily_data()[[\n",
    "  BaseColumns.Identifier, BaseColumns.Date, BaseColumns.Close, fbr50_worker._column_name\n",
    "]].tail(5).to_markdown())"
   ]
  }
 ],
 "metadata": {
  "kernelspec": {
   "display_name": "base",
   "language": "python",
   "name": "python3"
  },
  "language_info": {
   "codemirror_mode": {
    "name": "ipython",
    "version": 3
   },
   "file_extension": ".py",
   "mimetype": "text/x-python",
   "name": "python",
   "nbconvert_exporter": "python",
   "pygments_lexer": "ipython3",
   "version": "3.9.12"
  }
 },
 "nbformat": 4,
 "nbformat_minor": 2
}
