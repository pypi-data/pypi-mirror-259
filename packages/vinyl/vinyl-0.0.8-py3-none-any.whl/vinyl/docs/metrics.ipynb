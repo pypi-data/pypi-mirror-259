{
 "cells": [
  {
   "cell_type": "code",
   "execution_count": 2,
   "metadata": {},
   "outputs": [],
   "source": [
    "import duckdb\n",
    "import ibis\n",
    "from ibis import _\n",
    "\n",
    "from vinyl.lib.enums import FillOptions\n",
    "from vinyl.lib.table import VinylTable\n",
    "\n",
    "con = ibis.connect(\"/Users/justin/Documents/GitHub/vinyl/vinyl/lib/duckdb.duckdb\")\n",
    "dbcon = duckdb.connect(\"/Users/justin/Documents/GitHub/vinyl/vinyl/lib/duckdb.duckdb\")\n",
    "\n",
    "\n",
    "tbl = VinylTable.create_from_schema(schema=con.table(\"taxi\").schema(), name=\"taxi\")"
   ]
  },
  {
   "cell_type": "markdown",
   "metadata": {},
   "source": [
    "### Metrics\n",
    "\n",
    "Metrics are a highly-integrated part of vinyl. They work as a powerful abstraction over the `.aggregate` method, allowing you to slice and summarize time series data. Let's look at how it works.\n"
   ]
  },
  {
   "cell_type": "markdown",
   "metadata": {},
   "source": [
    "### The basics\n"
   ]
  },
  {
   "cell_type": "markdown",
   "metadata": {},
   "source": [
    "Here is our aggregation from the last chapter\n"
   ]
  },
  {
   "cell_type": "code",
   "execution_count": 3,
   "metadata": {},
   "outputs": [
    {
     "data": {
      "text/plain": [
       "┌─────────────────┬────────────────────┬───────┬────────────────────┐\n",
       "│ passenger_count │ store_and_fwd_flag │  tax  │        tip         │\n",
       "│      int8       │      varchar       │ float │       double       │\n",
       "├─────────────────┼────────────────────┼───────┼────────────────────┤\n",
       "│               4 │ N                  │  -0.5 │  2.022742044211281 │\n",
       "│               4 │ Y                  │   0.0 │ 1.4817789451640688 │\n",
       "│               7 │ N                  │   0.0 │   7.40482759475708 │\n",
       "│               8 │ N                  │   0.0 │  6.810416594147682 │\n",
       "│               7 │ Y                  │  NULL │               NULL │\n",
       "│               8 │ Y                  │  NULL │               NULL │\n",
       "│               5 │ N                  │  -0.5 │  2.252557349008037 │\n",
       "│               9 │ N                  │   0.0 │  5.872631524738512 │\n",
       "│               5 │ Y                  │   0.0 │  1.172307693041288 │\n",
       "│               1 │ N                  │  -0.5 │  2.223417064199343 │\n",
       "│               1 │ Y                  │   0.0 │  1.950057169702163 │\n",
       "│               9 │ Y                  │  NULL │               NULL │\n",
       "│               3 │ N                  │  -0.5 │  2.147144692266487 │\n",
       "│               6 │ N                  │  -0.5 │ 2.2468985577122185 │\n",
       "│               3 │ Y                  │   0.0 │ 1.8273137994008242 │\n",
       "│               6 │ Y                  │   0.0 │ 2.0382352857028736 │\n",
       "│               2 │ N                  │  -0.5 │ 2.2096242179763617 │\n",
       "│               2 │ Y                  │   0.0 │ 1.9119908400135883 │\n",
       "│               0 │ N                  │  -0.5 │ 2.1432697555194524 │\n",
       "│               0 │ Y                  │   0.0 │ 1.8100042946176014 │\n",
       "├─────────────────┴────────────────────┴───────┴────────────────────┤\n",
       "│ 20 rows                                                 4 columns │\n",
       "└───────────────────────────────────────────────────────────────────┘"
      ]
     },
     "execution_count": 3,
     "metadata": {},
     "output_type": "execute_result"
    }
   ],
   "source": [
    "tbl.aggregate(\n",
    "    cols={\"tax\": _.mta_tax.min(), \"tip\": _.tip_amount.mean()},\n",
    "    by=[_.passenger_count, _.store_and_fwd_flag],\n",
    "    fill=FillOptions.null,\n",
    ").execute(dbcon)"
   ]
  },
  {
   "cell_type": "markdown",
   "metadata": {},
   "source": [
    "To create a metric store, we keep the same syntax, just adding a timestamp...\n"
   ]
  },
  {
   "cell_type": "code",
   "execution_count": 4,
   "metadata": {},
   "outputs": [
    {
     "data": {
      "text/plain": [
       "<vinyl.lib.metric.MetricStore at 0x1096b4400>"
      ]
     },
     "execution_count": 4,
     "metadata": {},
     "output_type": "execute_result"
    }
   ],
   "source": [
    "store = tbl.metric(\n",
    "    cols={\"tax\": _.mta_tax.sum(), \"tip\": _.tip_amount.sum()},\n",
    "    by=[_.passenger_count, _.store_and_fwd_flag],\n",
    "    ts=_.pickup_at,\n",
    "    fill=FillOptions.null,\n",
    ")\n",
    "store"
   ]
  },
  {
   "cell_type": "markdown",
   "metadata": {},
   "source": [
    "This creates a metric store with two metrics: tax and tip. Note that metric stores are not real tables -- the sql is generated on the fly depending on what we try to select.\n",
    "\n",
    "To retrieve info from a metric store, simply `select` from it. The syntax is the same as for tables, but with a few extra options. For example, we can select the sum of all tax paid in any month like this...\n"
   ]
  },
  {
   "cell_type": "code",
   "execution_count": 5,
   "metadata": {},
   "outputs": [
    {
     "data": {
      "text/plain": [
       "┌─────────────────────────┬────────┐\n",
       "│ TimestampBucket(ts, 1M) │  tax   │\n",
       "│        timestamp        │ double │\n",
       "├─────────────────────────┼────────┤\n",
       "│ 2008-08-01 00:00:00     │    0.5 │\n",
       "│ 2008-09-01 00:00:00     │   NULL │\n",
       "│ 2008-10-01 00:00:00     │   NULL │\n",
       "│ 2008-11-01 00:00:00     │   NULL │\n",
       "│ 2008-12-01 00:00:00     │    7.5 │\n",
       "│ 2009-01-01 00:00:00     │   24.5 │\n",
       "│ 2009-02-01 00:00:00     │   NULL │\n",
       "│ 2009-03-01 00:00:00     │   NULL │\n",
       "│ 2009-04-01 00:00:00     │   NULL │\n",
       "│ 2009-05-01 00:00:00     │   NULL │\n",
       "│          ·              │     ·  │\n",
       "│          ·              │     ·  │\n",
       "│          ·              │     ·  │\n",
       "│ 2032-06-01 00:00:00     │   NULL │\n",
       "│ 2032-07-01 00:00:00     │   NULL │\n",
       "│ 2032-08-01 00:00:00     │   NULL │\n",
       "│ 2032-09-01 00:00:00     │   NULL │\n",
       "│ 2032-10-01 00:00:00     │   NULL │\n",
       "│ 2032-11-01 00:00:00     │   NULL │\n",
       "│ 2032-12-01 00:00:00     │   NULL │\n",
       "│ 2033-01-01 00:00:00     │   NULL │\n",
       "│ 2033-02-01 00:00:00     │   NULL │\n",
       "│ 2033-03-01 00:00:00     │   NULL │\n",
       "├─────────────────────────┴────────┤\n",
       "│ 296 rows (20 shown)    2 columns │\n",
       "└──────────────────────────────────┘"
      ]
     },
     "execution_count": 5,
     "metadata": {},
     "output_type": "execute_result"
    }
   ],
   "source": [
    "store.select(cols=[_.ts.bucket(months=1), _.tax]).execute(dbcon)"
   ]
  },
  {
   "cell_type": "markdown",
   "metadata": {},
   "source": [
    "Changing the time grain is as simple as changing the arguments to the bucket function. For example, to get the sum of all tax paid in any quarter...\n"
   ]
  },
  {
   "cell_type": "code",
   "execution_count": 6,
   "metadata": {},
   "outputs": [
    {
     "data": {
      "text/plain": [
       "┌─────────────────────────┬────────┐\n",
       "│ TimestampBucket(ts, 3M) │  tax   │\n",
       "│        timestamp        │ double │\n",
       "├─────────────────────────┼────────┤\n",
       "│ 2008-07-01 00:00:00     │    0.5 │\n",
       "│ 2008-10-01 00:00:00     │    7.5 │\n",
       "│ 2009-01-01 00:00:00     │   24.5 │\n",
       "│ 2009-04-01 00:00:00     │   NULL │\n",
       "│ 2009-07-01 00:00:00     │   NULL │\n",
       "│ 2009-10-01 00:00:00     │   NULL │\n",
       "│ 2010-01-01 00:00:00     │   NULL │\n",
       "│ 2010-04-01 00:00:00     │   NULL │\n",
       "│ 2010-07-01 00:00:00     │   NULL │\n",
       "│ 2010-10-01 00:00:00     │   NULL │\n",
       "│          ·              │     ·  │\n",
       "│          ·              │     ·  │\n",
       "│          ·              │     ·  │\n",
       "│ 2030-10-01 00:00:00     │   NULL │\n",
       "│ 2031-01-01 00:00:00     │   NULL │\n",
       "│ 2031-04-01 00:00:00     │   NULL │\n",
       "│ 2031-07-01 00:00:00     │   NULL │\n",
       "│ 2031-10-01 00:00:00     │   NULL │\n",
       "│ 2032-01-01 00:00:00     │   NULL │\n",
       "│ 2032-04-01 00:00:00     │   NULL │\n",
       "│ 2032-07-01 00:00:00     │   NULL │\n",
       "│ 2032-10-01 00:00:00     │   NULL │\n",
       "│ 2033-01-01 00:00:00     │   NULL │\n",
       "├─────────────────────────┴────────┤\n",
       "│ 99 rows (20 shown)     2 columns │\n",
       "└──────────────────────────────────┘"
      ]
     },
     "execution_count": 6,
     "metadata": {},
     "output_type": "execute_result"
    }
   ],
   "source": [
    "store.select(cols=[_.ts.bucket(months=3), _.tax]).execute(dbcon)"
   ]
  },
  {
   "cell_type": "markdown",
   "metadata": {},
   "source": [
    "If you'd like to break this data down by your dimensions, just select that dimension as well...\n"
   ]
  },
  {
   "cell_type": "code",
   "execution_count": 7,
   "metadata": {},
   "outputs": [
    {
     "data": {
      "text/plain": [
       "┌─────────────────────────┬─────────────────┬────────┐\n",
       "│ TimestampBucket(ts, 3M) │ passenger_count │  tax   │\n",
       "│        timestamp        │      int8       │ double │\n",
       "├─────────────────────────┼─────────────────┼────────┤\n",
       "│ 2008-07-01 00:00:00     │               0 │   NULL │\n",
       "│ 2008-07-01 00:00:00     │               1 │   NULL │\n",
       "│ 2008-07-01 00:00:00     │               2 │   NULL │\n",
       "│ 2008-07-01 00:00:00     │               3 │    0.5 │\n",
       "│ 2008-07-01 00:00:00     │               4 │   NULL │\n",
       "│ 2008-07-01 00:00:00     │               5 │   NULL │\n",
       "│ 2008-07-01 00:00:00     │               6 │   NULL │\n",
       "│ 2008-07-01 00:00:00     │               7 │   NULL │\n",
       "│ 2008-07-01 00:00:00     │               8 │   NULL │\n",
       "│ 2008-07-01 00:00:00     │               9 │   NULL │\n",
       "│          ·              │               · │     ·  │\n",
       "│          ·              │               · │     ·  │\n",
       "│          ·              │               · │     ·  │\n",
       "│ 2033-01-01 00:00:00     │               0 │   NULL │\n",
       "│ 2033-01-01 00:00:00     │               1 │   NULL │\n",
       "│ 2033-01-01 00:00:00     │               2 │   NULL │\n",
       "│ 2033-01-01 00:00:00     │               3 │   NULL │\n",
       "│ 2033-01-01 00:00:00     │               4 │   NULL │\n",
       "│ 2033-01-01 00:00:00     │               5 │   NULL │\n",
       "│ 2033-01-01 00:00:00     │               6 │   NULL │\n",
       "│ 2033-01-01 00:00:00     │               7 │   NULL │\n",
       "│ 2033-01-01 00:00:00     │               8 │   NULL │\n",
       "│ 2033-01-01 00:00:00     │               9 │   NULL │\n",
       "├─────────────────────────┴─────────────────┴────────┤\n",
       "│ 990 rows (20 shown)                      3 columns │\n",
       "└────────────────────────────────────────────────────┘"
      ]
     },
     "execution_count": 7,
     "metadata": {},
     "output_type": "execute_result"
    }
   ],
   "source": [
    "store.select(cols=[_.ts.bucket(months=3), _.passenger_count, _.tax]).execute(dbcon)"
   ]
  },
  {
   "cell_type": "markdown",
   "metadata": {},
   "source": [
    "Trailing metrics are also straightforward in vinyl. Just use the `trailing` argument. For example, to get the trailing annual sum in addition to the quarterly sum...\n"
   ]
  },
  {
   "cell_type": "code",
   "execution_count": 8,
   "metadata": {},
   "outputs": [
    {
     "data": {
      "text/plain": [
       "┌─────────────────────────┬────────────────────┬────────┬────────────────────┬────────┐\n",
       "│ TimestampBucket(ts, 3M) │        tip         │  tax   │       tip_4        │ tax_4  │\n",
       "│        timestamp        │       double       │ double │       double       │ double │\n",
       "├─────────────────────────┼────────────────────┼────────┼────────────────────┼────────┤\n",
       "│ 2008-07-01 00:00:00     │ 2.1600000858306885 │    0.5 │ 2.1600000858306885 │    0.5 │\n",
       "│ 2008-10-01 00:00:00     │ 23.759999752044678 │    7.5 │ 25.919999837875366 │    8.0 │\n",
       "│ 2009-01-01 00:00:00     │  20.80000014603138 │   24.5 │ 46.719999983906746 │   32.5 │\n",
       "│ 2009-04-01 00:00:00     │               NULL │   NULL │ 46.719999983906746 │   32.5 │\n",
       "│ 2009-07-01 00:00:00     │               NULL │   NULL │ 46.719999983906746 │   32.5 │\n",
       "│ 2009-10-01 00:00:00     │               NULL │   NULL │  44.55999989807606 │   32.0 │\n",
       "│ 2010-01-01 00:00:00     │               NULL │   NULL │  20.80000014603138 │   24.5 │\n",
       "│ 2010-04-01 00:00:00     │               NULL │   NULL │               NULL │   NULL │\n",
       "│ 2010-07-01 00:00:00     │               NULL │   NULL │               NULL │   NULL │\n",
       "│ 2010-10-01 00:00:00     │               NULL │   NULL │               NULL │   NULL │\n",
       "│          ·              │                 ·  │     ·  │                 ·  │     ·  │\n",
       "│          ·              │                 ·  │     ·  │                 ·  │     ·  │\n",
       "│          ·              │                 ·  │     ·  │                 ·  │     ·  │\n",
       "│ 2030-10-01 00:00:00     │               NULL │   NULL │               NULL │   NULL │\n",
       "│ 2031-01-01 00:00:00     │               NULL │   NULL │               NULL │   NULL │\n",
       "│ 2031-04-01 00:00:00     │               NULL │   NULL │               NULL │   NULL │\n",
       "│ 2031-07-01 00:00:00     │               NULL │   NULL │               NULL │   NULL │\n",
       "│ 2031-10-01 00:00:00     │               NULL │   NULL │               NULL │   NULL │\n",
       "│ 2032-01-01 00:00:00     │               NULL │   NULL │               NULL │   NULL │\n",
       "│ 2032-04-01 00:00:00     │               NULL │   NULL │               NULL │   NULL │\n",
       "│ 2032-07-01 00:00:00     │               NULL │   NULL │               NULL │   NULL │\n",
       "│ 2032-10-01 00:00:00     │               NULL │   NULL │               NULL │   NULL │\n",
       "│ 2033-01-01 00:00:00     │               NULL │   NULL │               NULL │   NULL │\n",
       "├─────────────────────────┴────────────────────┴────────┴────────────────────┴────────┤\n",
       "│ 99 rows (20 shown)                                                        5 columns │\n",
       "└─────────────────────────────────────────────────────────────────────────────────────┘"
      ]
     },
     "execution_count": 8,
     "metadata": {},
     "output_type": "execute_result"
    }
   ],
   "source": [
    "store.select(cols=[_.ts.bucket(months=3), _.tax, _.tip], trailing=[None, 4]).execute(\n",
    "    dbcon\n",
    ")"
   ]
  },
  {
   "cell_type": "markdown",
   "metadata": {},
   "source": [
    "Adding a metric to a store is straightforward too. Just use the `.metric` method again\n"
   ]
  },
  {
   "cell_type": "code",
   "execution_count": 9,
   "metadata": {},
   "outputs": [],
   "source": [
    "store = store.metric(\n",
    "    cols={\"surcharge\": _.congestion_surcharge.mean()},\n",
    "    by=[_.payment_type],\n",
    "    ts=_.dropoff_at,\n",
    "    fill=FillOptions.null,\n",
    ")"
   ]
  },
  {
   "cell_type": "markdown",
   "metadata": {},
   "source": [
    "Now you can pull all three metrics...\n"
   ]
  },
  {
   "cell_type": "code",
   "execution_count": 25,
   "metadata": {},
   "outputs": [
    {
     "data": {
      "text/plain": [
       "(\"WITH t0 AS (SELECT t21.passenger_count AS passenger_count, t21.mta_tax AS mta_tax, t21.pickup_at AS ts FROM taxi AS t21), t3 AS (SELECT MIN(TIME_BUCKET(TO_MONTHS(3), t0.ts, CAST('epoch' AS TIMESTAMP))) AS min, MAX(TIME_BUCKET(TO_MONTHS(3), t0.ts, CAST('epoch' AS TIMESTAMP))) AS max FROM t0), t5 AS (SELECT TIME_BUCKET(TO_MONTHS(3), t0.ts, CAST('epoch' AS TIMESTAMP)) AS TimestampBucket(ts, 3M), t0.passenger_count AS passenger_count, ARRAY_AGG(t0.mta_tax) AS mta_tax FROM t0 GROUP BY TIME_BUCKET(TO_MONTHS(3), t0.ts, CAST('epoch' AS TIMESTAMP)), t0.passenger_count), t22 AS (SELECT DISTINCT t0.passenger_count AS passenger_count FROM t0), t9 AS (SELECT t22.passenger_count AS passenger_count, UNNEST(RANGE(t3.min, t3.max, TO_MONTHS(3))) AS TimestampBucket(ts, 3M), FLATTEN(ARRAY_AGG(t5.mta_tax) OVER (PARTITION BY t22.passenger_count ORDER BY UNNEST(RANGE(t3.min, t3.max, TO_MONTHS(3))) ROWS BETWEEN CAST(4 AS TINYINT) PRECEDING AND CAST(0 AS TINYINT) FOLLOWING)) AS mta_tax FROM t3 LEFT JOIN t5 ON t5.TimestampBucket(ts, 3M) = UNNEST(RANGE(t3.min, t3.max, TO_MONTHS(3))) JOIN t22 AS t22 ON t22.passenger_count = t5.passenger_count), t11 AS (SELECT t9.TimestampBucket(ts, 3M) AS ts, t9.passenger_count AS passenger_count, UNNEST(t9.mta_tax) AS mta_tax FROM t9), t14 AS (SELECT MIN(TIME_BUCKET(TO_MONTHS(3), t11.ts, CAST('epoch' AS TIMESTAMP))) AS min, MAX(TIME_BUCKET(TO_MONTHS(3), t11.ts, CAST('epoch' AS TIMESTAMP))) AS max FROM t11), t16 AS (SELECT TIME_BUCKET(TO_MONTHS(3), t11.ts, CAST('epoch' AS TIMESTAMP)) AS TimestampBucket(ts, 3M), t11.passenger_count AS passenger_count, SUM(t11.mta_tax) AS tax_4 FROM t11 GROUP BY TIME_BUCKET(TO_MONTHS(3), t11.ts, CAST('epoch' AS TIMESTAMP)), t11.passenger_count), t22_2 AS (SELECT DISTINCT t11.passenger_count AS passenger_count FROM t11) SELECT UNNEST(RANGE(t14.min, t14.max, TO_MONTHS(3))) AS TimestampBucket(ts, 3M), t22.passenger_count AS passenger_count, t16.tax_4 AS tax_4 FROM t14 LEFT JOIN t16 ON t16.TimestampBucket(ts, 3M) = UNNEST(RANGE(t14.min, t14.max, TO_MONTHS(3))) JOIN t22_2 AS t22 ON t16.passenger_count = t22.passenger_count ORDER BY UNNEST(RANGE(t14.min, t14.max, TO_MONTHS(3))), t22.passenger_count, t16.tax_4\",\n",
       " 2.126953125)"
      ]
     },
     "execution_count": 25,
     "metadata": {},
     "output_type": "execute_result"
    }
   ],
   "source": [
    "sql = store.select(\n",
    "    cols=[_.ts.bucket(months=3), _.passenger_count, _.tax], trailing=[4]\n",
    ").to_sql()\n",
    "\n",
    "opt = optimize(sql).sql().replace('\"', \"\")\n",
    "opt, len(opt.encode(\"utf-8\")) / 1024"
   ]
  },
  {
   "cell_type": "markdown",
   "metadata": {},
   "source": [
    "## More to come\n",
    "\n",
    "- Derived metrics\n",
    "- Localized metrics\n",
    "- Using metrics inside normal queries\n"
   ]
  },
  {
   "cell_type": "markdown",
   "metadata": {},
   "source": []
  }
 ],
 "metadata": {
  "kernelspec": {
   "display_name": "vinyl-cwr2Pa_2-py3.10",
   "language": "python",
   "name": "python3"
  },
  "language_info": {
   "codemirror_mode": {
    "name": "ipython",
    "version": 3
   },
   "file_extension": ".py",
   "mimetype": "text/x-python",
   "name": "python",
   "nbconvert_exporter": "python",
   "pygments_lexer": "ipython3",
<<<<<<< HEAD
   "version": "3.10.10"
=======
   "version": "3.10.13"
>>>>>>> ian/eng-824-source-definition-and-ingest
  }
 },
 "nbformat": 4,
 "nbformat_minor": 2
}
