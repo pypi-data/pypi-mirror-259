{
 "cells": [
  {
   "cell_type": "markdown",
   "id": "d25f61f9",
   "metadata": {},
   "source": [
    "# Basic manipulation of circuits\n",
    "\n",
    "The goal of this notebook is to explore main possibilities and manipulation of quantum circuits offered by ``MPQP``."
   ]
  },
  {
   "cell_type": "markdown",
   "id": "1ca0c4be",
   "metadata": {},
   "source": [
    "## Instantiation and display the circuit\n",
    "\n",
    "We first import ``QCircuit``, the class representing quantum circuits."
   ]
  },
  {
   "cell_type": "code",
   "execution_count": 1,
   "id": "5e774418",
   "metadata": {},
   "outputs": [],
   "source": [
    "from mpqp import QCircuit"
   ]
  },
  {
   "cell_type": "markdown",
   "id": "06f88ad3",
   "metadata": {},
   "source": [
    "The first argument taken by the constructor of ``QCircuit`` is either the number of qubits, or a list of ``Instruction``.\n",
    "\n",
    "One can instanciate an empty circuit by only giving its number of qubits. The number of classical bits is automatically handled by the class, and thus is optional. We can also attach to a circuit a given label. "
   ]
  },
  {
   "cell_type": "code",
   "execution_count": 2,
   "id": "16fbed57",
   "metadata": {},
   "outputs": [],
   "source": [
    "circ1 = QCircuit(3)\n",
    "circ2 = QCircuit(5, nb_cbits=2, label=\"Example\")"
   ]
  },
  {
   "cell_type": "markdown",
   "id": "e04832ad",
   "metadata": {},
   "source": [
    "Then, one can ``add`` at the end of the circuit an instruction or list of instructions. For that, we add the right imports."
   ]
  },
  {
   "cell_type": "code",
   "execution_count": 3,
   "id": "a32e0476",
   "metadata": {},
   "outputs": [],
   "source": [
    "from mpqp.gates import *\n",
    "from mpqp.measures import BasisMeasure\n",
    "from mpqp import Barrier"
   ]
  },
  {
   "cell_type": "code",
   "execution_count": 4,
   "id": "ab1c9ea6",
   "metadata": {},
   "outputs": [],
   "source": [
    "circ2.add(CNOT(2,3))\n",
    "circ2.add([H(0), T(1), CNOT(0,1), S(4)])"
   ]
  },
  {
   "cell_type": "markdown",
   "id": "d2cf3711",
   "metadata": {},
   "source": [
    "We can also instantiate and initialize the circuit with a list of ``Instruction`` (gates and measurements)."
   ]
  },
  {
   "cell_type": "code",
   "execution_count": 5,
   "id": "28832987",
   "metadata": {},
   "outputs": [],
   "source": [
    "circ3 = QCircuit([H(0), X(1), CNOT(1,2), Barrier(), Y(2), Z(0), CZ(1,0), BasisMeasure([0,1,2], shots=1024)])"
   ]
  },
  {
   "cell_type": "markdown",
   "id": "97060ed8",
   "metadata": {},
   "source": [
    "We can then print the circuit directly as a string, or use ``pretty_print`` for more detailed information on the circuit."
   ]
  },
  {
   "cell_type": "code",
   "execution_count": 6,
   "id": "97b1e565",
   "metadata": {
    "scrolled": true
   },
   "outputs": [
    {
     "name": "stdout",
     "output_type": "stream",
     "text": [
      "     ┌───┐     \n",
      "q_0: ┤ H ├──■──\n",
      "     ├───┤┌─┴─┐\n",
      "q_1: ┤ T ├┤ X ├\n",
      "     └───┘└───┘\n",
      "q_2: ──■───────\n",
      "     ┌─┴─┐     \n",
      "q_3: ┤ X ├─────\n",
      "     ├───┤     \n",
      "q_4: ┤ S ├─────\n",
      "     └───┘     \n",
      "c: 2/══════════\n",
      "               \n"
     ]
    }
   ],
   "source": [
    "print(circ2)"
   ]
  },
  {
   "cell_type": "code",
   "execution_count": 7,
   "id": "569c9147",
   "metadata": {},
   "outputs": [
    {
     "name": "stdout",
     "output_type": "stream",
     "text": [
      "QCircuit : Size (Qubits,Cbits) = (3, 3), Nb instructions = 8\n",
      "     ┌───┐      ░ ┌───┐   ┌─┐   \n",
      "q_0: ┤ H ├──────░─┤ Z ├─■─┤M├───\n",
      "     ├───┤      ░ └───┘ │ └╥┘┌─┐\n",
      "q_1: ┤ X ├──■───░───────■──╫─┤M├\n",
      "     └───┘┌─┴─┐ ░ ┌───┐┌─┐ ║ └╥┘\n",
      "q_2: ─────┤ X ├─░─┤ Y ├┤M├─╫──╫─\n",
      "          └───┘ ░ └───┘└╥┘ ║  ║ \n",
      "c: 3/═══════════════════╩══╩══╩═\n",
      "                        2  0  1 \n"
     ]
    }
   ],
   "source": [
    "circ3.pretty_print()"
   ]
  },
  {
   "cell_type": "markdown",
   "id": "fa694b87",
   "metadata": {},
   "source": [
    "We can also use the method ``display`` to render the circuit in different formats. The default one uses matplotlib, but other options can be given in parameters (the same as the ``qiskit`` display function)."
   ]
  },
  {
   "cell_type": "code",
   "execution_count": 8,
   "id": "302ccb5d",
   "metadata": {},
   "outputs": [
    {
     "name": "stderr",
     "output_type": "stream",
     "text": [
      "c:\\users\\hamza\\appdata\\local\\programs\\python\\python39\\lib\\site-packages\\mpqp\\core\\circuit.py:298: UserWarning: Matplotlib is currently using module://ipykernel.pylab.backend_inline, which is a non-GUI backend, so cannot show the figure.\n",
      "  fig.show()\n"
     ]
    },
    {
     "data": {
      "image/png": "[encoded data removed]",
      "text/plain": [
       "<Figure size 507.997x264.88 with 1 Axes>"
      ]
     },
     "execution_count": 8,
     "metadata": {},
     "output_type": "execute_result"
    }
   ],
   "source": [
    "circ3.display()"
   ]
  },
  {
   "cell_type": "code",
   "execution_count": 9,
   "id": "50e96aae",
   "metadata": {},
   "outputs": [
    {
     "data": {
      "image/png": "[encoded data removed]",
      "text/plain": [
       "<PIL.Image.Image image mode=RGB size=413x138>"
      ]
     },
     "execution_count": 9,
     "metadata": {},
     "output_type": "execute_result"
    }
   ],
   "source": [
    "circ3.display(\"latex\")"
   ]
  },
  {
   "cell_type": "markdown",
   "id": "9865f7d5",
   "metadata": {},
   "source": [
    "## Retrieve circuit properties\n",
    "\n",
    "One can also retrieve different properties of the circuit, including the depth, the size (quantum and classical bits), counting (specific) gates and retrieving the attached measurements."
   ]
  },
  {
   "cell_type": "code",
   "execution_count": 10,
   "id": "8e75255d",
   "metadata": {},
   "outputs": [
    {
     "data": {
      "text/plain": [
       "4"
      ]
     },
     "execution_count": 10,
     "metadata": {},
     "output_type": "execute_result"
    }
   ],
   "source": [
    "circ3.depth()"
   ]
  },
  {
   "cell_type": "code",
   "execution_count": 11,
   "id": "e2d05128",
   "metadata": {},
   "outputs": [
    {
     "data": {
      "text/plain": [
       "(3, 3)"
      ]
     },
     "execution_count": 11,
     "metadata": {},
     "output_type": "execute_result"
    }
   ],
   "source": [
    "circ3.size()"
   ]
  },
  {
   "cell_type": "code",
   "execution_count": 12,
   "id": "c6d8d648",
   "metadata": {},
   "outputs": [
    {
     "data": {
      "text/plain": [
       "1"
      ]
     },
     "execution_count": 12,
     "metadata": {},
     "output_type": "execute_result"
    }
   ],
   "source": [
    "circ3.count_gates(X)"
   ]
  },
  {
   "cell_type": "code",
   "execution_count": 13,
   "id": "780d0208",
   "metadata": {},
   "outputs": [
    {
     "data": {
      "text/plain": [
       "[BasisMeasure([0, 1, 2], shots=1024)]"
      ]
     },
     "execution_count": 13,
     "metadata": {},
     "output_type": "execute_result"
    }
   ],
   "source": [
    "circ3.get_measurements()"
   ]
  },
  {
   "cell_type": "markdown",
   "id": "bf37b06b",
   "metadata": {},
   "source": [
    "## Combination of circuits\n",
    "\n",
    "We also allow to combine easily different circuits to create new ones. "
   ]
  },
  {
   "cell_type": "code",
   "execution_count": 14,
   "id": "1656b928",
   "metadata": {},
   "outputs": [
    {
     "name": "stdout",
     "output_type": "stream",
     "text": [
      "     ┌───┐     \n",
      "q_0: ┤ H ├──■──\n",
      "     ├───┤┌─┴─┐\n",
      "q_1: ┤ S ├┤ X ├\n",
      "     └───┘└───┘\n",
      "-------------\n",
      "   ┌───┐\n",
      "q: ┤ X ├\n",
      "   └───┘\n"
     ]
    }
   ],
   "source": [
    "circ1 = QCircuit([H(0), S(1), CNOT(0,1)])\n",
    "circ2 = QCircuit([X(0)])\n",
    "print(circ1)\n",
    "print('-------------')\n",
    "print(circ2)"
   ]
  },
  {
   "cell_type": "markdown",
   "id": "68ef12e4",
   "metadata": {},
   "source": [
    "One can ``append`` a circuit to another, consisting in concatenating the circuit horizontally at the right of the first one. For more simplicity, the ``+`` realized the same operation. When the size does not match, we automatically adjust the size of the resulting circuit."
   ]
  },
  {
   "cell_type": "code",
   "execution_count": 15,
   "id": "ff7fda3c",
   "metadata": {},
   "outputs": [
    {
     "name": "stdout",
     "output_type": "stream",
     "text": [
      "     ┌───┐     ┌───┐\n",
      "q_0: ┤ H ├──■──┤ X ├\n",
      "     ├───┤┌─┴─┐└───┘\n",
      "q_1: ┤ S ├┤ X ├─────\n",
      "     └───┘└───┘     \n"
     ]
    }
   ],
   "source": [
    "appended = circ1 + circ2\n",
    "print(appended)"
   ]
  },
  {
   "cell_type": "markdown",
   "id": "c70512be",
   "metadata": {},
   "source": [
    "One can also take the tensor product of two circuits using the method ``tensor``, or the symbol ``@``, which will concatenate the second circuit vertically under the first."
   ]
  },
  {
   "cell_type": "code",
   "execution_count": 16,
   "id": "872b2174",
   "metadata": {},
   "outputs": [
    {
     "name": "stdout",
     "output_type": "stream",
     "text": [
      "     ┌───┐     \n",
      "q_0: ┤ H ├──■──\n",
      "     ├───┤┌─┴─┐\n",
      "q_1: ┤ S ├┤ X ├\n",
      "     ├───┤└───┘\n",
      "q_2: ┤ X ├─────\n",
      "     └───┘     \n"
     ]
    }
   ],
   "source": [
    "tensored = circ1 @ circ2\n",
    "print(tensored)"
   ]
  },
  {
   "cell_type": "markdown",
   "id": "54598610",
   "metadata": {},
   "source": [
    "## Translating the circuit\n",
    "\n",
    "MPQP is a multi-platform quantum programming library and handles for the user the translation of circuits. We allow the user to use a function to export the circuit in different objects specific to each SDK using the method ``to_other_language``. "
   ]
  },
  {
   "cell_type": "code",
   "execution_count": 17,
   "id": "a35b512d",
   "metadata": {},
   "outputs": [
    {
     "data": {
      "text/plain": [
       "<qiskit.circuit.quantumcircuit.QuantumCircuit at 0x12c058daaf0>"
      ]
     },
     "execution_count": 17,
     "metadata": {},
     "output_type": "execute_result"
    }
   ],
   "source": [
    "from mpqp import Language\n",
    "circ3.to_other_language(Language.QISKIT)"
   ]
  },
  {
   "cell_type": "code",
   "execution_count": 18,
   "id": "2869a46e",
   "metadata": {
    "scrolled": true
   },
   "outputs": [
    {
     "data": {
      "text/plain": [
       "Circuit(ops=[Op(gate='H', qbits=[0], type=0, cbits=None, formula=None, remap=None), Op(gate='X', qbits=[1], type=0, cbits=None, formula=None, remap=None), Op(gate='CNOT', qbits=[1, 2], type=0, cbits=None, formula=None, remap=None), Op(gate='Y', qbits=[2], type=0, cbits=None, formula=None, remap=None), Op(gate='Z', qbits=[0], type=0, cbits=None, formula=None, remap=None), Op(gate='CSIGN', qbits=[1, 0], type=0, cbits=None, formula=None, remap=None)], name=None, gateDic={'X': GateDefinition(name='X', arity=1, matrix=Matrix(nRows=2, nCols=2, data=[ComplexNumber(re=0.0, im=0.0), ComplexNumber(re=1.0, im=0.0), ComplexNumber(re=1.0, im=0.0), ComplexNumber(re=0.0, im=0.0)]), is_ctrl=False, is_dag=None, is_trans=None, is_conj=None, subgate=None, syntax=GSyntax(name='X', parameters=[]), nbctrls=None, circuit_implementation=None), 'Y': GateDefinition(name='Y', arity=1, matrix=Matrix(nRows=2, nCols=2, data=[ComplexNumber(re=0.0, im=0.0), ComplexNumber(re=-0.0, im=-1.0), ComplexNumber(re=0.0, im=1.0), ComplexNumber(re=0.0, im=0.0)]), is_ctrl=False, is_dag=None, is_trans=None, is_conj=None, subgate=None, syntax=GSyntax(name='Y', parameters=[]), nbctrls=None, circuit_implementation=None), 'Z': GateDefinition(name='Z', arity=1, matrix=Matrix(nRows=2, nCols=2, data=[ComplexNumber(re=1.0, im=0.0), ComplexNumber(re=0.0, im=0.0), ComplexNumber(re=0.0, im=0.0), ComplexNumber(re=-1.0, im=0.0)]), is_ctrl=False, is_dag=None, is_trans=None, is_conj=None, subgate=None, syntax=GSyntax(name='Z', parameters=[]), nbctrls=None, circuit_implementation=None), 'H': GateDefinition(name='H', arity=1, matrix=Matrix(nRows=2, nCols=2, data=[ComplexNumber(re=0.7071067811865475, im=0.0), ComplexNumber(re=0.7071067811865475, im=0.0), ComplexNumber(re=0.7071067811865475, im=0.0), ComplexNumber(re=-0.7071067811865475, im=0.0)]), is_ctrl=False, is_dag=None, is_trans=None, is_conj=None, subgate=None, syntax=GSyntax(name='H', parameters=[]), nbctrls=None, circuit_implementation=None), 'CNOT': GateDefinition(name='CNOT', arity=2, matrix=Matrix(nRows=4, nCols=4, data=[ComplexNumber(re=1.0, im=0.0), ComplexNumber(re=0.0, im=0.0), ComplexNumber(re=0.0, im=0.0), ComplexNumber(re=0.0, im=0.0), ComplexNumber(re=0.0, im=0.0), ComplexNumber(re=1.0, im=0.0), ComplexNumber(re=0.0, im=0.0), ComplexNumber(re=0.0, im=0.0), ComplexNumber(re=0.0, im=0.0), ComplexNumber(re=0.0, im=0.0), ComplexNumber(re=0.0, im=0.0), ComplexNumber(re=1.0, im=0.0), ComplexNumber(re=0.0, im=0.0), ComplexNumber(re=0.0, im=0.0), ComplexNumber(re=1.0, im=0.0), ComplexNumber(re=0.0, im=0.0)]), is_ctrl=True, is_dag=None, is_trans=None, is_conj=None, subgate='X', syntax=GSyntax(name='CNOT', parameters=[]), nbctrls=1, circuit_implementation=None), 'CSIGN': GateDefinition(name='CSIGN', arity=2, matrix=Matrix(nRows=4, nCols=4, data=[ComplexNumber(re=1.0, im=0.0), ComplexNumber(re=0.0, im=0.0), ComplexNumber(re=0.0, im=0.0), ComplexNumber(re=0.0, im=0.0), ComplexNumber(re=0.0, im=0.0), ComplexNumber(re=1.0, im=0.0), ComplexNumber(re=0.0, im=0.0), ComplexNumber(re=0.0, im=0.0), ComplexNumber(re=0.0, im=0.0), ComplexNumber(re=0.0, im=0.0), ComplexNumber(re=1.0, im=0.0), ComplexNumber(re=0.0, im=0.0), ComplexNumber(re=0.0, im=0.0), ComplexNumber(re=0.0, im=0.0), ComplexNumber(re=0.0, im=0.0), ComplexNumber(re=-1.0, im=0.0)]), is_ctrl=True, is_dag=None, is_trans=None, is_conj=None, subgate='Z', syntax=GSyntax(name='CSIGN', parameters=[]), nbctrls=1, circuit_implementation=None), 'ISWAP': GateDefinition(name='ISWAP', arity=2, matrix=Matrix(nRows=4, nCols=4, data=[ComplexNumber(re=1.0, im=0.0), ComplexNumber(re=0.0, im=0.0), ComplexNumber(re=0.0, im=0.0), ComplexNumber(re=0.0, im=0.0), ComplexNumber(re=0.0, im=0.0), ComplexNumber(re=0.0, im=0.0), ComplexNumber(re=0.0, im=1.0), ComplexNumber(re=0.0, im=0.0), ComplexNumber(re=0.0, im=0.0), ComplexNumber(re=0.0, im=1.0), ComplexNumber(re=0.0, im=0.0), ComplexNumber(re=0.0, im=0.0), ComplexNumber(re=0.0, im=0.0), ComplexNumber(re=0.0, im=0.0), ComplexNumber(re=0.0, im=0.0), ComplexNumber(re=1.0, im=0.0)]), is_ctrl=False, is_dag=None, is_trans=None, is_conj=None, subgate=None, syntax=GSyntax(name='ISWAP', parameters=[]), nbctrls=None, circuit_implementation=None), 'SQRTSWAP': GateDefinition(name='SQRTSWAP', arity=2, matrix=Matrix(nRows=4, nCols=4, data=[ComplexNumber(re=1.0, im=0.0), ComplexNumber(re=0.0, im=0.0), ComplexNumber(re=0.0, im=0.0), ComplexNumber(re=0.0, im=0.0), ComplexNumber(re=0.0, im=0.0), ComplexNumber(re=0.5, im=0.5), ComplexNumber(re=0.5, im=-0.5), ComplexNumber(re=0.0, im=0.0), ComplexNumber(re=0.0, im=0.0), ComplexNumber(re=0.5, im=-0.5), ComplexNumber(re=0.5, im=0.5), ComplexNumber(re=0.0, im=0.0), ComplexNumber(re=0.0, im=0.0), ComplexNumber(re=0.0, im=0.0), ComplexNumber(re=0.0, im=0.0), ComplexNumber(re=1.0, im=0.0)]), is_ctrl=False, is_dag=None, is_trans=None, is_conj=None, subgate=None, syntax=GSyntax(name='SQRTSWAP', parameters=[]), nbctrls=None, circuit_implementation=None), 'I': GateDefinition(name='I', arity=1, matrix=Matrix(nRows=2, nCols=2, data=[ComplexNumber(re=1.0, im=0.0), ComplexNumber(re=0.0, im=0.0), ComplexNumber(re=0.0, im=0.0), ComplexNumber(re=1.0, im=0.0)]), is_ctrl=False, is_dag=None, is_trans=None, is_conj=None, subgate=None, syntax=GSyntax(name='I', parameters=[]), nbctrls=None, circuit_implementation=None), 'SWAP': GateDefinition(name='SWAP', arity=2, matrix=Matrix(nRows=4, nCols=4, data=[ComplexNumber(re=1.0, im=0.0), ComplexNumber(re=0.0, im=0.0), ComplexNumber(re=0.0, im=0.0), ComplexNumber(re=0.0, im=0.0), ComplexNumber(re=0.0, im=0.0), ComplexNumber(re=0.0, im=0.0), ComplexNumber(re=1.0, im=0.0), ComplexNumber(re=0.0, im=0.0), ComplexNumber(re=0.0, im=0.0), ComplexNumber(re=1.0, im=0.0), ComplexNumber(re=0.0, im=0.0), ComplexNumber(re=0.0, im=0.0), ComplexNumber(re=0.0, im=0.0), ComplexNumber(re=0.0, im=0.0), ComplexNumber(re=0.0, im=0.0), ComplexNumber(re=1.0, im=0.0)]), is_ctrl=False, is_dag=None, is_trans=None, is_conj=None, subgate=None, syntax=GSyntax(name='SWAP', parameters=[]), nbctrls=None, circuit_implementation=None), 'CCNOT': GateDefinition(name='CCNOT', arity=3, matrix=Matrix(nRows=8, nCols=8, data=[ComplexNumber(re=1.0, im=0.0), ComplexNumber(re=0.0, im=0.0), ComplexNumber(re=0.0, im=0.0), ComplexNumber(re=0.0, im=0.0), ComplexNumber(re=0.0, im=0.0), ComplexNumber(re=0.0, im=0.0), ComplexNumber(re=0.0, im=0.0), ComplexNumber(re=0.0, im=0.0), ComplexNumber(re=0.0, im=0.0), ComplexNumber(re=1.0, im=0.0), ComplexNumber(re=0.0, im=0.0), ComplexNumber(re=0.0, im=0.0), ComplexNumber(re=0.0, im=0.0), ComplexNumber(re=0.0, im=0.0), ComplexNumber(re=0.0, im=0.0), ComplexNumber(re=0.0, im=0.0), ComplexNumber(re=0.0, im=0.0), ComplexNumber(re=0.0, im=0.0), ComplexNumber(re=1.0, im=0.0), ComplexNumber(re=0.0, im=0.0), ComplexNumber(re=0.0, im=0.0), ComplexNumber(re=0.0, im=0.0), ComplexNumber(re=0.0, im=0.0), ComplexNumber(re=0.0, im=0.0), ComplexNumber(re=0.0, im=0.0), ComplexNumber(re=0.0, im=0.0), ComplexNumber(re=0.0, im=0.0), ComplexNumber(re=1.0, im=0.0), ComplexNumber(re=0.0, im=0.0), ComplexNumber(re=0.0, im=0.0), ComplexNumber(re=0.0, im=0.0), ComplexNumber(re=0.0, im=0.0), ComplexNumber(re=0.0, im=0.0), ComplexNumber(re=0.0, im=0.0), ComplexNumber(re=0.0, im=0.0), ComplexNumber(re=0.0, im=0.0), ComplexNumber(re=1.0, im=0.0), ComplexNumber(re=0.0, im=0.0), ComplexNumber(re=0.0, im=0.0), ComplexNumber(re=0.0, im=0.0), ComplexNumber(re=0.0, im=0.0), ComplexNumber(re=0.0, im=0.0), ComplexNumber(re=0.0, im=0.0), ComplexNumber(re=0.0, im=0.0), ComplexNumber(re=0.0, im=0.0), ComplexNumber(re=1.0, im=0.0), ComplexNumber(re=0.0, im=0.0), ComplexNumber(re=0.0, im=0.0), ComplexNumber(re=0.0, im=0.0), ComplexNumber(re=0.0, im=0.0), ComplexNumber(re=0.0, im=0.0), ComplexNumber(re=0.0, im=0.0), ComplexNumber(re=0.0, im=0.0), ComplexNumber(re=0.0, im=0.0), ComplexNumber(re=0.0, im=0.0), ComplexNumber(re=1.0, im=0.0), ComplexNumber(re=0.0, im=0.0), ComplexNumber(re=0.0, im=0.0), ComplexNumber(re=0.0, im=0.0), ComplexNumber(re=0.0, im=0.0), ComplexNumber(re=0.0, im=0.0), ComplexNumber(re=0.0, im=0.0), ComplexNumber(re=1.0, im=0.0), ComplexNumber(re=0.0, im=0.0)]), is_ctrl=True, is_dag=None, is_trans=None, is_conj=None, subgate='CNOT', syntax=GSyntax(name='CCNOT', parameters=[]), nbctrls=1, circuit_implementation=None), 'S': GateDefinition(name='S', arity=1, matrix=Matrix(nRows=2, nCols=2, data=[ComplexNumber(re=1.0, im=0.0), ComplexNumber(re=0.0, im=0.0), ComplexNumber(re=0.0, im=0.0), ComplexNumber(re=0.0, im=1.0)]), is_ctrl=False, is_dag=None, is_trans=None, is_conj=None, subgate=None, syntax=GSyntax(name='S', parameters=[]), nbctrls=None, circuit_implementation=None), 'T': GateDefinition(name='T', arity=1, matrix=Matrix(nRows=2, nCols=2, data=[ComplexNumber(re=1.0, im=0.0), ComplexNumber(re=0.0, im=0.0), ComplexNumber(re=0.0, im=0.0), ComplexNumber(re=0.7071067811865476, im=0.7071067811865476)]), is_ctrl=False, is_dag=None, is_trans=None, is_conj=None, subgate=None, syntax=GSyntax(name='T', parameters=[]), nbctrls=None, circuit_implementation=None)}, nbqbits=3, nbcbits=0, _gate_set=GateSet(gate_signatures={'X': GateSignature(name='X', parameters=[], arity=1, nb_args=0, arg_types=[], arity_generator=None, matrix_generator=<cyfunction gen_x at 0x0000012C6E3AABA0>, circuit_generator=None), 'Y': GateSignature(name='Y', parameters=[], arity=1, nb_args=0, arg_types=[], arity_generator=None, matrix_generator=<cyfunction gen_y at 0x0000012C6E3AAC70>, circuit_generator=None), 'Z': GateSignature(name='Z', parameters=[], arity=1, nb_args=0, arg_types=[], arity_generator=None, matrix_generator=<cyfunction gen_z at 0x0000012C6E3AAD40>, circuit_generator=None), 'H': GateSignature(name='H', parameters=[], arity=1, nb_args=0, arg_types=[], arity_generator=None, matrix_generator=<cyfunction gen_h at 0x0000012C6E3AAAD0>, circuit_generator=None), 'CNOT': GateSignature(name='CNOT', parameters=[], arity=2, nb_args=0, arg_types=[], arity_generator=None, matrix_generator=<cyfunction gen_cnot at 0x0000012C6E3AC110>, circuit_generator=None), 'CSIGN': GateSignature(name='CSIGN', parameters=[], arity=2, nb_args=0, arg_types=[], arity_generator=None, matrix_generator=<cyfunction gen_csign at 0x0000012C6E3AC1E0>, circuit_generator=None), 'ISWAP': GateSignature(name='ISWAP', parameters=[], arity=2, nb_args=0, arg_types=[], arity_generator=None, matrix_generator=<cyfunction gen_iswap at 0x0000012C6E3AC450>, circuit_generator=None), 'SQRTSWAP': GateSignature(name='SQRTSWAP', parameters=[], arity=2, nb_args=0, arg_types=[], arity_generator=None, matrix_generator=<cyfunction gen_sqrtswap at 0x0000012C6E3AC380>, circuit_generator=None), 'I': GateSignature(name='I', parameters=[], arity=1, nb_args=0, arg_types=[], arity_generator=None, matrix_generator=<cyfunction gen_i at 0x0000012C6E3AAE10>, circuit_generator=None), 'SWAP': GateSignature(name='SWAP', parameters=[], arity=2, nb_args=0, arg_types=[], arity_generator=None, matrix_generator=<cyfunction gen_swap at 0x0000012C6E3AC2B0>, circuit_generator=None), 'CCNOT': GateSignature(name='CCNOT', parameters=[], arity=3, nb_args=0, arg_types=[], arity_generator=None, matrix_generator=<cyfunction gen_ccnot at 0x0000012C6E3AC520>, circuit_generator=None), 'S': GateSignature(name='S', parameters=[], arity=1, nb_args=0, arg_types=[], arity_generator=None, matrix_generator=<cyfunction gen_s at 0x0000012C6E3AAEE0>, circuit_generator=None), 'T': GateSignature(name='T', parameters=[], arity=1, nb_args=0, arg_types=[], arity_generator=None, matrix_generator=<cyfunction gen_t at 0x0000012C6E3AC040>, circuit_generator=None), 'PH': GateSignature(name='PH', parameters=[1], arity=1, nb_args=1, arg_types=[<class 'float'>], arity_generator=None, matrix_generator=<cyfunction gen_ph at 0x0000012C6E3AA5F0>, circuit_generator=None), 'RZ': GateSignature(name='RZ', parameters=[1], arity=1, nb_args=1, arg_types=[<class 'float'>], arity_generator=None, matrix_generator=<cyfunction gen_rz at 0x0000012C6E3AA6C0>, circuit_generator=None), 'RX': GateSignature(name='RX', parameters=[1], arity=1, nb_args=1, arg_types=[<class 'float'>], arity_generator=None, matrix_generator=<cyfunction gen_rx at 0x0000012C6E3AA860>, circuit_generator=None), 'RY': GateSignature(name='RY', parameters=[1], arity=1, nb_args=1, arg_types=[<class 'float'>], arity_generator=None, matrix_generator=<cyfunction gen_ry at 0x0000012C6E3AA790>, circuit_generator=None), 'U': AbstractGate(name='U', parameters=[1, 1, 1], arity=1, nb_args=3, arg_types=[<class 'float'>, <class 'float'>, <class 'float'>], arity_generator=None, matrix_generator=<function gen_U at 0x0000012C032E7F70>, circuit_generator=None, dag_func=None), 'U1': AbstractGate(name='U1', parameters=[1], arity=1, nb_args=1, arg_types=[<class 'float'>], arity_generator=None, matrix_generator=<function gen_u1 at 0x0000012C0334C8B0>, circuit_generator=None, dag_func=None), 'U2': AbstractGate(name='U2', parameters=[1, 1], arity=1, nb_args=2, arg_types=[<class 'float'>, <class 'float'>], arity_generator=None, matrix_generator=<function gen_u2 at 0x0000012C0334C940>, circuit_generator=None, dag_func=None), 'U3': AbstractGate(name='U3', parameters=[1, 1, 1], arity=1, nb_args=3, arg_types=[<class 'float'>, <class 'float'>, <class 'float'>], arity_generator=None, matrix_generator=<function gen_U at 0x0000012C032E7F70>, circuit_generator=None, dag_func=None)}), has_matrices=True, var_dic={}, qregs=[], ancilla_map=None, _serialized_gate_set=b\"\\x80\\x04\\x95?\\x06\\x00\\x00\\x00\\x00\\x00\\x00\\x8c\\x11qat.core.gate_set\\x94\\x8c\\x07GateSet\\x94\\x93\\x94)\\x81\\x94}\\x94\\x8c\\x0fgate_signatures\\x94}\\x94(\\x8c\\x01X\\x94h\\x00\\x8c\\rGateSignature\\x94\\x93\\x94)\\x81\\x94}\\x94(\\x8c\\x04name\\x94h\\x07\\x8c\\nparameters\\x94]\\x94\\x8c\\x05arity\\x94K\\x01\\x8c\\x07nb_args\\x94K\\x00\\x8c\\targ_types\\x94]\\x94\\x8c\\x0farity_generator\\x94N\\x8c\\x10matrix_generator\\x94\\x8c$qat.core.circuit_builder.matrix_util\\x94\\x8c\\x05gen_x\\x94\\x93\\x94\\x8c\\x11circuit_generator\\x94Nub\\x8c\\x01Y\\x94h\\t)\\x81\\x94}\\x94(h\\x0ch\\x19h\\r]\\x94h\\x0fK\\x01h\\x10K\\x00h\\x11]\\x94h\\x13Nh\\x14h\\x15\\x8c\\x05gen_y\\x94\\x93\\x94h\\x18Nub\\x8c\\x01Z\\x94h\\t)\\x81\\x94}\\x94(h\\x0ch h\\r]\\x94h\\x0fK\\x01h\\x10K\\x00h\\x11]\\x94h\\x13Nh\\x14h\\x15\\x8c\\x05gen_z\\x94\\x93\\x94h\\x18Nub\\x8c\\x01H\\x94h\\t)\\x81\\x94}\\x94(h\\x0ch'h\\r]\\x94h\\x0fK\\x01h\\x10K\\x00h\\x11]\\x94h\\x13Nh\\x14h\\x15\\x8c\\x05gen_h\\x94\\x93\\x94h\\x18Nub\\x8c\\x04CNOT\\x94h\\t)\\x81\\x94}\\x94(h\\x0ch.h\\r]\\x94h\\x0fK\\x02h\\x10K\\x00h\\x11]\\x94h\\x13Nh\\x14h\\x15\\x8c\\x08gen_cnot\\x94\\x93\\x94h\\x18Nub\\x8c\\x05CSIGN\\x94h\\t)\\x81\\x94}\\x94(h\\x0ch5h\\r]\\x94h\\x0fK\\x02h\\x10K\\x00h\\x11]\\x94h\\x13Nh\\x14h\\x15\\x8c\\tgen_csign\\x94\\x93\\x94h\\x18Nub\\x8c\\x05ISWAP\\x94h\\t)\\x81\\x94}\\x94(h\\x0ch<h\\r]\\x94h\\x0fK\\x02h\\x10K\\x00h\\x11]\\x94h\\x13Nh\\x14h\\x15\\x8c\\tgen_iswap\\x94\\x93\\x94h\\x18Nub\\x8c\\x08SQRTSWAP\\x94h\\t)\\x81\\x94}\\x94(h\\x0chCh\\r]\\x94h\\x0fK\\x02h\\x10K\\x00h\\x11]\\x94h\\x13Nh\\x14h\\x15\\x8c\\x0cgen_sqrtswap\\x94\\x93\\x94h\\x18Nub\\x8c\\x01I\\x94h\\t)\\x81\\x94}\\x94(h\\x0chJh\\r]\\x94h\\x0fK\\x01h\\x10K\\x00h\\x11]\\x94h\\x13Nh\\x14h\\x15\\x8c\\x05gen_i\\x94\\x93\\x94h\\x18Nub\\x8c\\x04SWAP\\x94h\\t)\\x81\\x94}\\x94(h\\x0chQh\\r]\\x94h\\x0fK\\x02h\\x10K\\x00h\\x11]\\x94h\\x13Nh\\x14h\\x15\\x8c\\x08gen_swap\\x94\\x93\\x94h\\x18Nub\\x8c\\x05CCNOT\\x94h\\t)\\x81\\x94}\\x94(h\\x0chXh\\r]\\x94h\\x0fK\\x03h\\x10K\\x00h\\x11]\\x94h\\x13Nh\\x14h\\x15\\x8c\\tgen_ccnot\\x94\\x93\\x94h\\x18Nub\\x8c\\x01S\\x94h\\t)\\x81\\x94}\\x94(h\\x0ch_h\\r]\\x94h\\x0fK\\x01h\\x10K\\x00h\\x11]\\x94h\\x13Nh\\x14h\\x15\\x8c\\x05gen_s\\x94\\x93\\x94h\\x18Nub\\x8c\\x01T\\x94h\\t)\\x81\\x94}\\x94(h\\x0chfh\\r]\\x94h\\x0fK\\x01h\\x10K\\x00h\\x11]\\x94h\\x13Nh\\x14h\\x15\\x8c\\x05gen_t\\x94\\x93\\x94h\\x18Nub\\x8c\\x02PH\\x94h\\t)\\x81\\x94}\\x94(h\\x0chmh\\r]\\x94K\\x01ah\\x0fK\\x01h\\x10K\\x01h\\x11]\\x94\\x8c\\ndill._dill\\x94\\x8c\\n_load_type\\x94\\x93\\x94\\x8c\\x05float\\x94\\x85\\x94R\\x94ah\\x13Nh\\x14h\\x15\\x8c\\x06gen_ph\\x94\\x93\\x94h\\x18Nub\\x8c\\x02RZ\\x94h\\t)\\x81\\x94}\\x94(h\\x0chzh\\r]\\x94K\\x01ah\\x0fK\\x01h\\x10K\\x01h\\x11]\\x94hwah\\x13Nh\\x14h\\x15\\x8c\\x06gen_rz\\x94\\x93\\x94h\\x18Nub\\x8c\\x02RX\\x94h\\t)\\x81\\x94}\\x94(h\\x0ch\\x81h\\r]\\x94K\\x01ah\\x0fK\\x01h\\x10K\\x01h\\x11]\\x94hwah\\x13Nh\\x14h\\x15\\x8c\\x06gen_rx\\x94\\x93\\x94h\\x18Nub\\x8c\\x02RY\\x94h\\t)\\x81\\x94}\\x94(h\\x0ch\\x88h\\r]\\x94K\\x01ah\\x0fK\\x01h\\x10K\\x01h\\x11]\\x94hwah\\x13Nh\\x14h\\x15\\x8c\\x06gen_ry\\x94\\x93\\x94h\\x18Nub\\x8c\\x01U\\x94\\x8c\\x14qat.lang.AQASM.gates\\x94\\x8c\\x0cAbstractGate\\x94\\x93\\x94)\\x81\\x94}\\x94(h\\x0ch\\x8fh\\r]\\x94(K\\x01K\\x01K\\x01eh\\x0fK\\x01h\\x10K\\x03h\\x11]\\x94(hwhwhweh\\x13Nh\\x14\\x8c qat.interop.openqasm.qasm_parser\\x94\\x8c\\x05gen_U\\x94\\x93\\x94h\\x18N\\x8c\\x08dag_func\\x94Nub\\x8c\\x02U1\\x94h\\x92)\\x81\\x94}\\x94(h\\x0ch\\x9bh\\r]\\x94K\\x01ah\\x0fK\\x01h\\x10K\\x01h\\x11]\\x94hwah\\x13Nh\\x14h\\x97\\x8c\\x06gen_u1\\x94\\x93\\x94h\\x18Nh\\x9aNub\\x8c\\x02U2\\x94h\\x92)\\x81\\x94}\\x94(h\\x0ch\\xa2h\\r]\\x94(K\\x01K\\x01eh\\x0fK\\x01h\\x10K\\x02h\\x11]\\x94(hwhweh\\x13Nh\\x14h\\x97\\x8c\\x06gen_u2\\x94\\x93\\x94h\\x18Nh\\x9aNub\\x8c\\x02U3\\x94h\\x92)\\x81\\x94}\\x94(h\\x0ch\\xa9h\\r]\\x94(K\\x01K\\x01K\\x01eh\\x0fK\\x01h\\x10K\\x03h\\x11]\\x94(hwhwhweh\\x13Nh\\x14h\\x99h\\x18Nh\\x9aNubusb.\")"
      ]
     },
     "execution_count": 18,
     "metadata": {},
     "output_type": "execute_result"
    }
   ],
   "source": [
    "circ3.to_other_language(Language.MY_QLM)"
   ]
  },
  {
   "cell_type": "code",
   "execution_count": 19,
   "id": "4dbea0c8",
   "metadata": {
    "scrolled": false
   },
   "outputs": [
    {
     "name": "stderr",
     "output_type": "stream",
     "text": [
      "This program uses OpenQASM language features that may not be supported on QPUs or on-demand simulators.\n"
     ]
    },
    {
     "data": {
      "text/plain": [
       "Circuit('instructions': [Instruction('operator': H('qubit_count': 1), 'target': QubitSet([Qubit(0)]), 'control': QubitSet([]), 'control_state': (), 'power': 1), Instruction('operator': X('qubit_count': 1), 'target': QubitSet([Qubit(1)]), 'control': QubitSet([]), 'control_state': (), 'power': 1), Instruction('operator': CNot('qubit_count': 2), 'target': QubitSet([Qubit(1), Qubit(2)]), 'control': QubitSet([]), 'control_state': (), 'power': 1), Instruction('operator': Y('qubit_count': 1), 'target': QubitSet([Qubit(2)]), 'control': QubitSet([]), 'control_state': (), 'power': 1), Instruction('operator': Z('qubit_count': 1), 'target': QubitSet([Qubit(0)]), 'control': QubitSet([]), 'control_state': (), 'power': 1), Instruction('operator': CZ('qubit_count': 2), 'target': QubitSet([Qubit(1), Qubit(0)]), 'control': QubitSet([]), 'control_state': (), 'power': 1)])"
      ]
     },
     "execution_count": 19,
     "metadata": {},
     "output_type": "execute_result"
    }
   ],
   "source": [
    "circ3.to_other_language(Language.BRAKET)"
   ]
  },
  {
   "cell_type": "markdown",
   "id": "b625d414",
   "metadata": {},
   "source": [
    "Since we use OpenQASM as a common standard for circuit translation, we also provide for the user a way to retrive the code of the circuit in OpenQASM 2.0 and 3.0."
   ]
  },
  {
   "cell_type": "code",
   "execution_count": 20,
   "id": "c39e3e72",
   "metadata": {},
   "outputs": [
    {
     "name": "stdout",
     "output_type": "stream",
     "text": [
      "OPENQASM 2.0;\n",
      "include \"qelib1.inc\";\n",
      "qreg q[3];\n",
      "creg c[3];\n",
      "h q[0];\n",
      "x q[1];\n",
      "cx q[1],q[2];\n",
      "barrier q[0],q[1],q[2];\n",
      "y q[2];\n",
      "z q[0];\n",
      "cz q[1],q[0];\n",
      "measure q[0] -> c[0];\n",
      "measure q[1] -> c[1];\n",
      "measure q[2] -> c[2];\n",
      "\n"
     ]
    }
   ],
   "source": [
    "print(circ3.to_qasm2())"
   ]
  },
  {
   "cell_type": "code",
   "execution_count": 21,
   "id": "0cdb44e5",
   "metadata": {},
   "outputs": [
    {
     "name": "stdout",
     "output_type": "stream",
     "text": [
      "OPENQASM 3.0;\n",
      "include \"stdgates.inc\";\n",
      "\n",
      "qubit[3] q;\n",
      "bit[3] c;\n",
      "h q[0];\n",
      "x q[1];\n",
      "cx q[1],q[2];\n",
      "barrier q[0],q[1],q[2];\n",
      "y q[2];\n",
      "z q[0];\n",
      "cz q[1],q[0];\n",
      "c[0] = measure q[0];\n",
      "c[1] = measure q[1];\n",
      "c[2] = measure q[2];\n",
      "\n"
     ]
    }
   ],
   "source": [
    "print(circ3.to_qasm3())"
   ]
  },
  {
   "cell_type": "markdown",
   "id": "9b28dfc3",
   "metadata": {},
   "source": [
    "## Parametrized circuit\n",
    "\n",
    "We allow the use and manipulation of symbolic variable to parametrize gates composing a ``QCircuit``, by using the ``sympy``library. We first declare symbolic variables using ``symbols``."
   ]
  },
  {
   "cell_type": "code",
   "execution_count": 22,
   "id": "f4c91072",
   "metadata": {},
   "outputs": [],
   "source": [
    "from mpqp.gates import symbols\n",
    "\n",
    "theta, k = symbols(\"θ k\")"
   ]
  },
  {
   "cell_type": "markdown",
   "id": "f8b64b3a",
   "metadata": {},
   "source": [
    "We can then use these variables to instantiate and add ``ParametrizedGate`` to the circuit."
   ]
  },
  {
   "cell_type": "code",
   "execution_count": 23,
   "id": "d9ba7734",
   "metadata": {},
   "outputs": [],
   "source": [
    "param_circ = QCircuit(\n",
    "    [Rx(theta, 0), CNOT(1,2), X(2), Rk(k,1), H(0), CRk(k, 0, 2),\n",
    "    BasisMeasure(list(range(3)), shots=1000)]\n",
    ")"
   ]
  },
  {
   "cell_type": "markdown",
   "id": "779c8b03",
   "metadata": {},
   "source": [
    "One can observe, in the print below, that 3 gates depend on variables.  "
   ]
  },
  {
   "cell_type": "code",
   "execution_count": 24,
   "id": "aad43475",
   "metadata": {},
   "outputs": [
    {
     "name": "stdout",
     "output_type": "stream",
     "text": [
      "     ┌───────┐       ┌───┐                              ┌─┐   \n",
      "q_0: ┤ Rx(θ) ├───────┤ H ├─────────■────────────────────┤M├───\n",
      "     └───────┘┌──────┴───┴───────┐ │                 ┌─┐└╥┘   \n",
      "q_1: ────■────┤ P(2**(1 - k)*pi) ├─┼─────────────────┤M├─╫────\n",
      "       ┌─┴─┐  └──────┬───┬───────┘ │P(2**(1 - k)*pi) └╥┘ ║ ┌─┐\n",
      "q_2: ──┤ X ├─────────┤ X ├─────────■──────────────────╫──╫─┤M├\n",
      "       └───┘         └───┘                            ║  ║ └╥┘\n",
      "c: 3/═════════════════════════════════════════════════╩══╩══╩═\n",
      "                                                      1  0  2 \n"
     ]
    }
   ],
   "source": [
    "print(param_circ)"
   ]
  },
  {
   "cell_type": "markdown",
   "id": "cfadd9f6",
   "metadata": {},
   "source": [
    "If we want to attribute values to the parameters, one can use the method ``subs`` as follows. This will return a new circuit with the gates' parameters given in ``subs``. One can also choose to substitute symbolic variable with real and complex numbers when call the ``run`` function (at execution)."
   ]
  },
  {
   "cell_type": "code",
   "execution_count": 25,
   "id": "bdc7f941",
   "metadata": {},
   "outputs": [
    {
     "name": "stdout",
     "output_type": "stream",
     "text": [
      "     ┌─────────┐  ┌───┐               ┌─┐   \n",
      "q_0: ┤ Rx(π/3) ├──┤ H ├────■──────────┤M├───\n",
      "     └─────────┘┌─┴───┴──┐ │       ┌─┐└╥┘   \n",
      "q_1: ─────■─────┤ P(π/2) ├─┼───────┤M├─╫────\n",
      "        ┌─┴─┐   └─┬───┬──┘ │P(π/2) └╥┘ ║ ┌─┐\n",
      "q_2: ───┤ X ├─────┤ X ├────■────────╫──╫─┤M├\n",
      "        └───┘     └───┘             ║  ║ └╥┘\n",
      "c: 3/═══════════════════════════════╩══╩══╩═\n",
      "                                    1  0  2 \n"
     ]
    }
   ],
   "source": [
    "import numpy as np\n",
    "print(param_circ.subs({theta: np.pi/3, k:2}))"
   ]
  },
  {
   "cell_type": "markdown",
   "id": "95208ea0",
   "metadata": {},
   "source": [
    "One can also retrieve the set of variables in the circuit by calling the ``variables()`` method."
   ]
  },
  {
   "cell_type": "code",
   "execution_count": 26,
   "id": "000492f4",
   "metadata": {},
   "outputs": [
    {
     "data": {
      "text/plain": [
       "{k, θ}"
      ]
     },
     "execution_count": 26,
     "metadata": {},
     "output_type": "execute_result"
    }
   ],
   "source": [
    "param_circ.variables()"
   ]
  }
 ],
 "metadata": {
  "kernelspec": {
   "display_name": "Python 3",
   "language": "python",
   "name": "python3"
  },
  "language_info": {
   "codemirror_mode": {
    "name": "ipython",
    "version": 3
   },
   "file_extension": ".py",
   "mimetype": "text/x-python",
   "name": "python",
   "nbconvert_exporter": "python",
   "pygments_lexer": "ipython3",
   "version": "3.9.5"
  }
 },
 "nbformat": 4,
 "nbformat_minor": 5
}
