{
 "cells": [
  {
   "cell_type": "markdown",
   "id": "22e48505",
   "metadata": {},
   "source": [
    "# Execution of the Bell circuit\n",
    "\n",
    "The usual first experiment in Quantum Computing is to simulate a 2-qubit Bell state.\n",
    "\n",
    "## Creating the EPR/Bell state \n",
    "\n",
    "Let us create first the related circuit."
   ]
  },
  {
   "cell_type": "code",
   "execution_count": 1,
   "id": "f6c80145",
   "metadata": {},
   "outputs": [],
   "source": [
    "from mpqp import QCircuit\n",
    "from mpqp.gates import H, CNOT"
   ]
  },
  {
   "cell_type": "code",
   "execution_count": 2,
   "id": "c935a396",
   "metadata": {},
   "outputs": [
    {
     "name": "stdout",
     "output_type": "stream",
     "text": [
      "     ┌───┐     \n",
      "q_0: ┤ H ├──■──\n",
      "     └───┘┌─┴─┐\n",
      "q_1: ─────┤ X ├\n",
      "          └───┘\n"
     ]
    }
   ],
   "source": [
    "circuit = QCircuit([H(0), CNOT(0,1)], label=\"Bell state\")\n",
    "print(circuit)"
   ]
  },
  {
   "cell_type": "markdown",
   "id": "56c801bb",
   "metadata": {},
   "source": [
    "## Run the circuit on a local device\n",
    "\n",
    "We can execute a circuit on a local simulator by calling the function ``run`` and precising the device."
   ]
  },
  {
   "cell_type": "code",
   "execution_count": 3,
   "id": "3e65b837",
   "metadata": {},
   "outputs": [],
   "source": [
    "from mpqp.execution import run, ATOSDevice"
   ]
  },
  {
   "cell_type": "markdown",
   "id": "5a7e39d7",
   "metadata": {},
   "source": [
    "When no measure is added to the circuit, running the circuit will consist in extracting the state-vector at the output of the circuit."
   ]
  },
  {
   "cell_type": "code",
   "execution_count": 4,
   "id": "78af15b4",
   "metadata": {},
   "outputs": [
    {
     "name": "stdout",
     "output_type": "stream",
     "text": [
      "Result: ATOSDevice, MYQLM_PYLINALG\n",
      "\n",
      "        State vector: [0.70710677+0.j 0.        +0.j 0.        +0.j 0.70710677+0.j]\n",
      "        Probabilities: [0.5 0.  0.  0.5]\n",
      "        Number of qubits: 2\n",
      "\n",
      "\n",
      "[0.70710677+0.j 0.        +0.j 0.        +0.j 0.70710677+0.j]\n",
      "[0.5 0.  0.  0.5]\n"
     ]
    }
   ],
   "source": [
    "result = run(circuit, ATOSDevice.MYQLM_PYLINALG)\n",
    "print(result)\n",
    "print(result.amplitudes)\n",
    "print(result.probabilities)"
   ]
  },
  {
   "cell_type": "markdown",
   "id": "86a7173c",
   "metadata": {},
   "source": [
    "We can also add to the circuit a ``BasisMeasure``, consisting in sample the state in a given basis. By default, the basis is the computational one."
   ]
  },
  {
   "cell_type": "code",
   "execution_count": 5,
   "id": "19b00445",
   "metadata": {},
   "outputs": [],
   "source": [
    "from mpqp.measures import BasisMeasure"
   ]
  },
  {
   "cell_type": "markdown",
   "id": "c1fb628d",
   "metadata": {},
   "source": [
    "We precise which qubits we can to measure by inputting a list of indices, and precising the number of shots. When ``shots=0``, we end up in the same case as before, a statevector simulation."
   ]
  },
  {
   "cell_type": "code",
   "execution_count": 6,
   "id": "330f8b37",
   "metadata": {},
   "outputs": [
    {
     "name": "stdout",
     "output_type": "stream",
     "text": [
      "Result: ATOSDevice, MYQLM_PYLINALG\n",
      "\n",
      "        State vector: [0.70710677+0.j 0.        +0.j 0.        +0.j 0.70710677+0.j]\n",
      "        Probabilities: [0.5 0.  0.  0.5]\n",
      "        Number of qubits: 2\n",
      "\n",
      "\n"
     ]
    }
   ],
   "source": [
    "circuit.add(BasisMeasure([0,1], shots=0))\n",
    "result = run(circuit, ATOSDevice.MYQLM_PYLINALG)\n",
    "print(result)"
   ]
  },
  {
   "cell_type": "markdown",
   "id": "5bfb1221",
   "metadata": {},
   "source": [
    "When we precise a number of shots, the circuit will be sampled and a list of ``Sample`` will be returned, precising the counts for each state of the basis."
   ]
  },
  {
   "cell_type": "code",
   "execution_count": 7,
   "id": "6425ff73",
   "metadata": {},
   "outputs": [],
   "source": [
    "circuit = circuit.without_measurements()\n",
    "circuit.add(BasisMeasure([0,1], shots=1024))"
   ]
  },
  {
   "cell_type": "code",
   "execution_count": 8,
   "id": "714d80db",
   "metadata": {},
   "outputs": [
    {
     "name": "stdout",
     "output_type": "stream",
     "text": [
      "Result: ATOSDevice, MYQLM_PYLINALG\n",
      "Counts: [493, 0, 0, 531]\n",
      "Probabilities: [0.48144531 0.         0.         0.51855469]\n",
      "State: 00, Index: 0, Count: 493, Probability: 0.4814453125\n",
      "State: 11, Index: 3, Count: 531, Probability: 0.5185546875\n",
      "Error: 0.015621867383234688\n",
      "\n",
      "\n",
      "[State: 00, Index: 0, Count: 493, Probability: 0.4814453125, State: 11, Index: 3, Count: 531, Probability: 0.5185546875]\n",
      "[493, 0, 0, 531]\n",
      "[0.48144531 0.         0.         0.51855469]\n"
     ]
    }
   ],
   "source": [
    "result = run(circuit, ATOSDevice.MYQLM_PYLINALG)\n",
    "print(result)\n",
    "print(result.samples)\n",
    "print(result.counts)\n",
    "print(result.probabilities)"
   ]
  },
  {
   "cell_type": "markdown",
   "id": "4f5dcc72",
   "metadata": {},
   "source": [
    "## Run the circuit on multiple devices\n",
    "\n",
    "By using the same function ``run`` we can execute the circuit on several simulators at the time. One just has to give a list of devices instead of a single device."
   ]
  },
  {
   "cell_type": "code",
   "execution_count": 9,
   "id": "e2603bb2",
   "metadata": {},
   "outputs": [],
   "source": [
    "from mpqp.execution import IBMDevice, AWSDevice"
   ]
  },
  {
   "cell_type": "code",
   "execution_count": 10,
   "id": "cbe4dba3",
   "metadata": {},
   "outputs": [
    {
     "name": "stderr",
     "output_type": "stream",
     "text": [
      "This program uses OpenQASM language features that may not be supported on QPUs or on-demand simulators.\n"
     ]
    },
    {
     "name": "stdout",
     "output_type": "stream",
     "text": [
      "BatchResult: 3 results\n",
      "Result: ATOSDevice, MYQLM_PYLINALG\n",
      "Counts: [520, 0, 0, 504]\n",
      "Probabilities: [0.5078125 0.        0.        0.4921875]\n",
      "State: 11, Index: 3, Count: 504, Probability: 0.4921875\n",
      "State: 00, Index: 0, Count: 520, Probability: 0.5078125\n",
      "Error: 0.01563072658989357\n",
      "\n",
      "Result: IBMDevice, AER_SIMULATOR\n",
      "Counts: [515, 0, 0, 509]\n",
      "Probabilities: [0.50292969 0.         0.         0.49707031]\n",
      "State: 00, Index: 0, Count: 515, Probability: 0.5029296875\n",
      "State: 11, Index: 3, Count: 509, Probability: 0.4970703125\n",
      "Error: None\n",
      "\n",
      "Result: AWSDevice, BRAKET_LOCAL_SIMULATOR\n",
      "Counts: [513, 0, 0, 511]\n",
      "Probabilities: [0.50097656 0.         0.         0.49902344]\n",
      "State: 00, Index: 0, Count: 513, Probability: 0.5009765625\n",
      "State: 11, Index: 3, Count: 511, Probability: 0.4990234375\n",
      "Error: None\n",
      "\n",
      "\n",
      "---------\n",
      "Result: ATOSDevice, MYQLM_PYLINALG\n",
      "Counts: [520, 0, 0, 504]\n",
      "Probabilities: [0.5078125 0.        0.        0.4921875]\n",
      "State: 11, Index: 3, Count: 504, Probability: 0.4921875\n",
      "State: 00, Index: 0, Count: 520, Probability: 0.5078125\n",
      "Error: 0.01563072658989357\n",
      "\n",
      "\n"
     ]
    }
   ],
   "source": [
    "results = run(circuit, [ATOSDevice.MYQLM_PYLINALG, IBMDevice.AER_SIMULATOR, AWSDevice.BRAKET_LOCAL_SIMULATOR])\n",
    "print(results)\n",
    "print('---------')\n",
    "print(results[0])"
   ]
  },
  {
   "cell_type": "markdown",
   "id": "cd44c510",
   "metadata": {},
   "source": [
    "## Run or submit the circuit on a remote device\n",
    "\n",
    "To execute the circuit on remote device, one can use the exact same process as with local devices. A call of the function ``run``on a remote device will make the program wait until the computation ends on the provider's side. One or several devices can still be given in parameter."
   ]
  },
  {
   "cell_type": "code",
   "execution_count": 11,
   "id": "37f9ebef",
   "metadata": {},
   "outputs": [
    {
     "name": "stdout",
     "output_type": "stream",
     "text": [
      "Result: IBMDevice, IBMQ_QASM_SIMULATOR\n",
      "Counts: [497, 0, 0, 527]\n",
      "Probabilities: [0.48535156 0.         0.         0.51464844]\n",
      "State: 00, Index: 0, Count: 497, Probability: 0.4853515625\n",
      "State: 11, Index: 3, Count: 527, Probability: 0.5146484375\n",
      "Error: None\n",
      "\n",
      "\n"
     ]
    }
   ],
   "source": [
    "result = run(circuit, IBMDevice.IBMQ_QASM_SIMULATOR)\n",
    "print(result)"
   ]
  },
  {
   "cell_type": "markdown",
   "id": "fb56b214",
   "metadata": {},
   "source": [
    "However, it is also possible to submit the job in an asynchronous way using the function ``submit``."
   ]
  },
  {
   "cell_type": "code",
   "execution_count": 12,
   "id": "9f3d9ab8",
   "metadata": {},
   "outputs": [],
   "source": [
    "from mpqp.execution import submit"
   ]
  },
  {
   "cell_type": "markdown",
   "id": "6a47a65d",
   "metadata": {},
   "source": [
    "By submitting the circuit to a remote device, we retrieve the id of the job on the provider side, as well as the MPQP job related with this submission, which contains additional information, such as the ``status`` of the job."
   ]
  },
  {
   "cell_type": "code",
   "execution_count": 13,
   "id": "5acaf7b9",
   "metadata": {},
   "outputs": [
    {
     "name": "stdout",
     "output_type": "stream",
     "text": [
      "cn9e9gsd06qe0i2tj4hg\n"
     ]
    }
   ],
   "source": [
    "job_id, job = submit(circuit, IBMDevice.IBMQ_QASM_SIMULATOR)\n",
    "print(job_id)"
   ]
  },
  {
   "cell_type": "markdown",
   "id": "80172787",
   "metadata": {},
   "source": [
    "Once the computation is done, we use the function ``remote_result_from_id`` for retrieving the result. If the job is not completed, the function will wait (blocking) until it is done."
   ]
  },
  {
   "cell_type": "code",
   "execution_count": 14,
   "id": "2619c488",
   "metadata": {},
   "outputs": [],
   "source": [
    "from mpqp.execution import remote_result_from_id"
   ]
  },
  {
   "cell_type": "code",
   "execution_count": 15,
   "id": "fa67799f",
   "metadata": {},
   "outputs": [
    {
     "name": "stdout",
     "output_type": "stream",
     "text": [
      "Result: IBMDevice, IBMQ_QASM_SIMULATOR\n",
      "Counts: [505, 0, 0, 519]\n",
      "Probabilities: [0.49316406 0.         0.         0.50683594]\n",
      "State: 00, Index: 0, Count: 505, Probability: 0.4931640625\n",
      "State: 11, Index: 3, Count: 519, Probability: 0.5068359375\n",
      "Error: None\n",
      "\n",
      "\n"
     ]
    }
   ],
   "source": [
    "result = remote_result_from_id(job_id, IBMDevice.IBMQ_QASM_SIMULATOR)\n",
    "print(result)"
   ]
  }
 ],
 "metadata": {
  "kernelspec": {
   "display_name": "Python 3",
   "language": "python",
   "name": "python3"
  },
  "language_info": {
   "codemirror_mode": {
    "name": "ipython",
    "version": 3
   },
   "file_extension": ".py",
   "mimetype": "text/x-python",
   "name": "python",
   "nbconvert_exporter": "python",
   "pygments_lexer": "ipython3",
   "version": "3.9.5"
  }
 },
 "nbformat": 4,
 "nbformat_minor": 5
}
