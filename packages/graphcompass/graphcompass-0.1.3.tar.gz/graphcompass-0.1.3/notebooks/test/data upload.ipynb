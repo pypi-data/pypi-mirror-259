{
 "cells": [
  {
   "cell_type": "code",
   "execution_count": 1,
   "id": "5dac5e2f-3c9a-425b-8f5b-0d2a4ccba148",
   "metadata": {},
   "outputs": [],
   "source": [
    "import scanpy as sc"
   ]
  },
  {
   "cell_type": "code",
   "execution_count": 5,
   "id": "a9b75f1a-8ed2-4bfc-af54-b257f7c8d9d2",
   "metadata": {},
   "outputs": [
    {
     "name": "stderr",
     "output_type": "stream",
     "text": [
      "/Users/mayar.ali/opt/anaconda3/envs/gc_test/lib/python3.10/site-packages/anndata/_core/anndata.py:183: ImplicitModificationWarning: Transforming to str index.\n",
      "  warnings.warn(\"Transforming to str index.\", ImplicitModificationWarning)\n",
      "/Users/mayar.ali/opt/anaconda3/envs/gc_test/lib/python3.10/site-packages/anndata/_core/anndata.py:1906: UserWarning: Observation names are not unique. To make them unique, call `.obs_names_make_unique`.\n",
      "  utils.warn_names_duplicates(\"obs\")\n"
     ]
    }
   ],
   "source": [
    "adata_breast_cancer = sc.read_h5ad(\"/Volumes/My Passport /phd/hackathon/spatialde/data/mibitof_breast_cancer/adata_processed.h5ad\")"
   ]
  },
  {
   "cell_type": "code",
   "execution_count": 11,
   "id": "8e36056d-bb85-4b9f-954a-8f5848b672c1",
   "metadata": {},
   "outputs": [
    {
     "name": "stderr",
     "output_type": "stream",
     "text": [
      "/Users/mayar.ali/opt/anaconda3/envs/gc_test/lib/python3.10/site-packages/anndata/_core/anndata.py:1906: UserWarning: Observation names are not unique. To make them unique, call `.obs_names_make_unique`.\n",
      "  utils.warn_names_duplicates(\"obs\")\n"
     ]
    }
   ],
   "source": [
    "adata_heart = sc.read_h5ad(\"/Volumes/My Passport /phd/hackathon/spatialde/data/visium_heart/adata_processed_graphs.h5ad\")"
   ]
  },
  {
   "cell_type": "code",
   "execution_count": 16,
   "id": "e56532fa-48ff-445d-b165-c5ce7fc6861b",
   "metadata": {},
   "outputs": [],
   "source": [
    "del adata_heart.uns['pairwise_similarities']"
   ]
  },
  {
   "cell_type": "code",
   "execution_count": 18,
   "id": "c932e0b3-2704-40b1-b423-4f0ea28fe0f5",
   "metadata": {},
   "outputs": [],
   "source": [
    "adata_heart.write_h5ad(\"/Volumes/My Passport /phd/hackathon/spatialde/data/to_upload/visium_heart.h5ad\")"
   ]
  },
  {
   "cell_type": "code",
   "execution_count": 19,
   "id": "4f1e68a9-0173-4e74-9547-0dff6f8569a5",
   "metadata": {},
   "outputs": [],
   "source": [
    "adata_breast_cancer.write_h5ad(\"/Volumes/My Passport /phd/hackathon/spatialde/data/to_upload/mibitof_breast_cancer.h5ad\")"
   ]
  },
  {
   "cell_type": "code",
   "execution_count": 21,
   "id": "7e114fc9-d746-47b3-8cfa-c4098bdc1a0f",
   "metadata": {
    "scrolled": true
   },
   "outputs": [
    {
     "name": "stderr",
     "output_type": "stream",
     "text": [
      "/Users/mayar.ali/opt/anaconda3/envs/gc_test/lib/python3.10/site-packages/anndata/_core/anndata.py:1906: UserWarning: Observation names are not unique. To make them unique, call `.obs_names_make_unique`.\n",
      "  utils.warn_names_duplicates(\"obs\")\n",
      "/Users/mayar.ali/opt/anaconda3/envs/gc_test/lib/python3.10/site-packages/anndata/_core/anndata.py:1906: UserWarning: Observation names are not unique. To make them unique, call `.obs_names_make_unique`.\n",
      "  utils.warn_names_duplicates(\"obs\")\n",
      "/Users/mayar.ali/opt/anaconda3/envs/gc_test/lib/python3.10/site-packages/anndata/_core/anndata.py:1906: UserWarning: Observation names are not unique. To make them unique, call `.obs_names_make_unique`.\n",
      "  utils.warn_names_duplicates(\"obs\")\n",
      "/Users/mayar.ali/opt/anaconda3/envs/gc_test/lib/python3.10/site-packages/anndata/_core/anndata.py:1906: UserWarning: Observation names are not unique. To make them unique, call `.obs_names_make_unique`.\n",
      "  utils.warn_names_duplicates(\"obs\")\n",
      "/Users/mayar.ali/opt/anaconda3/envs/gc_test/lib/python3.10/site-packages/anndata/_core/anndata.py:1906: UserWarning: Observation names are not unique. To make them unique, call `.obs_names_make_unique`.\n",
      "  utils.warn_names_duplicates(\"obs\")\n"
     ]
    },
    {
     "ename": "FileNotFoundError",
     "evalue": "[Errno 2] Unable to open file (unable to open file: name = '/Volumes/My Passport /phd/hackathon/spatialde/data/development_stereoseq/60DPIs.h5ad', errno = 2, error message = 'No such file or directory', flags = 0, o_flags = 0)",
     "output_type": "error",
     "traceback": [
      "\u001b[0;31m---------------------------------------------------------------------------\u001b[0m",
      "\u001b[0;31mFileNotFoundError\u001b[0m                         Traceback (most recent call last)",
      "Cell \u001b[0;32mIn[21], line 7\u001b[0m\n\u001b[1;32m      5\u001b[0m adata_2DPIs \u001b[38;5;241m=\u001b[39m sc\u001b[38;5;241m.\u001b[39mread_h5ad(\u001b[38;5;124m\"\u001b[39m\u001b[38;5;124m/Volumes/My Passport /phd/hackathon/spatialde/data/development_stereoseq/2DPIs.h5ad\u001b[39m\u001b[38;5;124m\"\u001b[39m)\n\u001b[1;32m      6\u001b[0m adata_5DPIs \u001b[38;5;241m=\u001b[39m sc\u001b[38;5;241m.\u001b[39mread_h5ad(\u001b[38;5;124m\"\u001b[39m\u001b[38;5;124m/Volumes/My Passport /phd/hackathon/spatialde/data/development_stereoseq/5DPIs.h5ad\u001b[39m\u001b[38;5;124m\"\u001b[39m)\n\u001b[0;32m----> 7\u001b[0m adata_60DPIs \u001b[38;5;241m=\u001b[39m \u001b[43msc\u001b[49m\u001b[38;5;241;43m.\u001b[39;49m\u001b[43mread_h5ad\u001b[49m\u001b[43m(\u001b[49m\u001b[38;5;124;43m\"\u001b[39;49m\u001b[38;5;124;43m/Volumes/My Passport /phd/hackathon/spatialde/data/development_stereoseq/60DPIs.h5ad\u001b[39;49m\u001b[38;5;124;43m\"\u001b[39;49m\u001b[43m)\u001b[49m\n\u001b[1;32m      9\u001b[0m \u001b[38;5;66;03m# development\u001b[39;00m\n\u001b[1;32m     10\u001b[0m adata_Adult \u001b[38;5;241m=\u001b[39m sc\u001b[38;5;241m.\u001b[39mread_h5ad(\u001b[38;5;124m\"\u001b[39m\u001b[38;5;124m/Volumes/My Passport /phd/hackathon/spatialde/data/development_stereoseq/Adult.h5ad\u001b[39m\u001b[38;5;124m\"\u001b[39m)\n",
      "File \u001b[0;32m~/opt/anaconda3/envs/gc_test/lib/python3.10/site-packages/anndata/_io/h5ad.py:237\u001b[0m, in \u001b[0;36mread_h5ad\u001b[0;34m(filename, backed, as_sparse, as_sparse_fmt, chunk_size)\u001b[0m\n\u001b[1;32m    229\u001b[0m         \u001b[38;5;28;01mraise\u001b[39;00m \u001b[38;5;167;01mNotImplementedError\u001b[39;00m(\n\u001b[1;32m    230\u001b[0m             \u001b[38;5;124m\"\u001b[39m\u001b[38;5;124mCurrently only `X` and `raw/X` can be read as sparse.\u001b[39m\u001b[38;5;124m\"\u001b[39m\n\u001b[1;32m    231\u001b[0m         )\n\u001b[1;32m    233\u001b[0m rdasp \u001b[38;5;241m=\u001b[39m partial(\n\u001b[1;32m    234\u001b[0m     read_dense_as_sparse, sparse_format\u001b[38;5;241m=\u001b[39mas_sparse_fmt, axis_chunk\u001b[38;5;241m=\u001b[39mchunk_size\n\u001b[1;32m    235\u001b[0m )\n\u001b[0;32m--> 237\u001b[0m \u001b[38;5;28;01mwith\u001b[39;00m \u001b[43mh5py\u001b[49m\u001b[38;5;241;43m.\u001b[39;49m\u001b[43mFile\u001b[49m\u001b[43m(\u001b[49m\u001b[43mfilename\u001b[49m\u001b[43m,\u001b[49m\u001b[43m \u001b[49m\u001b[38;5;124;43m\"\u001b[39;49m\u001b[38;5;124;43mr\u001b[39;49m\u001b[38;5;124;43m\"\u001b[39;49m\u001b[43m)\u001b[49m \u001b[38;5;28;01mas\u001b[39;00m f:\n\u001b[1;32m    239\u001b[0m     \u001b[38;5;28;01mdef\u001b[39;00m \u001b[38;5;21mcallback\u001b[39m(func, elem_name: \u001b[38;5;28mstr\u001b[39m, elem, iospec):\n\u001b[1;32m    240\u001b[0m         \u001b[38;5;28;01mif\u001b[39;00m iospec\u001b[38;5;241m.\u001b[39mencoding_type \u001b[38;5;241m==\u001b[39m \u001b[38;5;124m\"\u001b[39m\u001b[38;5;124manndata\u001b[39m\u001b[38;5;124m\"\u001b[39m \u001b[38;5;129;01mor\u001b[39;00m elem_name\u001b[38;5;241m.\u001b[39mendswith(\u001b[38;5;124m\"\u001b[39m\u001b[38;5;124m/\u001b[39m\u001b[38;5;124m\"\u001b[39m):\n",
      "File \u001b[0;32m~/opt/anaconda3/envs/gc_test/lib/python3.10/site-packages/h5py/_hl/files.py:562\u001b[0m, in \u001b[0;36mFile.__init__\u001b[0;34m(self, name, mode, driver, libver, userblock_size, swmr, rdcc_nslots, rdcc_nbytes, rdcc_w0, track_order, fs_strategy, fs_persist, fs_threshold, fs_page_size, page_buf_size, min_meta_keep, min_raw_keep, locking, alignment_threshold, alignment_interval, meta_block_size, **kwds)\u001b[0m\n\u001b[1;32m    553\u001b[0m     fapl \u001b[38;5;241m=\u001b[39m make_fapl(driver, libver, rdcc_nslots, rdcc_nbytes, rdcc_w0,\n\u001b[1;32m    554\u001b[0m                      locking, page_buf_size, min_meta_keep, min_raw_keep,\n\u001b[1;32m    555\u001b[0m                      alignment_threshold\u001b[38;5;241m=\u001b[39malignment_threshold,\n\u001b[1;32m    556\u001b[0m                      alignment_interval\u001b[38;5;241m=\u001b[39malignment_interval,\n\u001b[1;32m    557\u001b[0m                      meta_block_size\u001b[38;5;241m=\u001b[39mmeta_block_size,\n\u001b[1;32m    558\u001b[0m                      \u001b[38;5;241m*\u001b[39m\u001b[38;5;241m*\u001b[39mkwds)\n\u001b[1;32m    559\u001b[0m     fcpl \u001b[38;5;241m=\u001b[39m make_fcpl(track_order\u001b[38;5;241m=\u001b[39mtrack_order, fs_strategy\u001b[38;5;241m=\u001b[39mfs_strategy,\n\u001b[1;32m    560\u001b[0m                      fs_persist\u001b[38;5;241m=\u001b[39mfs_persist, fs_threshold\u001b[38;5;241m=\u001b[39mfs_threshold,\n\u001b[1;32m    561\u001b[0m                      fs_page_size\u001b[38;5;241m=\u001b[39mfs_page_size)\n\u001b[0;32m--> 562\u001b[0m     fid \u001b[38;5;241m=\u001b[39m \u001b[43mmake_fid\u001b[49m\u001b[43m(\u001b[49m\u001b[43mname\u001b[49m\u001b[43m,\u001b[49m\u001b[43m \u001b[49m\u001b[43mmode\u001b[49m\u001b[43m,\u001b[49m\u001b[43m \u001b[49m\u001b[43muserblock_size\u001b[49m\u001b[43m,\u001b[49m\u001b[43m \u001b[49m\u001b[43mfapl\u001b[49m\u001b[43m,\u001b[49m\u001b[43m \u001b[49m\u001b[43mfcpl\u001b[49m\u001b[43m,\u001b[49m\u001b[43m \u001b[49m\u001b[43mswmr\u001b[49m\u001b[38;5;241;43m=\u001b[39;49m\u001b[43mswmr\u001b[49m\u001b[43m)\u001b[49m\n\u001b[1;32m    564\u001b[0m \u001b[38;5;28;01mif\u001b[39;00m \u001b[38;5;28misinstance\u001b[39m(libver, \u001b[38;5;28mtuple\u001b[39m):\n\u001b[1;32m    565\u001b[0m     \u001b[38;5;28mself\u001b[39m\u001b[38;5;241m.\u001b[39m_libver \u001b[38;5;241m=\u001b[39m libver\n",
      "File \u001b[0;32m~/opt/anaconda3/envs/gc_test/lib/python3.10/site-packages/h5py/_hl/files.py:235\u001b[0m, in \u001b[0;36mmake_fid\u001b[0;34m(name, mode, userblock_size, fapl, fcpl, swmr)\u001b[0m\n\u001b[1;32m    233\u001b[0m     \u001b[38;5;28;01mif\u001b[39;00m swmr \u001b[38;5;129;01mand\u001b[39;00m swmr_support:\n\u001b[1;32m    234\u001b[0m         flags \u001b[38;5;241m|\u001b[39m\u001b[38;5;241m=\u001b[39m h5f\u001b[38;5;241m.\u001b[39mACC_SWMR_READ\n\u001b[0;32m--> 235\u001b[0m     fid \u001b[38;5;241m=\u001b[39m \u001b[43mh5f\u001b[49m\u001b[38;5;241;43m.\u001b[39;49m\u001b[43mopen\u001b[49m\u001b[43m(\u001b[49m\u001b[43mname\u001b[49m\u001b[43m,\u001b[49m\u001b[43m \u001b[49m\u001b[43mflags\u001b[49m\u001b[43m,\u001b[49m\u001b[43m \u001b[49m\u001b[43mfapl\u001b[49m\u001b[38;5;241;43m=\u001b[39;49m\u001b[43mfapl\u001b[49m\u001b[43m)\u001b[49m\n\u001b[1;32m    236\u001b[0m \u001b[38;5;28;01melif\u001b[39;00m mode \u001b[38;5;241m==\u001b[39m \u001b[38;5;124m'\u001b[39m\u001b[38;5;124mr+\u001b[39m\u001b[38;5;124m'\u001b[39m:\n\u001b[1;32m    237\u001b[0m     fid \u001b[38;5;241m=\u001b[39m h5f\u001b[38;5;241m.\u001b[39mopen(name, h5f\u001b[38;5;241m.\u001b[39mACC_RDWR, fapl\u001b[38;5;241m=\u001b[39mfapl)\n",
      "File \u001b[0;32mh5py/_objects.pyx:54\u001b[0m, in \u001b[0;36mh5py._objects.with_phil.wrapper\u001b[0;34m()\u001b[0m\n",
      "File \u001b[0;32mh5py/_objects.pyx:55\u001b[0m, in \u001b[0;36mh5py._objects.with_phil.wrapper\u001b[0;34m()\u001b[0m\n",
      "File \u001b[0;32mh5py/h5f.pyx:102\u001b[0m, in \u001b[0;36mh5py.h5f.open\u001b[0;34m()\u001b[0m\n",
      "\u001b[0;31mFileNotFoundError\u001b[0m: [Errno 2] Unable to open file (unable to open file: name = '/Volumes/My Passport /phd/hackathon/spatialde/data/development_stereoseq/60DPIs.h5ad', errno = 2, error message = 'No such file or directory', flags = 0, o_flags = 0)"
     ]
    }
   ],
   "source": [
    "# regeneratiob\n",
    "adata_10DPIs = sc.read_h5ad(\"/Volumes/My Passport /phd/hackathon/spatialde/data/development_stereoseq/10DPIs.h5ad\")\n",
    "adata_15DPIs = sc.read_h5ad(\"/Volumes/My Passport /phd/hackathon/spatialde/data/development_stereoseq/15DPIs.h5ad\")\n",
    "adata_20DPIs = sc.read_h5ad(\"/Volumes/My Passport /phd/hackathon/spatialde/data/development_stereoseq/20DPIs.h5ad\")\n",
    "adata_2DPIs = sc.read_h5ad(\"/Volumes/My Passport /phd/hackathon/spatialde/data/development_stereoseq/2DPIs.h5ad\")\n",
    "adata_5DPIs = sc.read_h5ad(\"/Volumes/My Passport /phd/hackathon/spatialde/data/development_stereoseq/5DPIs.h5ad\")"
   ]
  },
  {
   "cell_type": "code",
   "execution_count": 22,
   "id": "e31e9c49-b725-4466-8bb1-9025b92063ec",
   "metadata": {},
   "outputs": [],
   "source": [
    "adata_60DPIs = sc.read_h5ad(\"/Volumes/My Passport /phd/hackathon/spatialde/data/development_stereoseq/60DPI.h5ad\")\n",
    "adata_30DPIs = sc.read_h5ad(\"/Volumes/My Passport /phd/hackathon/spatialde/data/development_stereoseq/30DPI.h5ad\")\n",
    "\n",
    "# development\n",
    "adata_Adult = sc.read_h5ad(\"/Volumes/My Passport /phd/hackathon/spatialde/data/development_stereoseq/Adult.h5ad\")\n",
    "adata_Stage44 = sc.read_h5ad(\"/Volumes/My Passport /phd/hackathon/spatialde/data/development_stereoseq/Stage44.h5ad\")\n",
    "adata_Stage54 = sc.read_h5ad(\"/Volumes/My Passport /phd/hackathon/spatialde/data/development_stereoseq/Stage54.h5ad\")\n",
    "adata_Stage57 = sc.read_h5ad(\"/Volumes/My Passport /phd/hackathon/spatialde/data/development_stereoseq/Stage57.h5ad\")"
   ]
  },
  {
   "cell_type": "code",
   "execution_count": 26,
   "id": "d6d95ccd-4056-4068-ade5-e55e69a90bb4",
   "metadata": {},
   "outputs": [
    {
     "name": "stderr",
     "output_type": "stream",
     "text": [
      "/Users/mayar.ali/opt/anaconda3/envs/gc_test/lib/python3.10/site-packages/anndata/_core/anndata.py:1906: UserWarning: Observation names are not unique. To make them unique, call `.obs_names_make_unique`.\n",
      "  utils.warn_names_duplicates(\"obs\")\n"
     ]
    }
   ],
   "source": [
    "adata_d = sc.read_h5ad(\"/Volumes/My Passport /phd/hackathon/spatialde/data/development_stereoseq/Development.h5ad\")"
   ]
  },
  {
   "cell_type": "code",
   "execution_count": 28,
   "id": "314b4d94-ddc2-417b-97fa-99ed56bffb6d",
   "metadata": {},
   "outputs": [
    {
     "name": "stderr",
     "output_type": "stream",
     "text": [
      "/Users/mayar.ali/opt/anaconda3/envs/gc_test/lib/python3.10/site-packages/anndata/_core/anndata.py:1906: UserWarning: Observation names are not unique. To make them unique, call `.obs_names_make_unique`.\n",
      "  utils.warn_names_duplicates(\"obs\")\n"
     ]
    }
   ],
   "source": [
    "adata_reg = sc.read_h5ad(\"/Volumes/My Passport /phd/hackathon/spatialde/data/development_stereoseq/Regeneration.h5ad\")"
   ]
  },
  {
   "cell_type": "code",
   "execution_count": 31,
   "id": "51a582d8-637c-439f-b9f2-ffa9c920c4d9",
   "metadata": {},
   "outputs": [
    {
     "data": {
      "text/plain": [
       "AnnData object with n_obs × n_vars = 78123 × 16379\n",
       "    obs: 'CellID', 'spatial_leiden_e30_s8', 'Batch', 'cell_id', 'seurat_clusters', 'inj_uninj', 'D_V', 'Annotation'\n",
       "    var: 'Gene'\n",
       "    uns: 'Annotation_colors', 'Injury_10DPI_rep1_SS200000147BL_B5', 'Injury_15DPI_rep4_FP200000266TR_E4', 'Injury_20DPI_rep2_SS200000147BL_B4', 'Injury_2DPI_rep1_SS200000147BL_D5', 'Injury_30DPI_rep2_FP200000264BL_A6', 'Injury_5DPI_rep1_SS200000147BL_D2', 'Injury_60DPI_rep3_FP200000264BL_A6', 'Injury_control_FP200000239BL_E3', 'angle_dict'\n",
       "    obsm: 'X_pca', 'X_spatial', 'spatial'\n",
       "    layers: 'counts'"
      ]
     },
     "execution_count": 31,
     "metadata": {},
     "output_type": "execute_result"
    }
   ],
   "source": [
    "adata_reg"
   ]
  },
  {
   "cell_type": "code",
   "execution_count": 24,
   "id": "d3b28d7a-a92c-426e-a03a-ce108602fd05",
   "metadata": {},
   "outputs": [
    {
     "name": "stderr",
     "output_type": "stream",
     "text": [
      "/Users/mayar.ali/opt/anaconda3/envs/gc_test/lib/python3.10/site-packages/anndata/_core/anndata.py:1906: UserWarning: Observation names are not unique. To make them unique, call `.obs_names_make_unique`.\n",
      "  utils.warn_names_duplicates(\"obs\")\n"
     ]
    }
   ],
   "source": [
    "adata_subset = anndata.concat([adata_30DPIs, adata_60DPIs, adata_Adult])"
   ]
  },
  {
   "cell_type": "code",
   "execution_count": 34,
   "id": "3c956e56-13cd-4ffd-9296-4be1f2a297c3",
   "metadata": {},
   "outputs": [
    {
     "name": "stderr",
     "output_type": "stream",
     "text": [
      "/Users/mayar.ali/opt/anaconda3/envs/gc_test/lib/python3.10/site-packages/anndata/_core/anndata.py:1906: UserWarning: Observation names are not unique. To make them unique, call `.obs_names_make_unique`.\n",
      "  utils.warn_names_duplicates(\"obs\")\n"
     ]
    }
   ],
   "source": [
    "adata_regeneration = anndata.concat([adata_2DPIs, adata_5DPIs, adata_10DPIs, adata_15DPIs, adata_20DPIs, adata_30DPIs, adata_60DPIs])"
   ]
  },
  {
   "cell_type": "code",
   "execution_count": 33,
   "id": "986d062f-bede-488c-81a7-5f72eeb03d22",
   "metadata": {},
   "outputs": [
    {
     "name": "stderr",
     "output_type": "stream",
     "text": [
      "/Users/mayar.ali/opt/anaconda3/envs/gc_test/lib/python3.10/site-packages/anndata/_core/anndata.py:1906: UserWarning: Observation names are not unique. To make them unique, call `.obs_names_make_unique`.\n",
      "  utils.warn_names_duplicates(\"obs\")\n"
     ]
    }
   ],
   "source": [
    "adata_development = anndata.concat([adata_Stage44, adata_Stage54, adata_Stage57, adata_Adult])"
   ]
  },
  {
   "cell_type": "code",
   "execution_count": 35,
   "id": "453c16f2-cb92-437f-a435-42fca3b0b3b3",
   "metadata": {},
   "outputs": [],
   "source": [
    "adata_subset.write_h5ad(\"/Volumes/My Passport /phd/hackathon/spatialde/data/to_upload/stereoseq_axolotl_subset.h5ad\")\n",
    "adata_development.write_h5ad(\"/Volumes/My Passport /phd/hackathon/spatialde/data/to_upload/stereoseq_axolotl_development.h5ad\")\n",
    "adata_regeneration.write_h5ad(\"/Volumes/My Passport /phd/hackathon/spatialde/data/to_upload/stereoseq_axolotl_regeneration.h5ad\")"
   ]
  },
  {
   "cell_type": "code",
   "execution_count": null,
   "id": "d3ba7667-2315-452f-8dfe-da7e1291b8c7",
   "metadata": {},
   "outputs": [],
   "source": []
  }
 ],
 "metadata": {
  "kernelspec": {
   "display_name": "Python 3 (ipykernel)",
   "language": "python",
   "name": "python3"
  },
  "language_info": {
   "codemirror_mode": {
    "name": "ipython",
    "version": 3
   },
   "file_extension": ".py",
   "mimetype": "text/x-python",
   "name": "python",
   "nbconvert_exporter": "python",
   "pygments_lexer": "ipython3",
   "version": "3.10.0"
  }
 },
 "nbformat": 4,
 "nbformat_minor": 5
}
