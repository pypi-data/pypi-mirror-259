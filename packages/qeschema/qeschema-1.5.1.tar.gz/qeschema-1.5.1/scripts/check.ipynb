{
 "cells": [
  {
   "cell_type": "code",
   "execution_count": 1,
   "id": "156c3deb",
   "metadata": {},
   "outputs": [],
   "source": [
    "import qeschema"
   ]
  }
 ],
 "metadata": {},
 "nbformat": 4,
 "nbformat_minor": 5
}
