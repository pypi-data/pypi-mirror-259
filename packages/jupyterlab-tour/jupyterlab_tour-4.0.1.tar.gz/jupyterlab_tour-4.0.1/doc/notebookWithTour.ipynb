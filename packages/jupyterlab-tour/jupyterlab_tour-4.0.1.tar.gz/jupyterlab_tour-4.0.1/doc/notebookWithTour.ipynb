{
 "cells": [
  {
   "cell_type": "markdown",
   "id": "90059e31-0afa-4198-bd32-bc5d77ab8790",
   "metadata": {},
   "source": [
    "# Tour embedded in notebook\n",
    "\n",
    "This notebook demonstrates how to embed a tour in notebook metadata."
   ]
  }
 ],
 "metadata": {
  "jupyterlab-tour": {
   "tours": [
    {
     "hasHelpEntry": true,
     "id": "test-jupyterlab-tour:welcome",
     "label": "Welcome Tour",
     "steps": [
      {
       "content": "Tours of Jupyter",
       "placement": "auto",
       "target": "#jp-MainLogo",
       "title": "Jupyter"
      },
      {
       "content": "The following tour will point out some of the main UI components within JupyterLab.",
       "placement": "right",
       "target": "#jp-main-dock-panel",
       "title": "Welcome to Jupyter Lab!"
      },
      {
       "content": "This is the main content area where notebooks and other content can be viewed and edited.",
       "placement": "center",
       "target": "#jp-main-dock-panel",
       "title": "Main Content"
      }
     ]
    }
   ]
  },
  "kernelspec": {
   "display_name": "Python 3 (ipykernel)",
   "language": "python",
   "name": "python3"
  },
  "language_info": {
   "codemirror_mode": {
    "name": "ipython",
    "version": 3
   },
   "file_extension": ".py",
   "mimetype": "text/x-python",
   "name": "python",
   "nbconvert_exporter": "python",
   "pygments_lexer": "ipython3",
   "version": "3.11.5"
  }
 },
 "nbformat": 4,
 "nbformat_minor": 5
}
