{
 "cells": [
  {
   "cell_type": "markdown",
   "metadata": {},
   "source": [
    "(starry)=\n",
    "\n",
    "# Starry light curve\n",
    "\n",
    "```{warning}\n",
    "Experimental features!\n",
    "```\n",
    "\n",
    "```{warning}\n",
    "Notebook under construction!\n",
    "```\n",
    "\n",
    "*jaxoplanet* aims to match the features of starry, a framework to compute the light curves of systems made of of non-uniform spherical bodies. In this small tutorial we demonstrate some of these features.\n",
    "\n",
    "\n",
    "We start by defining two bodies and their associated surface maps"
   ]
  },
  {
   "cell_type": "code",
   "execution_count": null,
   "metadata": {},
   "outputs": [],
   "source": [
    "import numpy as np\n",
    "\n",
    "from jaxoplanet.orbits.keplerian import Central\n",
    "from jaxoplanet.experimental.starry import Map, Ylm, show_map\n",
    "from jaxoplanet.experimental.starry.orbit import SurfaceMapSystem\n",
    "\n",
    "y = Ylm.from_dense(np.hstack([1.0, np.random.rand(10) * 1e-1]))\n",
    "central_map = Map(y=y, inc=0.9, obl=-0.3, period=1.2, u=[0.5, 0.5])\n",
    "central = Central(radius=1.0, mass=0.8)\n",
    "\n",
    "y = Ylm.from_dense(np.hstack([1.0, np.random.rand(10) * 0.3]))\n",
    "body_map = Map(y=y, inc=2.5, obl=0.3, period=-0.8, u=[0.5, 0.3], amplitude=0.6)\n",
    "system = SurfaceMapSystem(central, central_map).add_body(\n",
    "    radius=0.5, mass=0.6, period=1.0, surface_map=body_map\n",
    ")"
   ]
  },
  {
   "cell_type": "code",
   "execution_count": null,
   "metadata": {},
   "outputs": [],
   "source": [
    "system"
   ]
  },
  {
   "cell_type": "markdown",
   "metadata": {},
   "source": [
    "These maps can be shown with"
   ]
  },
  {
   "cell_type": "code",
   "execution_count": null,
   "metadata": {},
   "outputs": [],
   "source": [
    "import matplotlib.pyplot as plt\n",
    "\n",
    "\n",
    "def lim():\n",
    "    radius = central.radius.magnitude\n",
    "    plt.xlim(-radius, radius)\n",
    "    plt.ylim(-radius, radius)\n",
    "\n",
    "\n",
    "plt.figure(figsize=(6, 3))\n",
    "plt.subplot(121)\n",
    "show_map(central_map, vmax=0.4)\n",
    "plt.title(\"Central map\")\n",
    "lim()\n",
    "plt.subplot(122)\n",
    "show_map(system.surface_maps[0], vmax=0.4)\n",
    "lim()\n",
    "plt.title(\"Body map\")\n",
    "_ = plt.tight_layout()"
   ]
  },
  {
   "cell_type": "code",
   "execution_count": null,
   "metadata": {},
   "outputs": [],
   "source": [
    "from jaxoplanet.experimental.starry.light_curves import light_curve\n",
    "\n",
    "time = np.linspace(-2.0, 2.0, 1000)\n",
    "flux = light_curve(system)(time)\n",
    "\n",
    "plt.figure(figsize=(12, 4))\n",
    "_ = plt.plot(flux, c=\"k\")"
   ]
  },
  {
   "cell_type": "code",
   "execution_count": null,
   "metadata": {},
   "outputs": [],
   "source": []
  }
 ],
 "metadata": {
  "kernelspec": {
   "display_name": "Python 3 (ipykernel)",
   "language": "python",
   "name": "python3"
  },
  "language_info": {
   "codemirror_mode": {
    "name": "ipython",
    "version": 3
   },
   "file_extension": ".py",
   "mimetype": "text/x-python",
   "name": "python",
   "nbconvert_exporter": "python",
   "pygments_lexer": "ipython3",
   "version": "3.10.10"
  }
 },
 "nbformat": 4,
 "nbformat_minor": 4
}
